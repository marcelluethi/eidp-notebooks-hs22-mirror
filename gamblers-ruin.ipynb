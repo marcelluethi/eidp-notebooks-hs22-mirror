{
 "cells": [
  {
   "cell_type": "markdown",
   "metadata": {},
   "source": [
    "# Der Ruin des Spielers\n",
    "\n",
    "\n",
    "In dieser Fallstudie studieren wir unsere Gewinnchancen beim Spielen im Casino. Insbesondere wollen wir am Ende folgende Frage beantworten können:\n",
    "*Wenn wir mit einem bestimmten Anfangsbudget ins Casino gehen und unser Ziel ist, einen bestimmten Gewinn zu erzielen. In wie vielen Fällen gelingt uns dies, und in wie vielen Fällen sind wir zuvor ruiniert*.\n",
    "\n",
    "Dabei werden wir sehen, wie uns Funktionen und Prozeduren helfen eine Aufgabe zu strukturieren. \n",
    "Zudem lernen wir auch, wie wir in einer Simulation Zufallszahlen nutzen können. \n"
   ]
  },
  {
   "cell_type": "markdown",
   "metadata": {},
   "source": [
    "### Zufallszahlen generieren"
   ]
  },
  {
   "cell_type": "markdown",
   "metadata": {},
   "source": [
    "Jede Programmiersprache stellt uns Funktionalität zur Verfügung, um zufällige Zahlen zu generieren. Um zufällige Zahlen in Python zu generieren nutzen wir die Bibliothek ```random```, die wir aber zuerst importieren müssen. "
   ]
  },
  {
   "cell_type": "code",
   "execution_count": 8,
   "metadata": {},
   "outputs": [],
   "source": [
    "import random"
   ]
  },
  {
   "cell_type": "markdown",
   "metadata": {},
   "source": [
    "Mithilfe der Funktion ```random.randint(a, b)``` können wir eine zufällige Ganzahl im Interval $[a, b]$ generieren. \n",
    "Das Modul stellt auch viele weitere Funktionen zur Verfügung, die Sie in der [Dokumentation](https://python.readthedocs.io/en/stable/library/random.html) finden. Wir brauchen hier nur diese eine Funktion. "
   ]
  },
  {
   "cell_type": "code",
   "execution_count": 19,
   "metadata": {},
   "outputs": [
    {
     "data": {
      "text/plain": [
       "9"
      ]
     },
     "execution_count": 19,
     "metadata": {},
     "output_type": "execute_result"
    }
   ],
   "source": [
    "random.randint(0, 10)"
   ]
  },
  {
   "cell_type": "markdown",
   "metadata": {},
   "source": [
    "Wir sehen, dass wenn wir diese Funktion mehrmals ausführen, dass jedes Mal ein anderer Wert erzeugt wird. Mittels einer Schleife, können wir so viele verschiedene, zufällige Werte generieren. "
   ]
  },
  {
   "cell_type": "code",
   "execution_count": 21,
   "metadata": {},
   "outputs": [
    {
     "name": "stdout",
     "output_type": "stream",
     "text": [
      "6 , 7 , 6 , 9 , 1 , 9 , 4 , 4 , 1 , 8 , 6 , 9 , 7 , 6 , 4 , 0 , 1 , 2 , 3 , 5 , 9 , 1 , 10 , 4 , 8 , 9 , 7 , 1 , 8 , 3 , 2 , 1 , 1 , 3 , 4 , 10 , 4 , 8 , 7 , 10 , "
     ]
    }
   ],
   "source": [
    "# Ihr Code\n",
    "i = 0\n",
    "while i < 40:\n",
    "    print(random.randint(0, 10), \", \", end=\"\")\n",
    "    i = i + 1"
   ]
  },
  {
   "cell_type": "markdown",
   "metadata": {},
   "source": [
    "### Ein Spiel simulieren"
   ]
  },
  {
   "cell_type": "markdown",
   "metadata": {},
   "source": [
    "Nun nutzen wir diese Zufallsfunktion um ein [Roulettespiel](https://de.wikipedia.org/wiki/Roulette) zu simulieren. Wir schreiben uns dafür eine Funktion. Diese bekommt als Argument unseren Einsatz, und gibt unseren Gewinn zurück. Der Gewinn ist zwei mal der Einsatz, oder 0 falls wir nicht gewinnen. Wir setzen dabei immer nur auf eine der Farben und schliessen nie andere Wetten ab.\n",
    "Da es keinen Unterschied für die Gewinnchancen macht ob wir auf Rot oder Schwarz setzen, bilden wir dies in unserer Funktion nicht ab. Wir implementieren nur die Tatsache, dass wir in 19 von 37 Fällen verlieren und in 18 gewinnen. "
   ]
  },
  {
   "cell_type": "code",
   "execution_count": 22,
   "metadata": {},
   "outputs": [],
   "source": [
    "# Simuliert ein Spiel. \n",
    "# Nimmt den Einsatz als Argument bet\n",
    "# Gibt 2 * den Eisnatz zurück bei Gewinn, ansonsten 0\n",
    "def play_game(bet):\n",
    "    random_number = random.randint(0, 36)\n",
    "    if random_number == 0: # Bank gewinnt\n",
    "        return 0\n",
    "    elif random_number <= 18: # Schwarz, Bank gewinnt\n",
    "        return 0\n",
    "    else:        # Rot, Wir gewinnen\n",
    "        return 2 * bet"
   ]
  },
  {
   "cell_type": "code",
   "execution_count": 31,
   "metadata": {},
   "outputs": [
    {
     "data": {
      "text/plain": [
       "20"
      ]
     },
     "execution_count": 31,
     "metadata": {},
     "output_type": "execute_result"
    }
   ],
   "source": [
    "play_game(10)\n"
   ]
  },
  {
   "cell_type": "markdown",
   "metadata": {},
   "source": [
    "### Der Durchschnittliche Gewinn"
   ]
  },
  {
   "cell_type": "markdown",
   "metadata": {},
   "source": [
    "Die vielleicht einfachste, aber dennoch interessante Frage ist, wieviel Geld wir im Durchschnitt gewinnen. Bei diesem einfachen Spiel könnten wir dies noch ohne Programm überprüfen. Bei komplexeren Spielen, ist es dann aber oft einfacher eine Simulation zu schreiben. Wir wollen nun `n` Spiele mit dem immer gleichen Einsatz `bet` simulieren."
   ]
  },
  {
   "cell_type": "code",
   "execution_count": 45,
   "metadata": {},
   "outputs": [],
   "source": [
    "def average_of_n_games(n, bet):\n",
    "    cumulated_win = 0\n",
    "    i = 0\n",
    "    while i < n:\n",
    "        cumulated_win = cumulated_win - bet + play_game(bet)\n",
    "        i = i + 1\n",
    "    return cumulated_win / n"
   ]
  },
  {
   "cell_type": "markdown",
   "metadata": {},
   "source": [
    "Wir können nun überprüfen, dass wenn ```n``` gross wird, wir immer einen Verlust einfahren werden. Dies ist der Gewinn des Casinos. Je grösser die Anzahl Spieler, desto stabiler der Gewinn. "
   ]
  },
  {
   "cell_type": "code",
   "execution_count": 46,
   "metadata": {},
   "outputs": [
    {
     "data": {
      "text/plain": [
       "0.42"
      ]
     },
     "execution_count": 46,
     "metadata": {},
     "output_type": "execute_result"
    }
   ],
   "source": [
    "average_of_n_games(1000, 10)"
   ]
  },
  {
   "cell_type": "markdown",
   "metadata": {},
   "source": [
    "### Spielen mit Zielbetrag"
   ]
  },
  {
   "cell_type": "markdown",
   "metadata": {},
   "source": [
    "Statt auf ein einziges Spiel, fokussieren wir uns nun auf eine Serie von Spielen. Dabei verwenden wir die folgende Strategie:\n",
    "- Wir spielen so lange weiter, bis wir einen bestimmten Zielbetrag erreicht haben.\n",
    "- Wenn wir aber kein Geld mehr haben, dann müssen wir aufhören zu spielen.\n",
    "\n",
    "Da wir schon die Funktion ```play_game``` geschrieben haben, können wir diese hier wiederverwenden. Wir nutzen diese Funktion als *black box*, d.h. wir müssen gar nicht wissen, wie die Funktion implementiert ist oder welches Spiel da eigentlich simuliert wird. Wichtig ist nur, dass wir wissen, wie wir die Funktion aufrufen und dass der Rückgabewert jeweils unser Gewinn oder Verlust ist.\n",
    "\n",
    "Die folgende Funktion soll dann `True` zurück geben wenn wir das Ziel erreicht haben oder `False` wenn wir bankkrott sind."
   ]
  },
  {
   "cell_type": "code",
   "execution_count": 49,
   "metadata": {},
   "outputs": [],
   "source": [
    "# Gibt True zurück falls Ziel erreicht wurde, sonst False\n",
    "def play_until_target_reached_or_ruined(initial_amount, bet, target_amount):\n",
    "    balance = initial_amount\n",
    "    \n",
    "    while balance >= bet and balance < target_amount:\n",
    "        balance = balance - bet\n",
    "        balance = balance + play_game(bet)\n",
    "        \n",
    "    return balance >= target_amount    "
   ]
  },
  {
   "cell_type": "code",
   "execution_count": 61,
   "metadata": {},
   "outputs": [
    {
     "data": {
      "text/plain": [
       "True"
      ]
     },
     "execution_count": 61,
     "metadata": {},
     "output_type": "execute_result"
    }
   ],
   "source": [
    "play_until_target_reached_or_ruined(100, 10, 110)"
   ]
  },
  {
   "cell_type": "markdown",
   "metadata": {},
   "source": [
    "### Simulation - Wie viele Spiele gewinnen wir im Schnitt"
   ]
  },
  {
   "cell_type": "markdown",
   "metadata": {},
   "source": [
    "Zum Schluss schreiben wir uns eine Funktion, die uns eine Anzahl Versuche simuliert und dabei zählt, wie oft wir unser Ziel erreichen und wie oft wir bankkrott gehen. Auch hier nutzen wir nun wieder die zuvor definierte Funktion."
   ]
  },
  {
   "cell_type": "code",
   "execution_count": 62,
   "metadata": {},
   "outputs": [],
   "source": [
    "# Ihr Code\n",
    "def count_wins_in_n_games(n, initial_amount, bet_per_game, target_amount):\n",
    "    num_wins = 0\n",
    "    \n",
    "    i = 0\n",
    "    while i < n:\n",
    "        haveWon = play_until_target_reached_or_ruined(initial_amount, bet_per_game, target_amount)\n",
    "        if haveWon:\n",
    "            num_wins = num_wins + 1\n",
    "        i = i + 1\n",
    "    return num_wins"
   ]
  },
  {
   "cell_type": "markdown",
   "metadata": {},
   "source": [
    "Nun können wir in der Simulation austesten, wie erfolgsversprechend unsere Strategie ist."
   ]
  },
  {
   "cell_type": "code",
   "execution_count": null,
   "metadata": {},
   "outputs": [],
   "source": [
    "# Ihre Code\n",
    "count_wins_in_n_games(1000, 1000, 100, 2500)"
   ]
  },
  {
   "cell_type": "markdown",
   "metadata": {},
   "source": [
    "### Warnung"
   ]
  },
  {
   "cell_type": "markdown",
   "metadata": {},
   "source": [
    "Haben wir tatsächlich eine Strategie gefunden, mit der wir das Casino überlisten können?\n",
    "\n",
    "Um dies herauszufinden können wir den Gewinn und Verlust aus allen Spielen abschätzen und aufsummieren:"
   ]
  },
  {
   "cell_type": "code",
   "execution_count": 70,
   "metadata": {},
   "outputs": [
    {
     "ename": "KeyboardInterrupt",
     "evalue": "",
     "output_type": "error",
     "traceback": [
      "\u001b[1;31m---------------------------------------------------------------------------\u001b[0m",
      "\u001b[1;31mKeyboardInterrupt\u001b[0m                         Traceback (most recent call last)",
      "\u001b[1;32m~\\AppData\\Local\\Temp/ipykernel_4748/3500779991.py\u001b[0m in \u001b[0;36m<module>\u001b[1;34m\u001b[0m\n\u001b[0;32m      1\u001b[0m \u001b[1;31m# Ihr Code\u001b[0m\u001b[1;33m\u001b[0m\u001b[1;33m\u001b[0m\u001b[1;33m\u001b[0m\u001b[0m\n\u001b[0;32m      2\u001b[0m \u001b[1;32mwhile\u001b[0m \u001b[1;32mTrue\u001b[0m\u001b[1;33m:\u001b[0m\u001b[1;33m\u001b[0m\u001b[1;33m\u001b[0m\u001b[0m\n\u001b[1;32m----> 3\u001b[1;33m     \u001b[1;32mpass\u001b[0m\u001b[1;33m\u001b[0m\u001b[1;33m\u001b[0m\u001b[0m\n\u001b[0m",
      "\u001b[1;31mKeyboardInterrupt\u001b[0m: "
     ]
    }
   ],
   "source": [
    "# Ihr Code\n",
    "while True:\n",
    "    pass"
   ]
  },
  {
   "cell_type": "markdown",
   "metadata": {},
   "source": [
    "Sie sehen, das Casino gewinnt immer. Sie können dort viel Spass haben, jedoch nicht zuverlässig Geld verdienen."
   ]
  }
 ],
 "metadata": {
  "kernelspec": {
   "display_name": "Python 3 (ipykernel)",
   "language": "python",
   "name": "python3"
  },
  "language_info": {
   "codemirror_mode": {
    "name": "ipython",
    "version": 3
   },
   "file_extension": ".py",
   "mimetype": "text/x-python",
   "name": "python",
   "nbconvert_exporter": "python",
   "pygments_lexer": "ipython3",
   "version": "3.7.4"
  },
  "toc": {
   "base_numbering": 1,
   "nav_menu": {},
   "number_sections": false,
   "sideBar": false,
   "skip_h1_title": false,
   "title_cell": "Table of Contents",
   "title_sidebar": "Contents",
   "toc_cell": false,
   "toc_position": {},
   "toc_section_display": false,
   "toc_window_display": false
  }
 },
 "nbformat": 4,
 "nbformat_minor": 2
}
