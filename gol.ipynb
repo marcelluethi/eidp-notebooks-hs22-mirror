{
 "cells": [
  {
   "cell_type": "markdown",
   "id": "5a1e1c4d",
   "metadata": {},
   "source": [
    "# Das Spiel des Lebens - Conway's Game of Life"
   ]
  },
  {
   "cell_type": "markdown",
   "id": "38277fe8",
   "metadata": {},
   "source": [
    "In dieser Fallstudie werden wir das berühmnte *Game of Life* von John Horton Conway implementieren. Dieses Single-Player-Game simuliert, wie sich eine Population von einfachen Zellen mit der Zeit ausbreitet und sich zu neuen, komplexeren Organismen verbindet. Das Regelwerk des Spiels bestimmt, wann neue lebende Zellen entstehen, und unter welchen Bedingungen Zellen sterben. Die Regeln sind extrem einfach. Das faszinierende an diesem Spiel ist zu beobachten, wie sich aus zufälligen Initialkonfigurationen stabile Muster (Organismen) bilden. Dabei sind der Komplexität kaum Grenzen gesetzt. Faszinierende Beispiele für Interessierte finden sich zum Beispiel auf [dieser Seite](https://beltoforion.de/en/game_of_life/)."
   ]
  },
  {
   "cell_type": "markdown",
   "id": "01303449",
   "metadata": {},
   "source": [
    "Für diese Fallstudie benötigen wir einige Funktionen, welche wir als erstes Importieren müssen. "
   ]
  },
  {
   "cell_type": "code",
   "execution_count": 3,
   "id": "68031322",
   "metadata": {},
   "outputs": [],
   "source": [
    "from matplotlib.pyplot import *             # Plotten des Spiels\n",
    "from random import random                   # Generieren von Zufallszahlen\n",
    "from IPython.display import clear_output    # Steuern der Ausgabe in Jupyter-Notebooks"
   ]
  },
  {
   "cell_type": "markdown",
   "id": "c0390157",
   "metadata": {},
   "source": [
    "### Das Spielfeld\n",
    "\n",
    "Das Spielfeld im Game of Life ist eine (zweidimensionale) Matrix von Feldern. Jedes Feld entspricht dabei einer Zelle. Eine Zelle kann dabei jeweils aktiv oder tot sein. Wir modellieren dieses Spiel mit einer Liste von Listen von Zahlen, wobei die Zahl 1 eine lebendige Zelle definiert und die Zahl 0 eine tote Zelle. \n",
    "\n",
    "Zu beginn des Spiels erzeugen wir ein Spielfeld von einer festen Grösse. Jede Zelle wird zufällig mit 0 oder 1 initialisiert, wobei wir die Wahrscheilichkeit eine lebendige Zelle zu erzeugen als Parameter angeben können. \n",
    "Um zufällig eine 0 oder 1 zu erzeugen mit einer bestimmten Wahrscheinlichkeit zu erzeugen nutzen wir folgende Funktion:"
   ]
  },
  {
   "cell_type": "code",
   "execution_count": 17,
   "id": "2d852d39",
   "metadata": {},
   "outputs": [],
   "source": [
    "def randomCell(alive_probability):\n",
    "    r = random() # gibt eine Zufallszahl zwischen 0 und 1 zurück\n",
    "    if r < alive_probability:\n",
    "        return 1\n",
    "    else:\n",
    "        return 0"
   ]
  },
  {
   "cell_type": "markdown",
   "id": "88bdfe67",
   "metadata": {},
   "source": [
    "Nun schreiben wir uns eine Funktion, die Spielfeld mit ```m``` Zeilen und ```n``` Spalten erzeugt:\n"
   ]
  },
  {
   "cell_type": "code",
   "execution_count": 47,
   "id": "7c7064fd",
   "metadata": {},
   "outputs": [],
   "source": [
    "def create_grid(m, n):\n",
    "    grid = []\n",
    "    for i in range(0, m):\n",
    "        row = [0]*m            \n",
    "        grid.append(row)\n",
    "    return grid"
   ]
  },
  {
   "cell_type": "markdown",
   "id": "e58bb4d1",
   "metadata": {},
   "source": [
    "Ausserdem schreiben wir uns eine Prozedur, welche ein Spielfeld als Argument entgegennimmt, und die Zellen zufällig, gemäss einer angegebenen Wahrscheinlichkeit setzt. "
   ]
  },
  {
   "cell_type": "code",
   "execution_count": 67,
   "id": "10a474fe",
   "metadata": {},
   "outputs": [],
   "source": [
    "def initialize_population(grid, alive_probability):\n",
    "    pass # Ihre Implementation"
   ]
  },
  {
   "cell_type": "markdown",
   "id": "83a65f5b",
   "metadata": {},
   "source": [
    "Wir nutzen die Funktion ```create_grid``` zusammen mit der Prozedur ```initialize_population``` um eine Funktion ```initial_grid``` zu implementieren, welche uns ein initiales Spielfeld der Grösse ```m``` mal ```n``` erzeugt und die Zellen zufällig mit der gegebenen Wahrscheinlichkeit initialisiert. "
   ]
  },
  {
   "cell_type": "code",
   "execution_count": 36,
   "id": "93abb4d2",
   "metadata": {},
   "outputs": [],
   "source": [
    "def initial_grid(m, n, alive_probabability):\n",
    "    grid = create_grid(m, n)\n",
    "    initialize_population(grid, alive_probabability)\n",
    "    return grid"
   ]
  },
  {
   "cell_type": "markdown",
   "id": "1ff02ff7",
   "metadata": {},
   "source": [
    "Mit dem Befehl ```imshow``` können wir das Spielfeld visualisieren."
   ]
  },
  {
   "cell_type": "code",
   "execution_count": 38,
   "id": "480b5a6a",
   "metadata": {},
   "outputs": [
    {
     "data": {
      "text/plain": [
       "<matplotlib.image.AxesImage at 0x263795f2a88>"
      ]
     },
     "execution_count": 38,
     "metadata": {},
     "output_type": "execute_result"
    },
    {
     "data": {
      "image/png": "[encoded data removed]",
      "text/plain": [
       "<Figure size 432x288 with 1 Axes>"
      ]
     },
     "metadata": {
      "needs_background": "light"
     },
     "output_type": "display_data"
    }
   ],
   "source": [
    "imshow(initial_grid(15, 15, 0.1))"
   ]
  },
  {
   "cell_type": "markdown",
   "id": "e01e04fe",
   "metadata": {},
   "source": [
    "### Entwicklung des Lebens\n",
    "\n",
    "Wir simulieren im folgenden ```n``` Zeitschritte im Spiel. In jedem Zeitschritt werden die Zellen nach folgenden Regeln aktualisiert:\n",
    "\n",
    "1. Eine tote Zelle mit genau drei lebenden Nachbarn wird in der Folgegeneration neu geboren.\n",
    "2. Lebende Zellen mit weniger als zwei lebenden Nachbarn sterben in der Folgegeneration an Einsamkeit.\n",
    "3. Eine lebende Zelle mit zwei oder drei lebenden Nachbarn bleibt in der Folgegeneration am Leben.\n",
    "4. Lebende Zellen mit mehr als drei lebenden Nachbarn sterben in der Folgegeneration an Überbevölkerung.\n",
    "\n",
    "Wir sehen, dass wir für jede Regeln nur an jeder Position die Anzahl Nachbarn einer Zelle wissen müssen. Wir schreiben uns eine Funktion, die genau das macht:\n",
    "\n",
    "  \t\t"
   ]
  },
  {
   "cell_type": "code",
   "execution_count": 39,
   "id": "031b4b20",
   "metadata": {},
   "outputs": [],
   "source": [
    "def count_alive_neighbors(grid, i, j):\n",
    "    neighbors = [\n",
    "        (i - 1, j - 1), (i, j - 1), (i + 1, j - 1), \n",
    "        (i - 1, j ), (i + 1, j ),\n",
    "        (i - 1, j + 1), (i, j + 1), (i + 1, j + 1)]\n",
    "    num_alive_neighbors = 0\n",
    "    for (ni, nj) in neighbors:\n",
    "        if ni >= 0 and nj >= 0 and ni < len(grid) and nj < len(grid[0]) and grid[ni][nj] == 1:\n",
    "            num_alive_neighbors = num_alive_neighbors +  1\n",
    "    return num_alive_neighbors\n",
    "        "
   ]
  },
  {
   "cell_type": "markdown",
   "id": "cdcf8e04",
   "metadata": {},
   "source": [
    "Mit dieser Hilfsfunktion ist es nun einfach einen Zeitschritt in unserem Spiel zu simulieren. Wir iterieren durch alle Zellen und setzen in der nächsten Generation die Zelle nach den oben beschriebenen Regeln auf lebendig oder tot. Wir müssen die neuen Zellen in ein neues Spielfeld schreiben, da wir sonst während dem aktualisieren ja den Spielzustand ändern würden. Das Resultat der Funktion ist ein neues Spielfeld, mit einer neuen Generation von Zellen. "
   ]
  },
  {
   "cell_type": "code",
   "execution_count": 68,
   "id": "ad564fd2",
   "metadata": {},
   "outputs": [],
   "source": [
    "def next_gen(grid):\n",
    "    new_grid = create_grid(len(grid), len(grid[0]))\n",
    " \n",
    "    # Implementieren Sie die Regeln\n",
    "    \n",
    "    return new_grid\n",
    "            \n",
    "          "
   ]
  },
  {
   "cell_type": "markdown",
   "id": "54c5e39d",
   "metadata": {},
   "source": [
    "### Die Simulation"
   ]
  },
  {
   "cell_type": "markdown",
   "id": "cd92df38",
   "metadata": {},
   "source": [
    "Nun können wir das Spiel simulieren. Wir beginnen mit einem zufälligen Spielfeld und entwickeln dies dann über eine angegebene Anzahl iterationen. In jeder Iteration stellen wir das Resultat grafisch dar. Damit es nicht zu schnell geht, weisen wir Python mit dem Befehl ```thread.sleep(1)``` an jeweils 1 Sekunden Pause zu machen. Mit dem Befehl ```clear_output(wait=True)``` können wir die Ausgabe in jeder Iteration löschen, um Platz für die nächste Ausgabe zu schaffen. "
   ]
  },
  {
   "cell_type": "code",
   "execution_count": null,
   "id": "a35bb71d",
   "metadata": {},
   "outputs": [
    {
     "data": {
      "image/png": "[encoded data removed]",
      "text/plain": [
       "<Figure size 720x720 with 1 Axes>"
      ]
     },
     "metadata": {
      "needs_background": "light"
     },
     "output_type": "display_data"
    }
   ],
   "source": [
    "grid = initial_grid(50, 50, 0.2)\n",
    "for i in range(0, 1000):\n",
    "    grid = next_gen(grid)\n",
    "    figure(figsize=(10, 10))\n",
    "    imshow(grid)\n",
    "    title('Frame %d' % i)\n",
    "    show()\n",
    "    time.sleep(1.0)\n",
    "    clear_output(wait=True)        "
   ]
  },
  {
   "cell_type": "code",
   "execution_count": null,
   "id": "f3081a4f",
   "metadata": {},
   "outputs": [],
   "source": [
    "    "
   ]
  }
 ],
 "metadata": {
  "kernelspec": {
   "display_name": "Python 3 (ipykernel)",
   "language": "python",
   "name": "python3"
  },
  "language_info": {
   "codemirror_mode": {
    "name": "ipython",
    "version": 3
   },
   "file_extension": ".py",
   "mimetype": "text/x-python",
   "name": "python",
   "nbconvert_exporter": "python",
   "pygments_lexer": "ipython3",
   "version": "3.7.4"
  },
  "toc": {
   "base_numbering": 1,
   "nav_menu": {},
   "number_sections": false,
   "sideBar": false,
   "skip_h1_title": false,
   "title_cell": "Table of Contents",
   "title_sidebar": "Contents",
   "toc_cell": false,
   "toc_position": {},
   "toc_section_display": false,
   "toc_window_display": false
  }
 },
 "nbformat": 4,
 "nbformat_minor": 5
}
