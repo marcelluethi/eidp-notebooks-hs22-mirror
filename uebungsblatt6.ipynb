{
 "cells": [
  {
   "cell_type": "markdown",
   "metadata": {},
   "source": [
    "# Übungsblatt 6: Strings"
   ]
  },
  {
   "cell_type": "markdown",
   "metadata": {
    "deletable": false
   },
   "source": [
    "*Schreiben Sie in dieses Feld Ihren Vornamen, Namen und Matrikelnummer.*"
   ]
  },
  {
   "cell_type": "markdown",
   "metadata": {},
   "source": [
    "### Wichtige Hinweise\n",
    "\n",
    "* Das Schlüsselwort ```pass```, welches Sie in den Übungen finden, ist eine Python-Anweisung die nichts macht. Wir nutzen diese als Platzhalter, damit sich Python nicht über eine fehlende Implementation der Funktion beschwert. Ersetzen Sie die ```pass``` Anweisung einfach durch Ihre Implementation der Methode. \n",
    "* Sie dürfen keine externen Bibliotheken verwenden\n",
    "* Viele der von Ihnen implementierten Funktionen existieren bereits fertig implementiert in Python. Implementieren Sie die Funktionen aber selber, indem Sie for und while-Schleifen einsetzen. Damit lernen Sie viel mehr als wenn Sie die fertige Funktion einsetzen. "
   ]
  },
  {
   "cell_type": "markdown",
   "metadata": {},
   "source": [
    "## Einführung\n",
    "\n",
    "Wir haben bereits in der ersten Woche gelernt Texte als Werte in unseren Programmen zu nutzen. Der dazugehörige Datentyp in Python heisst *String*. Strings funktionieren grundsätzlich genau wie Listen, mit dem Unterschied, dass wir darin nur Buchstaben speichern können, und dass wir die einzelnen Elemente nicht verändern können. Ansonsten können wir mit Strings aber genau wie mir Listen arbeiten und es stehen uns alle für Listen und Tupel besprochenen Operationen zur Verfügung. Dies ist im folgenden illustriert:"
   ]
  },
  {
   "cell_type": "code",
   "execution_count": 3,
   "metadata": {},
   "outputs": [
    {
     "name": "stdout",
     "output_type": "stream",
     "text": [
      "Länge vom Text:  8\n",
      "Drittes Zeichen vom Text:  n\n",
      "Iteration mit for-loop: \n",
      "E\n",
      "i\n",
      "n\n",
      " \n",
      "T\n",
      "e\n",
      "x\n",
      "t\n",
      "\n",
      "Unpacking:  a b\n",
      "Konkatenation: wort wort2\n",
      "Suche in Text:  True\n"
     ]
    }
   ],
   "source": [
    "text = \"Ein Text\"\n",
    "print(\"Länge vom Text: \", len(text))  # Länge vom Text\n",
    "print(\"Drittes Zeichen vom Text: \", text[2])    # Zugriff auf dritten Buchstabens (also n)\n",
    "print(\"Iteration mit for-loop: \")\n",
    "for c in text:    # Über alle Zeichen laufen\n",
    "    print(c)\n",
    "print(\"\")\n",
    "\n",
    "[zeichen1, zeichen2] = \"ab\"     # Unpacking \n",
    "print(\"Unpacking: \", zeichen1, zeichen2)\n",
    "print(\"Konkatenation: \"\"wort \" + \"wort2\")      # Konkatenation zweier Strings\n",
    "print(\"Suche in Text: \", \"ext\" in \"Text\")        # Suchen"
   ]
  },
  {
   "cell_type": "markdown",
   "metadata": {},
   "source": [
    "Zudem können wir einen Text mit dem Befehl ```list``` in eine Liste von Zeichen konvertieren. "
   ]
  },
  {
   "cell_type": "code",
   "execution_count": 10,
   "metadata": {},
   "outputs": [
    {
     "data": {
      "text/plain": [
       "['e', 'i', 'n', ' ', 't', 'e', 'x', 't']"
      ]
     },
     "execution_count": 10,
     "metadata": {},
     "output_type": "execute_result"
    }
   ],
   "source": [
    "list(\"ein text\")"
   ]
  },
  {
   "cell_type": "markdown",
   "metadata": {},
   "source": [
    "In den folgenden Übungen werden Sie diese Funktionen nutzen um kleine Übungen zur \"Textverarbeitung\" zu lösen. "
   ]
  },
  {
   "cell_type": "markdown",
   "metadata": {
    "deletable": false
   },
   "source": [
    "#### Uebung 1:  Zeichen zählen (2 Punkte)\n",
    "\n",
    "Implementieren Sie die Funktion ```count_character``` welche zählt, wie häufig ein angegebenes Zeichen ```char``` im Text auftritt. \n"
   ]
  },
  {
   "cell_type": "code",
   "execution_count": 1,
   "metadata": {
    "deletable": false,
    "exercise_id": 1
   },
   "outputs": [],
   "source": [
    "def count_character(text, char):\n",
    "    pass\n",
    "        \n",
    "    # Der folgende Aufruf sollte 4 zurückgeben\n",
    "count_character(\"mississipi\", \"i\")"
   ]
  },
  {
   "cell_type": "markdown",
   "metadata": {},
   "source": [
    "#### Uebung 2: Anagramme (2 Punkte)\n",
    "\n",
    "Implementieren Sie eine Funktion ```is_anagram``` welche prüft, ob es sich bei einem Wort um ein Anagram handelt. Ein Anagram ist ein Wort, welches von vorne und von hinten gelesen gleich ist. Sie dürfen annehmen, dass alle Zeichen entweder klein oder gross geschrieben sind, so dass Sie sich um Gross- und Kleinschreibung nicht kümmern müssen."
   ]
  },
  {
   "cell_type": "code",
   "execution_count": 4,
   "metadata": {
    "deletable": false,
    "exercise_id": 2
   },
   "outputs": [],
   "source": [
    "def is_anagram(word):\n",
    "    pass\n",
    "        \n",
    "    \n",
    "# Der folgende Aufruf sollte True zurückgeben\n",
    "is_anagram(\"ANNA\")\n",
    "\n",
    "# Der folgende Aufruf gibt False zurück\n",
    "is_anagram(\"berta\")"
   ]
  },
  {
   "cell_type": "markdown",
   "metadata": {},
   "source": [
    "#### Uebung 3: Finden von Teiltext (2 Punkte)\n",
    "\n",
    "Implementieren Sie eine Funktion ```contains```, welche als erstes Argument eine Text, und als zweites Argument einen Teiltext entgegennimmt. Die Funktion soll ```True``` zurückgeben, falls der Teiltext im übergebenen Text vorkommt. Ansonsten soll ```False``` zurückgegeben werden. "
   ]
  },
  {
   "cell_type": "code",
   "execution_count": 6,
   "metadata": {
    "deletable": false,
    "exercise_id": 3
   },
   "outputs": [],
   "source": [
    "def contains(text, text_part):\n",
    "    pass\n",
    "\n",
    "# Der folgende Aufruf sollte True zurückgeben\n",
    "contains(\"Da muss ich nachdenken, sagte der Specht.\", \"Specht.\")\n",
    "\n",
    "# Der folgende Aufruf sollte False zurückgeben\n",
    "contains(\"Da muss ich nachdenken, sagte der Specht.\", \"Speck.\")"
   ]
  },
  {
   "cell_type": "markdown",
   "metadata": {},
   "source": [
    "#### Uebung 4: Prüfziffern berechnen (2 Punkte)\n",
    "\n",
    "Die Prüfziffer (zehnte Ziffer) der ISBN-Nummer eines Buches berechnet sich wie folgt:\n",
    "Man multipliziere die erste Ziffer mit eins, die zweite mit zwei, die dritte mit drei und so fort bis zur neunten Ziffer, die mit neun multipliziert wird. Man addiere die Produkte und teile die Summe ganzzahlig mit Rest durch 11. Der Divisionsrest ist die Prüfziffer. Falls der Rest 10 beträgt, ist die Prüfziffer ein \"X\". Implementieren Sie eine Funktion ```check_digit``` welche für einen übergebenen ISBN Nummer die Prüfziffer berechnet. *Die Prüfziffer muss wieder als Text zurückgegeben werden.* \n",
    "\n",
    "* Um einen als Text eingebenen Buchstaben zu einer Zahl umzuwandlen, nutzen Sie die Funktion ```int```. Zum Beispiel gibt ```int(\"9\")``` den Wert 9 zurück. \n",
    "* Um eine Zahl in einen Text umzuwandeln verwenden Sie die Funktion ```str```. Zum Beispiel gibt ```str(9)``` den Wert ```\"9\"``` zurück. "
   ]
  },
  {
   "cell_type": "code",
   "execution_count": 5,
   "metadata": {
    "deletable": false,
    "exercise_id": 4
   },
   "outputs": [],
   "source": [
    "def check_digit(isbn_number):\n",
    "    pass\n",
    "\n",
    "# Der folgende Aufruf sollte den String \"6\" zurueckgeben\n",
    "check_digit(\"137234590\")\n",
    "\n",
    "# Der folgende Aufruf sollte ein \"X\" zurückgeben\n",
    "check_digit(\"097522980\")"
   ]
  },
  {
   "cell_type": "markdown",
   "metadata": {},
   "source": [
    "#### Uebung 5: Text ersetzen (2 Punkte)\n",
    "\n",
    "Implementieren Sie die Funktion ```replace```, welche alle Vorkommen eines angegebenen Zeichens in einem Text ersetzt. "
   ]
  },
  {
   "cell_type": "code",
   "execution_count": 2,
   "metadata": {
    "deletable": false,
    "exercise_id": 5
   },
   "outputs": [],
   "source": [
    "def replace(text, char_to_replace, new_char):\n",
    "    pass\n",
    "\n",
    "# Der folgende Aufruf sollte \"uhu\" zurückgeben\n",
    "replace(\"oho\", \"o\", \"u\")"
   ]
  },
  {
   "cell_type": "code",
   "execution_count": null,
   "metadata": {},
   "outputs": [],
   "source": []
  }
 ],
 "metadata": {
  "celltoolbar": "Edit Metadata",
  "kernelspec": {
   "display_name": "Python 3 (ipykernel)",
   "language": "python",
   "name": "python3"
  },
  "language_info": {
   "codemirror_mode": {
    "name": "ipython",
    "version": 3
   },
   "file_extension": ".py",
   "mimetype": "text/x-python",
   "name": "python",
   "nbconvert_exporter": "python",
   "pygments_lexer": "ipython3",
   "version": "3.7.4"
  },
  "notebook_id": 6,
  "toc": {
   "base_numbering": 1,
   "nav_menu": {},
   "number_sections": false,
   "sideBar": false,
   "skip_h1_title": false,
   "title_cell": "Table of Contents",
   "title_sidebar": "Contents",
   "toc_cell": false,
   "toc_position": {},
   "toc_section_display": false,
   "toc_window_display": false
  }
 },
 "nbformat": 4,
 "nbformat_minor": 4
}
