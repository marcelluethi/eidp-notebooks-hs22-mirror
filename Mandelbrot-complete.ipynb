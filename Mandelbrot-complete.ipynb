{
 "cells": [
  {
   "cell_type": "markdown",
   "id": "2a261c78",
   "metadata": {},
   "source": [
    "# Mandelbrotmengen"
   ]
  },
  {
   "cell_type": "markdown",
   "id": "7c2e9d5a",
   "metadata": {},
   "source": [
    "In dieser Fallstudie implementieren wir die berühmten Visualisierungen der Mandelbrotmengen, die Sie sicher bereits gesehen haben. Die Mandelbrotmenge geht auf den Mathematiker Benoit Mandelbrot zurück, welcher neben vielen anderen Dingen auch die Geometrie von Fraktalen studiert hat. \n",
    "\n",
    "Wie wir sehen werden, ist die Berechnung einer Mandelbrotmenge etwas ganz einfaches. Wir betrachten für eine Zahl $\\mathtt z$ und eine Konstante $\\mathtt c$ die Funktion $f_c(\\mathtt z)=\\mathtt z^2 + \\mathtt c$. Wir können diese Funktion, beginnend bei 0, immer wieder auf sich selber anwenden, wir berechnen also die Folge der Elemente $\\mathtt s_i$ wie folgt\n",
    "\n",
    "$\n",
    "\\begin{align}\n",
    "& \\mathtt s_0 = \\mathtt 0 \\\\\n",
    "& \\mathtt s_1 = f_c(\\mathtt 0) = f_c(\\mathtt s_0 )\\\\\n",
    "& \\mathtt s_2 = f_c(f_c(\\mathtt 0)) = f_c(\\mathtt s_1 )\\\\\n",
    "& \\mathtt s_3 = f_c(f_c(f_c(\\mathtt 0))) = f_c(\\mathtt s_2 )\\\\\n",
    "& \\vdots \\\\\n",
    "& \\mathtt s_{n+1} = f_c(\\mathtt s_n)\n",
    "\\end{align}\n",
    "$\n",
    "\n",
    "Wenn diese Funktion nach einer bestimmten Anzahl Anwendungen kleiner als eine bestimmte Zahl ist (mathematisch als *nicht divergiert* bezeichnet), dann ist die Zahl $\\mathtt c$ Teil der Mandelbrotmenge. Wie wir sehen werden, entspricht diese Berechnung einer einfachen While-Schleife.\n",
    "\n",
    "Es gibt jedoch noch eine kleine Besonderheit: Die Zahlen $\\mathtt c$ und $\\mathtt z$ sind keine \"normalen\" Zahlen, wie wir sie aus der Schule kennen, sondern sogenannte *komplexe Zahlen*. In dieser Fallstudie werden wir eine Klasse schreiben um komplexe Zahlen zu repräsentieren.\n",
    "\n",
    "Komplexe Zahlen bestehen aus zwei Teilen, einem Realteil und einem Imaginärteil. In Büchern wird der Imaginärteil meist durch ein $i$ gekennzeichnet. So ist zum Beispiel 2 + 3i eine Komplexe Zahl, die aus dem Realteil 2 und dem Imaginärteil 3 besteht. Wir können uns eine Komplexe Zahl aber einfach als Tupel $(a, b) bestehend aus zwei Zahlen vorstellen, auf dem wir dann spezielle Rechenregeln definieren.  \n",
    "\n",
    "Zwei komplexe Zahlen $\\mathtt x$ und $\\mathtt y$ werden nach folgenden Regeln addiert und multipliziert:\n",
    "\n",
    "$\n",
    "\\begin{align}\n",
    "& \\mathtt x = (a, b) \\\\\n",
    "& \\mathtt y = (c, d) \\\\\n",
    "& \\mathtt x + \\mathtt y = (a + c, b + d) \\\\\n",
    "& \\mathtt x \\cdot \\mathtt y = (a c - b d, a d + b c)\n",
    "\\end{align}\n",
    "$\n",
    "\n",
    "Als letzte Operation benötigen wir noch den Betrag einer Zahl. Dieser ist definiert als \n",
    "\n",
    "$\n",
    "\\text{abs}(\\mathtt x) = \\sqrt{a a + b b}.\n",
    "$\n",
    "\n",
    "Einmal mehr brauchen wir für die Umsetzung der Mathematik und alle nötigen Berechnungen nicht mehr als Addition, Multiplikation, Subtraktion sowie die Quadratwurzel."
   ]
  },
  {
   "cell_type": "markdown",
   "id": "493bd575",
   "metadata": {},
   "source": [
    "### Implementation komplexer Zahlen\n",
    "\n",
    "In einem ersten Schritt schaffen wir uns nun die Grundlagen, so dass wir die Mathematische Funktion möglichst einfach implementieren können. Wir werden die Repräsentation von komplexen Zahlen und die oben beschriebenen Operationen darauf implementieren.\n",
    "\n",
    "Wir definieren uns dazu eine Klasse. Diese speichert den Real-  und den Imaginäranteil der Zahl als Attribute `real` und `imag` der Klasse. Die Operationen ```add```, ```multiply``` und ```abs``` implementieren wir als Methoden. "
   ]
  },
  {
   "cell_type": "code",
   "execution_count": 1,
   "id": "4cd609be",
   "metadata": {},
   "outputs": [],
   "source": [
    "import math\n",
    "class Complex:\n",
    "    def __init__(self, real, imag):\n",
    "        self.real = real\n",
    "        self.imag = imag\n",
    "        \n",
    "    def add(self, other):\n",
    "        return Complex(self.real + other.real, self.imag + other.imag)\n",
    "    \n",
    "    def multiply(self, other):\n",
    "        newReal = self.real * other.real - self.imag * other.imag;\n",
    "        newImag = self.real * other.imag + self.imag * other.real;\n",
    "        return Complex(newReal, newImag);\n",
    "    \n",
    "\n",
    "    def abs(self):\n",
    "        return math.sqrt(self.real * self.real + self.imag * self.imag);\n",
    "\n"
   ]
  },
  {
   "cell_type": "markdown",
   "id": "7367bcd4",
   "metadata": {},
   "source": [
    "## Berechnung der Mandelbrotmenge\n",
    "\n",
    "Nun können wir die Mandelbrotmenge berechnen. Die Funktion ```compute_mandelbrot``` nimmt eine Zahl $\\mathtt c$ entgegen und berechnet wie oben angegeben die Folge der Funktionen $\\mathtt s_0 \\rightarrow \\mathtt s_1 \\rightarrow \\mathtt s_2 \\rightarrow \\cdots$. Wenn der Betrag der so berechneten Zahl einmal grösser als die Zahl 2 ist, dann sagen wir, dass die Folge divergiert und die Zahl $\\mathtt c$ somit nicht in der Mandelbrotmenge ist. \n",
    "\n",
    "Neben der Zahl $\\mathtt c$ geben wir als zweites Argument noch ```max_iterations``` mit. Dieses Argument gibt an, wie lange wir die Funktion maximal immer wieder auf sich selbst anwenden, bevor wir entscheiden, dass diese divergiert oder nicht. Wenn der Betrag der Zahl also während ```max_iterations``` Iterationen immer kleiner als 2 bleibt, dann entscheiden wir, dass die Zahl Teil der Mandelbrotmenge ist. \n",
    "\n",
    "Der Rückgabewert wäre entsprechend entweder ```True``` oder ```False``` je nachdem ob die Zahl $\\mathtt c$ Teil der Menge ist. Für die Visualisierung ist es aber schöner, wenn wir die Anzahl Iterationen zurückgeben, die wir berechnet haben, bevor der Betrag der berechneten Zahl das erste Mal grösser als 2 geworden ist. So können wir dann mit unterschiedlichen Farben veranschaulichen, welche Zahl wie schnell divergiert ist. "
   ]
  },
  {
   "cell_type": "code",
   "execution_count": 2,
   "id": "3b599081",
   "metadata": {},
   "outputs": [],
   "source": [
    "def compute_mandelbrot(c, max_iterations):\n",
    "\n",
    "    n = 0\n",
    "    z = Complex(0, 0)\n",
    "    \n",
    "    while n < max_iterations and z.abs() <= 2:\n",
    "        z = z.multiply(z).add(c);\n",
    "        n += 1\n",
    "\n",
    "    return n "
   ]
  },
  {
   "cell_type": "markdown",
   "id": "bf13b241",
   "metadata": {},
   "source": [
    "### Visualisierung der Mandelbrotmenge"
   ]
  },
  {
   "cell_type": "markdown",
   "id": "94bda686",
   "metadata": {},
   "source": [
    "Für die Visualisierung der Mandelbrotmenge nutzen wir wieder ```PyPlot```. "
   ]
  },
  {
   "cell_type": "code",
   "execution_count": 3,
   "id": "13c61d77",
   "metadata": {},
   "outputs": [],
   "source": [
    "from matplotlib.pyplot import *"
   ]
  },
  {
   "cell_type": "markdown",
   "id": "22d0212a",
   "metadata": {},
   "source": [
    "Als erstes erstellen wir uns ein Bild mit $m \\times n$ Pixeln. Wie immer stellen wir das als Liste von Listen dar. "
   ]
  },
  {
   "cell_type": "code",
   "execution_count": 4,
   "id": "30e24320",
   "metadata": {},
   "outputs": [],
   "source": [
    "def create_image(m, n):\n",
    "    image = []\n",
    "    for i in range(0, m):\n",
    "        image.append([0] * n)\n",
    "    return image"
   ]
  },
  {
   "cell_type": "markdown",
   "id": "57097149",
   "metadata": {},
   "source": [
    "Jeder Pixel im Bild entspricht einer Komplexen Zahl $\\mathtt c$. Das einfachste wäre, wenn der Pixel $(0,0)$ der komplexen Zahl $0 + 0i$ entsprechen würde, der Pixel $(1, 0)$ der komplexen Zahl $1 + 0i$, und so weiter. Wenn wir ein Bild mit $m \\times n$ Pixeln haben, würden wir also den rechteckigen Ausschnitt von $0 + 0i$  bis $m + ni$ visualisieren. \n",
    "\n",
    "Jedoch stellt sich heraus, dass dieser Teil der Mandelbrotmenge nicht sonderlich spannend ist. Deshalb führen wir eine Funktion ein, die uns erlaubt in beliebige Teile der Menge hinein zu zoomen. Dies machen wir, indem wir jeden Index skalieren und verschieben. "
   ]
  },
  {
   "cell_type": "code",
   "execution_count": 5,
   "id": "0febfc74",
   "metadata": {},
   "outputs": [],
   "source": [
    "def pixel_to_complex_num(i, j, scaling, pan_x, pan_y):\n",
    "    return Complex(i * scaling + pan_x, (j * scaling + pan_y))"
   ]
  },
  {
   "cell_type": "markdown",
   "id": "61e7c744",
   "metadata": {},
   "source": [
    "Für die Visualisierung iterieren wir einfach über jeden Pixel des Bildes, wandeln dieses in eine Komplexe Zahl um und geben diesem Eintrag dann den entsprechenden Wert. "
   ]
  },
  {
   "cell_type": "code",
   "execution_count": 15,
   "id": "2ccacbb3",
   "metadata": {},
   "outputs": [],
   "source": [
    "def visualize(max_iterations, scaling, point_x, point_y):\n",
    "    image = create_image(256, 256)\n",
    "    for i in range(0, 256):\n",
    "        for j in range(0, 256):\n",
    "            c = pixel_to_complex_num(i, j, scaling, point_x, point_y)\n",
    "            n = compute_mandelbrot(c, max_iterations)\n",
    "            image[i][j] = n\n",
    "    return image\n",
    "            "
   ]
  },
  {
   "cell_type": "code",
   "execution_count": 24,
   "id": "db329058",
   "metadata": {},
   "outputs": [],
   "source": [
    "image = visualize(25, 0.01, -2,  -1.3)"
   ]
  },
  {
   "cell_type": "code",
   "execution_count": 25,
   "id": "b9f85164",
   "metadata": {},
   "outputs": [
    {
     "data": {
      "text/plain": [
       "<matplotlib.image.AxesImage at 0x2125ac29cc8>"
      ]
     },
     "execution_count": 25,
     "metadata": {},
     "output_type": "execute_result"
    },
    {
     "data": {
      "image/png": "[encoded data removed]",
      "text/plain": [
       "<Figure size 432x288 with 1 Axes>"
      ]
     },
     "metadata": {
      "needs_background": "light"
     },
     "output_type": "display_data"
    }
   ],
   "source": [
    "imshow(image)"
   ]
  },
  {
   "cell_type": "markdown",
   "id": "03dacee2",
   "metadata": {},
   "source": [
    "#### Kamerafahrt\n",
    "\n",
    "Wenn Sie die folgende Zelle ausführen, dann sehen Sie eine \"Kamerafahrt\" welche immer stärker auf einen angegebenen Punkt mit Bildkoordinaten (`zoom_to_x`,`zoom_to_y`) fokusiert und visualisiert wie fein die Strukturen dieses Fraktals auflösen. Sie müssen die Details dieses Codes nicht verstehen. "
   ]
  },
  {
   "cell_type": "code",
   "execution_count": null,
   "id": "4c96ee12",
   "metadata": {},
   "outputs": [],
   "source": [
    "from IPython.display import clear_output    # Steuern der Ausgabe in Jupyter-Notebooks\n",
    "scaling = 0.01\n",
    "num_iterations = 50\n",
    "zoom_to_x = 21\n",
    "zoom_to_y = 130\n",
    "while scaling > 3e-6:\n",
    "    image = visualize(num_iterations, scaling, -2.0-zoom_to_x*(scaling-0.01),  -1.3-zoom_to_y*(scaling-0.01))\n",
    "    imshow(image)\n",
    "    axis(\"off\")\n",
    "    show()\n",
    "    clear_output(wait=True)    \n",
    "    scaling = scaling * 0.8\n",
    "    num_iterations = num_iterations + 1"
   ]
  }
 ],
 "metadata": {
  "kernelspec": {
   "display_name": "Python 3 (ipykernel)",
   "language": "python",
   "name": "python3"
  },
  "language_info": {
   "codemirror_mode": {
    "name": "ipython",
    "version": 3
   },
   "file_extension": ".py",
   "mimetype": "text/x-python",
   "name": "python",
   "nbconvert_exporter": "python",
   "pygments_lexer": "ipython3",
   "version": "3.7.4"
  },
  "toc": {
   "base_numbering": 1,
   "nav_menu": {},
   "number_sections": false,
   "sideBar": false,
   "skip_h1_title": false,
   "title_cell": "Table of Contents",
   "title_sidebar": "Contents",
   "toc_cell": false,
   "toc_position": {},
   "toc_section_display": false,
   "toc_window_display": false
  }
 },
 "nbformat": 4,
 "nbformat_minor": 5
}
