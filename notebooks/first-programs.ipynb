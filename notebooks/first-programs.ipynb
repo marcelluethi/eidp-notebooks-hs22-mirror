{
 "cells": [
  {
   "cell_type": "markdown",
   "metadata": {},
   "source": [
    "# Erste Programme "
   ]
  },
  {
   "cell_type": "markdown",
   "metadata": {},
   "source": [
    "In diesem Notebook werden wir verschiedene einfache Berechnungen mit Python durchführen. \n",
    "\n",
    "Das Notebook werden wir im Plenum am 30. September zusammen bearbeiten. \n",
    "\n",
    "Bitte stellen Sie das Notebook bis zum 6. Oktober fertig und reichen es via Adam ein."
   ]
  },
  {
   "cell_type": "markdown",
   "metadata": {},
   "source": [
    "### Darlehensrückzahlungen\n",
    "\n",
    "Schreiben Sie ein Programm, das die monatlichen Zahlungen berechnet, die Sie über eine gegebene Anzahl von Jahren zu leisten haben, \n",
    "um einen Kredit zu einem gegebenen Zinssatz mit Zinseszins zurückzuzahlen. Verwenden Sie dafür die Formel $Pe^{rt}$.\n",
    "\n",
    "Die Exponentialfunktion in Python rufen Sie mit ```math.exp(x)``` auf."
   ]
  },
  {
   "cell_type": "code",
   "execution_count": 6,
   "metadata": {},
   "outputs": [],
   "source": [
    "import math # Stellt das Mathematikmodul zur Verfügung\n",
    "t = 10 # Anzahl Jahre\n",
    "P = 1000 # Das Kapital\n",
    "r = 0.1 # Zinsrate\n",
    "\n",
    "# Ihre Lösung"
   ]
  },
  {
   "cell_type": "markdown",
   "metadata": {},
   "source": [
    "### Polarkoordinaten\n",
    "\n",
    "Schreiben Sie ein Programm, das kartesische Koordinaten in Polarkoordinaten umwandelt. Ihr Programm soll dabei die zwei reele Zahlen x und y in \n",
    "die Polarkoordinaten r und theta speichern. Verwenden Sie dazu die Methode ```math.atan2(x, y)```, die den Arcustangens von $x/y$ berechnet, welcher im Bereich von $-\\pi \\ldots \\pi$ liegt."
   ]
  },
  {
   "cell_type": "code",
   "execution_count": 7,
   "metadata": {},
   "outputs": [],
   "source": [
    "import math\n",
    "x = 7 \n",
    "y = 3\n",
    "\n",
    "# Ihre Lösung"
   ]
  },
  {
   "cell_type": "code",
   "execution_count": null,
   "metadata": {},
   "outputs": [],
   "source": [
    "math.atan2(5, 3)"
   ]
  }
 ],
 "metadata": {
  "kernelspec": {
   "display_name": "Python 3",
   "language": "python",
   "name": "python3"
  },
  "language_info": {
   "codemirror_mode": {
    "name": "ipython",
    "version": 3
   },
   "file_extension": ".py",
   "mimetype": "text/x-python",
   "name": "python",
   "nbconvert_exporter": "python",
   "pygments_lexer": "ipython3",
   "version": "3.8.5"
  }
 },
 "nbformat": 4,
 "nbformat_minor": 2
}
