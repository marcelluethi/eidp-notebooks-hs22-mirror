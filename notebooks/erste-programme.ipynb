{
 "cells": [
  {
   "cell_type": "markdown",
   "metadata": {},
   "source": [
    "# Erste Programme "
   ]
  },
  {
   "cell_type": "markdown",
   "metadata": {},
   "source": [
    "*Schreiben Sie in dieses Feld Ihren Vornamen, Namen und Matrikelnummer.*"
   ]
  },
  {
   "cell_type": "markdown",
   "metadata": {},
   "source": [
    "### Fallstudie: Python als Taschenrechner"
   ]
  },
  {
   "cell_type": "markdown",
   "metadata": {},
   "source": [
    "In dieser Fallstudie zeigen wir, wie wir Python als Taschenrechner nutzen können. Wir werden diese in der Präsenzvorlesung zusammen erarbeiten."
   ]
  },
  {
   "cell_type": "markdown",
   "metadata": {},
   "source": []
  },
  {
   "cell_type": "markdown",
   "metadata": {},
   "source": [
    "### Übungen"
   ]
  },
  {
   "cell_type": "markdown",
   "metadata": {},
   "source": [
    "#### Peptalk (2 Punkte)\n",
    "\n",
    "\n",
    "Schreiben Sie ein Programm, welches Ihren Vornamen in einer Variable ```firstname``` und Studienfach in einer Variable mit dem Namen ```subject``` speichert und dann folgenden Text ausgibt:\n",
    "> *Hallo VORNAME. Schön, dass du programmieren lernst. Das ist im Studienfach STUDIENRICHTUNG sicher sehr nützlich*. \n",
    "\n",
    "Der Text muss dabei auf einer Zeile ausgegeben werden. \n"
   ]
  },
  {
   "cell_type": "code",
   "execution_count": 9,
   "metadata": {
    "deletable": false,
    "exercise_id": 1
   },
   "outputs": [
    {
     "name": "stdout",
     "output_type": "stream",
     "text": [
      "Hallo xxx . Schön, dass du programmieren lernst.\n"
     ]
    }
   ],
   "source": [
    "# Ihre Lösung\n",
    "subject = \"abc\"\n",
    "firstname = \"xxx\"\n",
    "print(\"Hallo\", firstname, \". Schön, dass du programmieren lernst.\")"
   ]
  },
  {
   "cell_type": "markdown",
   "metadata": {},
   "source": [
    "#### Zinseszinsen (2 Punkte)\n",
    "\n",
    "Schreiben Sie ein Programm, welches für ein gegebenes Startkapital und einen festen Zinssatz die am Endes des ersten und zweiten Jahres erhaltenen Zinsen, berechnet. Ihr Programm soll dabei folgende Anforderungen erfüllen:\n",
    "\n",
    "* Das Kapital nach dem ersten Jahr muss in einer Variablen mit dem Namen ```kapital_jahr_1``` und das Kapital mit dem zweiten Jahr (inklusive Zinsen) muss in einer Variable mit dem Namen ```kapital_jahr_2``` gespeichert werden.\n",
    "* Es soll eine Meldung mit dem Text ```Kapital nach Jahr 2: Fr. XXX``` ausgegeben werden, wobei XXX für den erwirtschafteten Zins steht\n"
   ]
  },
  {
   "cell_type": "code",
   "execution_count": 4,
   "metadata": {
    "deletable": false,
    "exercise_id": 2
   },
   "outputs": [],
   "source": [
    "startkapital = 100 \n",
    "zinssatz = 0.01\n",
    "\n",
    "# Ihre Lösung"
   ]
  },
  {
   "cell_type": "markdown",
   "metadata": {},
   "source": [
    "#### Windchill  (2 Punkte)\n",
    "\n",
    "Schreiben Sie ein Programm, dass den Windchill-Faktor berechnet. Der Windchill-Faktor ist definiert als \n",
    "$13.12 + 0.0615 t - 11.37 v^{0.16} + 0.3965 t v^{0.16}$\n",
    "wobei $t$ und $v$ die aktuelle Temperatur (in Grad Celsius) und v der Windgeschwindigkeit (in m/s) entspricht. \n",
    "\n",
    "* Nutzen Sie dazu zwei Variablen ```v``` und ```t``` und speichern Sie das Ergebnis in einer Variablen mit dem Namen ```wc```. \n",
    "* Geben Sie die Meldung ```Windchill-Faktor: wc``` aus, wobei ```wc``` mit dem berechneten Wert ersetzt werden soll. \n",
    "\n",
    "Tip: Der Ausdruck ```a ** b``` berechnet $a^b$. "
   ]
  },
  {
   "cell_type": "code",
   "execution_count": 10,
   "metadata": {
    "deletable": false,
    "exercise_id": 3
   },
   "outputs": [],
   "source": [
    "# Ihre Lösung"
   ]
  },
  {
   "cell_type": "markdown",
   "metadata": {},
   "source": [
    "#### Typen (1 Punkt)\n",
    "\n",
    "Schreiben Sie ein Programm, welches den Typ des Werts der aus den Berechnungen ```5 % 3``` und ```5 / 3``` auf der Konsole ausgibt. Dabei soll jeder auf eine eigene Zeile geschrieben werden. \n",
    "\n"
   ]
  },
  {
   "cell_type": "code",
   "execution_count": 5,
   "metadata": {
    "deletable": false,
    "exercise_id": 4
   },
   "outputs": [],
   "source": [
    "# Ihre Lösung"
   ]
  },
  {
   "cell_type": "markdown",
   "metadata": {},
   "source": [
    "\n",
    "#### Theoriefragen auf Adam (3 Punkte)\n",
    "\n",
    "Bearbeiten Sie die Theoriefragen auf Adam (TODO LINK)"
   ]
  }
 ],
 "metadata": {
  "celltoolbar": "Edit Metadata",
  "kernelspec": {
   "display_name": "Python 3",
   "language": "python",
   "name": "python3"
  },
  "language_info": {
   "codemirror_mode": {
    "name": "ipython",
    "version": 3
   },
   "file_extension": ".py",
   "mimetype": "text/x-python",
   "name": "python",
   "nbconvert_exporter": "python",
   "pygments_lexer": "ipython3",
   "version": "3.7.4"
  },
  "notebook_id": 1,
  "toc": {
   "base_numbering": 1,
   "nav_menu": {},
   "number_sections": false,
   "sideBar": false,
   "skip_h1_title": false,
   "title_cell": "Table of Contents",
   "title_sidebar": "Contents",
   "toc_cell": false,
   "toc_position": {},
   "toc_section_display": false,
   "toc_window_display": false
  }
 },
 "nbformat": 4,
 "nbformat_minor": 2
}
