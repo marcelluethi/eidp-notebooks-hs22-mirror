{
  "nbformat": 4,
  "nbformat_minor": 0,
  "metadata": {
    "colab": {
      "name": "mnist-fallstudie-complete.ipynb",
      "provenance": [],
      "collapsed_sections": [
        "r6LiuoBdqDhI"
      ]
    },
    "kernelspec": {
      "name": "python3",
      "display_name": "Python 3"
    },
    "language_info": {
      "name": "python"
    }
  },
  "cells": [
    {
      "cell_type": "markdown",
      "source": [
        "# Fallstudie - Der Computer lernt Zahlen zu lesen\n",
        "Wir wollen heute schauen, was wir mit unseren Python-Kenntnissen alles schon tun können. Als Beispiel wollen wir dem Computer Lesen beibringen und überprüfen wie gut er das dann auch macht. Etwas genauer soll der Computer von Hand geschriebene Ziffern erkennen können. Eine bekannte Sammlung solcher Ziffern ist die MNIST Datenbank. Einige Beispiele der Zahlen sind hier:\n",
        "\n",
        "![Images von der MNIST Datenbank](https://upload.wikimedia.org/wikipedia/commons/2/27/MnistExamples.png)\n",
        "\n",
        "> Bild von [Wikipedia](https://de.wikipedia.org/wiki/MNIST-Datenbank)\n",
        "\n",
        "Wir werden dazu eine Technik aus dem Maschinellen Lernen einsetzen, die unter dem Namen Deep Learning bekannt ist. Deep Learning revolutioniert seit einigen Jahren die Informatik. Entsprechend gibt es viele Bibliothken, die wir nutzen können. Wir können also auf dem aufbauen, was andere schon programmiert haben.\n",
        "\n",
        "Wir verwenden heute überwiegend Keras von Tensorflow, ein Deep-Learning Framework, also eine Bibliothek welche die gesamte Funktionalität mibringt, die wir benötigen um Deep Learning umzusetzen. Zudem verwenden wir noch die Bibliotheken welche Sie sich im Selbststudium angeschaut haben.\n",
        "\n",
        "Auch wenn wir für die Aufgabe heute nicht genau verstehen müssen wie Deep-Learning funktioniert, hier ein kurzer Überblick.\n"
      ],
      "metadata": {
        "id": "r6LiuoBdqDhI"
      }
    },
    {
      "cell_type": "markdown",
      "source": [
        "\n",
        "# Deep-Learning kurz erklärt\n",
        "\n",
        "Die wichtigste Komponente beim Deep learning ist ein sogenanntes neuronales Netz (NN). Wir wollen ein neuronales Netz verwenden um für ein Bild einer Ziffer, die darin gezeigte Ziffer vorher zu sagen. Das neuronale Netz stellt dabei die Bilder numerisch dar und transformiert die Daten, bis die Entscheidung zu welcher Klasse eine Eingabe gehört ganz einfach wird. Grafisch können wir das wie folgt skizzieren:\n",
        "\n",
        "<center>\n",
        "<img src=\"https://drive.google.com/uc?id=1NDIZo9ovJOIKd-wCLzfQNk6NJzUsFpN6\" width=\"500px\"/>\n",
        "</center>\n",
        "\n",
        "Unser Model wird jedoch etwas anders funktionieren. Das Bild wird als ein langer Vektor, also ein 1D-Array von Zahlen, in das Netz gefüttert. Zudem ist die Vorhersage in unserem Fall nicht nur eine Zahl, sondern ein 1D-Array von zehn Zahlen. Dabei gibt jede Zahl an, welche Ziffer wie wahrscheinlich in dem Bild vorkommt. Die erste Zahl gibt an, wie wahrscheinlich die Ziffer im Bild eine Null ist, die zweite Zahl gibt an, wie wahrscheinlich die Ziffer eine 1 ist, und so weiter. Unser Bild ist also wie folgt schon etwas genauer:\n",
        "\n",
        "<center>\n",
        "<img src=\"https://drive.google.com/uc?id=1Q3lMOMVbgTXOVasNd4O5w0gSIsk7XSoX\" width=\"500px\"/>\n",
        "</center>\n",
        "\n",
        "Im Innern eines solchen Models gibt es meist einen oder mehrere Layers. Im Namen *Deep-Learning* steckt, dass das Model mehrere Layer \"tief\" ist.\n",
        "\n",
        "<center>\n",
        "<img src=\"https://drive.google.com/uc?id=1_OXD0SsTDI0sr3Noro8WPkWAGkGJubG9\" width=\"500px\"/>\n",
        "</center>\n",
        "\n",
        "Für diese Fallstudie wollen wir nicht wissen was genau in den Layern passiert, wer will kann einfach an eine grosse Matrixmultiplikation denken. Diese Layer haben Parameter, oft auch Weights genannt, welche wir während dem Lernen, auch Training genannt, anpassen.\n",
        "\n",
        "<center>\n",
        "<img src=\"https://drive.google.com/uc?id=1Z5bUK4lIS7dVOpWXfAs-uE4e1XGqZPXx\" width=\"500px\"/>\n",
        "</center>\n",
        "\n",
        "Die Veränderung geschieht mit Hilfe eines Optimierers. Der Optimierer berechnet ein Update für die Gewichte basierend auf dem Fehler, welcher unser Model bei der Vorhersage macht. Der Fehler wird basierend auf der Vorhersage und den wahren Labels durch eine Fehler- oder Loss-Funktion gemessen.\n",
        "\n",
        "<center>\n",
        "<img src=\"https://drive.google.com/uc?id=1v0LjwSUigxN1_ureTIsdtXo-Gh-KJITe\" width=\"500px\"/>\n",
        "</center>\n",
        "\n",
        "Wir wollen von sehr vielen Bildern lernen. Um dies effizient zu machen, können wir, vorallem auf Grafikkarten, mehrere Bilder auf einmal durch unser neuronales Netz schicken und erhalten für jedes der Bilder eine eigene Antwort. Wir nennen einen solchen Stapel von Bildern welcher auf einmal durch das Netz geschickt wird auch *Batch*.\n",
        "\n",
        "<center>\n",
        "<img src=\"https://drive.google.com/uc?id=1iO7NVINIdPexi8X-gk4GsmLQ1u2iTkUV\" width=\"500px\"/>\n",
        "</center>\n",
        "\n",
        "So nun haben wir viel über Deep-Learning gelernt und wollen uns diese Sachen in Python anschauen."
      ],
      "metadata": {
        "id": "m5S1Ytb2ukgX"
      }
    },
    {
      "cell_type": "markdown",
      "source": [
        "## Vorbereitungen und Daten\n",
        "\n",
        "Wir verwenden hier exemplarisch das Framework Keras, was Teil der Tensorflow Bibliothek ist. Als erstes importieren wir dies. Dass wir nicht jedesmal wenn wir das Jupyter-Notebook erneut ausführen, zufällig ein leicht anderes Resultat bekommen, starten wir immer mit der selben Zufallszahl."
      ],
      "metadata": {
        "id": "XYDhCa4xFcrA"
      }
    },
    {
      "cell_type": "code",
      "source": [
        "import tensorflow \n",
        "tensorflow.random.set_seed(42)"
      ],
      "metadata": {
        "id": "uJBKYVxRWa2f"
      },
      "execution_count": null,
      "outputs": []
    },
    {
      "cell_type": "markdown",
      "source": [
        "Nun wollen wir uns die Daten zurecht legen. Wir können die MNIST Daten mit einem einfachen Befehl in das Notebook laden. Wir unterscheiden hier Trainings- und Testdaten. Erstere sind dazu da das Model zu trainieren und damit besser zu machen. Die Testdaten sind danach dazu da, zu schauen wie gut das Model durch das Training geworden ist."
      ],
      "metadata": {
        "id": "Lt0bIt2XFvar"
      }
    },
    {
      "cell_type": "code",
      "execution_count": null,
      "metadata": {
        "id": "iVKb2GQxOu3A",
        "colab": {
          "base_uri": "https://localhost:8080/"
        },
        "outputId": "a971647e-5e94-4afb-9b9b-0ca394edacb2"
      },
      "outputs": [
        {
          "output_type": "stream",
          "name": "stdout",
          "text": [
            "Downloading data from https://storage.googleapis.com/tensorflow/tf-keras-datasets/mnist.npz\n",
            "11493376/11490434 [==============================] - 0s 0us/step\n",
            "11501568/11490434 [==============================] - 0s 0us/step\n"
          ]
        }
      ],
      "source": [
        "from tensorflow.keras.datasets import mnist\n",
        "(train_images, train_labels), (test_images, test_labels) = mnist.load_data()"
      ]
    },
    {
      "cell_type": "markdown",
      "source": [
        "Die Daten sind sogenannte Tensoren, diese können Sie sich wie die Arrays von Numpy vorstellen. Tensoren bieten auch viele zu Numpy Array identische Methoden an.\n",
        "\n",
        "Wir wollen nun anschauen, wieviele Daten wir geladen haben. Dafür können wir das Attribut `shape` verwenden. Dieses haben Sie schon im Selbstudium kennen gelernt. Das Attribut gibt an, wieviele Elemente das Array entlang jeder Dimension hat."
      ],
      "metadata": {
        "id": "5gTm_xGGF3v0"
      }
    },
    {
      "cell_type": "code",
      "source": [
        "print(\"the shape of the training images:\", train_images.shape)\n",
        "print(\"the space of the training labels:\", train_labels.shape)"
      ],
      "metadata": {
        "colab": {
          "base_uri": "https://localhost:8080/"
        },
        "id": "MGkBzEEHOyeT",
        "outputId": "554d2911-a978-4d11-f1b2-ffe9f8173374"
      },
      "execution_count": null,
      "outputs": [
        {
          "output_type": "stream",
          "name": "stdout",
          "text": [
            "the shape of the training images: (60000, 28, 28)\n",
            "the space of the training labels: (60000,)\n"
          ]
        }
      ]
    },
    {
      "cell_type": "markdown",
      "source": [
        "Wie wir sehen, haben wir 60000 Bilder für das Training zur Verfügung. Jedes Bild hat die grösse $28\\times 28$ pixel. Die Bilder enthalten keine Farben, nur Graustufen.\n",
        "\n",
        "Wir wollen als nächstes einmal das erste Bild anschauen und das erste Label, also die Information welche Zahl im Bild zu sehen ist, ausgeben. Dafür schreiben wir uns eine Funktion welche das i-te Element der Trainingsdaten mit Hilfe von Pyplot anzeigt und im Titel das Label hinzu schreibt.\n",
        "\n",
        "Dann rufen wir die Methode mit dem Parameter `0` für das erste Bild auf."
      ],
      "metadata": {
        "id": "2M20G-kWHSoM"
      }
    },
    {
      "cell_type": "code",
      "source": [
        "import matplotlib.pyplot as plt\n",
        "\n",
        "def show_image(i):\n",
        "  image = train_images[i,:,:] # TODO: assign the i-th image from train_images\n",
        "  label = train_labels[i] # TODO: assign the i-th label from train_labels\n",
        "  plt.imshow(image, cmap=plt.cm.binary)\n",
        "  # we use the color-map (cm) binary in order to see the numbers as\n",
        "  # black-on-white and not white-on-black.\n",
        "  plt.title('the image has the label ' + str(label))\n",
        "\n",
        "show_image(0) # TODO: call the function show_image to show the first image"
      ],
      "metadata": {
        "colab": {
          "base_uri": "https://localhost:8080/",
          "height": 281
        },
        "id": "_qT7h4qMO84b",
        "outputId": "ad25dbac-dd13-49ac-c762-bab4883e38c7"
      },
      "execution_count": null,
      "outputs": [
        {
          "output_type": "display_data",
          "data": {
            "image/png": "[encoded data removed]",
            "text/plain": [
              "<Figure size 432x288 with 1 Axes>"
            ]
          },
          "metadata": {
            "needs_background": "light"
          }
        }
      ]
    },
    {
      "cell_type": "markdown",
      "source": [
        "Als letzten Schritt mit den Daten wollen wir diese noch so aufbereiten, dass unser Model diese besser verwenden kann. Wir haben besprochen, dass das neuronale Netz jedes Bild als langen Vektor, also als 1D-Array, und nicht als Matrix, bzw. 2d-Array entgegen nimmt. Wir können dafür die Methode `reshape` verwenden, welche als Argument ein Tupel mit den neuen Dimensionen entgegen nimmt. Dabei müssen wir beachten, dass wir die gesamte Anzahl Elemente nicht verändern."
      ],
      "metadata": {
        "id": "txiDwoIpIXyW"
      }
    },
    {
      "cell_type": "code",
      "source": [
        "train_images_input = train_images.reshape((60000, 28*28)) # TODO: reshape the train images\n",
        "test_images_input = test_images.reshape((10000, 28*28)) # TODO: reshape the test images\n",
        "\n",
        "# scaling of the values of the pixels into  0..1, usually helps when training\n",
        "train_images_input = train_images_input.astype(\"float32\") / 255\n",
        "test_images_input = test_images_input.astype(\"float32\") / 25\n",
        "\n",
        "train_images_input.shape # TODO: check the shape of the training images"
      ],
      "metadata": {
        "colab": {
          "base_uri": "https://localhost:8080/"
        },
        "id": "4WyCsoWcSAuN",
        "outputId": "a4a79523-7231-4783-d196-80c023b9a39a"
      },
      "execution_count": null,
      "outputs": [
        {
          "output_type": "execute_result",
          "data": {
            "text/plain": [
              "(60000, 784)"
            ]
          },
          "metadata": {},
          "execution_count": 7
        }
      ]
    },
    {
      "cell_type": "markdown",
      "source": [
        "## Das Neuronale Netz\n",
        "\n",
        "Als nächstes wollen wir ein neuronales Netz bauen. Dazu erstellen wir die einzelnen Layer und fügen diese dann in einer Reihe zu einem Model zusammen. Die Details müssen Sie nicht verstehen. Es reicht wenn Sie sehen, dass wir verschiedene Elemente zu etwas grösserem kombinieren."
      ],
      "metadata": {
        "id": "oyyYc36BJTT9"
      }
    },
    {
      "cell_type": "code",
      "source": [
        "from tensorflow import keras\n",
        "from tensorflow.keras import layers\n",
        "\n",
        "layer1 = layers.Dense(512, activation=\"relu\")\n",
        "# relu is a function with a kink at 0 like the following sketch: _/\n",
        "\n",
        "outputLayer = layers.Dense(10, activation=\"softmax\")\n",
        "# softmax normalizes the values between 0.0 and 1.0, such that they sum to 1\n",
        "\n",
        "model = keras.Sequential([\n",
        "  layer1,\n",
        "  outputLayer\n",
        "])"
      ],
      "metadata": {
        "id": "OvTD2FLIPePa"
      },
      "execution_count": null,
      "outputs": []
    },
    {
      "cell_type": "markdown",
      "source": [
        "Als nächstes müssen wir dem Model noch sagen, welchen Optimierungsalgorithmus wir nutzen wollen, welche Fehlerfunktion wir optimieren wollen und wie wir die Güte des Models messen. Darauf gehen wir hier nicht näher ein, sondern verwenden einfach das folgende."
      ],
      "metadata": {
        "id": "Xqs4QwmYKx_Q"
      }
    },
    {
      "cell_type": "code",
      "source": [
        "model.compile(\n",
        "  optimizer=\"rmsprop\",\n",
        "  loss=\"sparse_categorical_crossentropy\",\n",
        "  metrics=[\"accuracy\"]\n",
        ")\n"
      ],
      "metadata": {
        "id": "U8cvoUBkKNG_"
      },
      "execution_count": null,
      "outputs": []
    },
    {
      "cell_type": "markdown",
      "source": [
        "Nun können wir unser Model trainieren. Dazu verwenden wir die Methode `fit`. Diese bekommt die Bilder und Labels fürs Training. Zusätzlich geben wir noch an wieviele Epochen `epochs` wir trainieren, also wie oft wir alle Trainingsdaten durch unser Model schicken. Als letzts geben wir noch an wie gross die Batchgrösse `batch_size` ist, also wieviele Bilder wir auf einmal durch unser Netzwerk schicken. Zurück bekommen wir den Verlauf des Trainings. Den wir danach visualisieren können."
      ],
      "metadata": {
        "id": "rqWrTu2MLQ0Z"
      }
    },
    {
      "cell_type": "code",
      "source": [
        "history = model.fit(train_images_input,train_labels, epochs=5, batch_size=128)"
      ],
      "metadata": {
        "colab": {
          "base_uri": "https://localhost:8080/"
        },
        "id": "tkUiAIr6SVMc",
        "outputId": "a92c9d9c-64fb-44d6-ec46-cd671a15743e"
      },
      "execution_count": null,
      "outputs": [
        {
          "output_type": "stream",
          "name": "stdout",
          "text": [
            "Epoch 1/5\n",
            "469/469 [==============================] - 6s 13ms/step - loss: 0.0494 - accuracy: 0.9848\n",
            "Epoch 2/5\n",
            "469/469 [==============================] - 6s 13ms/step - loss: 0.0370 - accuracy: 0.9895\n",
            "Epoch 3/5\n",
            "469/469 [==============================] - 6s 13ms/step - loss: 0.0272 - accuracy: 0.9923\n",
            "Epoch 4/5\n",
            "469/469 [==============================] - 6s 13ms/step - loss: 0.0218 - accuracy: 0.9934\n",
            "Epoch 5/5\n",
            "469/469 [==============================] - 6s 13ms/step - loss: 0.0168 - accuracy: 0.9951\n"
          ]
        }
      ]
    },
    {
      "cell_type": "markdown",
      "source": [
        "Wir können nun anschauen wie das Netzwerk lernt, also wie es mit der Zeit immer weniger Fehler macht."
      ],
      "metadata": {
        "id": "Ud054c-Ru8A0"
      }
    },
    {
      "cell_type": "code",
      "source": [
        "history.history.keys()\n",
        "evolution_of_loss_values = history.history[\"loss\"]\n",
        "evolution_of_loss_values\n",
        "plt.plot(evolution_of_loss_values) # TODO: simply plot the values to see it graphically"
      ],
      "metadata": {
        "colab": {
          "base_uri": "https://localhost:8080/",
          "height": 283
        },
        "id": "_ze_NBQ4MIap",
        "outputId": "daa62242-bed5-4fc7-cd86-7ebdec35687f"
      },
      "execution_count": null,
      "outputs": [
        {
          "output_type": "execute_result",
          "data": {
            "text/plain": [
              "[<matplotlib.lines.Line2D at 0x7f0e5af8fa50>]"
            ]
          },
          "metadata": {},
          "execution_count": 28
        },
        {
          "output_type": "display_data",
          "data": {
            "image/png": "[encoded data removed]",
            "text/plain": [
              "<Figure size 432x288 with 1 Axes>"
            ]
          },
          "metadata": {
            "needs_background": "light"
          }
        }
      ]
    },
    {
      "cell_type": "markdown",
      "source": [
        "Noch bis vor dem Training war dem Model nicht klar wie gross die Eingabedaten sind. Deshalb konnten wir auch noch nicht schauen wie unser Netzwerk genau aussieht. Nun da die Grösse der Daten welche wir dem Netzwerk füttern bekannt ist, können wir schauen wie unser Model ausschaut und wieviele Parameter, also einzelne Zahlen wir gelernt haben."
      ],
      "metadata": {
        "id": "PDhJ_KKSNvWA"
      }
    },
    {
      "cell_type": "code",
      "source": [
        "model.summary()"
      ],
      "metadata": {
        "colab": {
          "base_uri": "https://localhost:8080/"
        },
        "id": "TTB3L-wWNllD",
        "outputId": "9c6129a9-eeac-41b6-fcca-922b88dc4cbf"
      },
      "execution_count": null,
      "outputs": [
        {
          "output_type": "stream",
          "name": "stdout",
          "text": [
            "Model: \"sequential\"\n",
            "_________________________________________________________________\n",
            " Layer (type)                Output Shape              Param #   \n",
            "=================================================================\n",
            " dense (Dense)               (None, 512)               401920    \n",
            "                                                                 \n",
            " dense_1 (Dense)             (None, 10)                5130      \n",
            "                                                                 \n",
            "=================================================================\n",
            "Total params: 407,050\n",
            "Trainable params: 407,050\n",
            "Non-trainable params: 0\n",
            "_________________________________________________________________\n"
          ]
        }
      ]
    },
    {
      "cell_type": "markdown",
      "source": [
        "Sie sehen, wir haben in diesem einfachen Model schon fast eine halbe Million Parameter. Grosse Netze welche in realen Szenarien angewendet werden, haben dann oft noch viel mehr Parameter. Diese da sie oft viel tiefer sind, also aus mehr Layern bestehen. "
      ],
      "metadata": {
        "id": "WhLHLqfVxijJ"
      }
    },
    {
      "cell_type": "markdown",
      "source": [
        "## Testen und Analysieren\n",
        "\n",
        "Nachdem das Netzwerk trainiert ist, wollen wir nun untersuchen wie gut unser Model neue Ziffern, welche nicht während dem Training gesehen wurden, klassifiziert werden können.\n",
        "\n",
        "Dafür schauen wir zuerst an, wie wir unser Model verwenden können und was es für ein Bild der Testdaten zurück gibt."
      ],
      "metadata": {
        "id": "ol7QF9j6sOms"
      }
    },
    {
      "cell_type": "code",
      "source": [
        "predictions = model.predict(test_images_input)\n",
        "print(predictions.shape) # TODO: show the size of the tensor\n",
        "print('Vorhersage für das erste Bild',predictions[0,:]) # TODO: print the prediction for the first image"
      ],
      "metadata": {
        "colab": {
          "base_uri": "https://localhost:8080/"
        },
        "id": "mdbxP10aSb2q",
        "outputId": "af5d7267-6d1a-46f4-a741-a31c28b0d2bd"
      },
      "execution_count": null,
      "outputs": [
        {
          "output_type": "stream",
          "name": "stdout",
          "text": [
            "(10000, 10)\n",
            "Vorhersage für das erste Bild [0.0000000e+00 0.0000000e+00 0.0000000e+00 1.0064415e-36 0.0000000e+00\n",
            " 0.0000000e+00 0.0000000e+00 1.0000000e+00 0.0000000e+00 0.0000000e+00]\n"
          ]
        }
      ]
    },
    {
      "cell_type": "markdown",
      "source": [
        "Für jedes Bild bekommen wir eine Wahrscheinlichkeit pro Ziffer. Diese gibt an wie wahrscheinlich es die jeweilige Ziffer ist. Wir können mit der Methode `argmax()` schauen, welches die Ziffer ist, die nach der Meinung unseres Netzes am wahrscheinlichsten im Bild vorkommt."
      ],
      "metadata": {
        "id": "MSVo6JwrLI6c"
      }
    },
    {
      "cell_type": "code",
      "source": [
        "predicted = predictions.argmax(axis=1)\n",
        "print('Vorhergesagte Ziffer für das erste Bild', predicted[0])"
      ],
      "metadata": {
        "colab": {
          "base_uri": "https://localhost:8080/"
        },
        "id": "ScYEnFO-LJWk",
        "outputId": "89b8b630-adb1-4b69-f057-bc73807a4488"
      },
      "execution_count": null,
      "outputs": [
        {
          "output_type": "stream",
          "name": "stdout",
          "text": [
            "Vorhergesagte Ziffer für das erste Bild 7\n"
          ]
        }
      ]
    },
    {
      "cell_type": "markdown",
      "source": [
        "\n",
        "Für die Visualisierung der Vorhersage können wir uns erneut eine Funktion schreiben. Dies können wir analog zu der Funktion machen, welche wir verwendet haben um die Trainingsdaten anzuzeigen."
      ],
      "metadata": {
        "id": "q0nb5gh7Lt0a"
      }
    },
    {
      "cell_type": "code",
      "source": [
        "def show_prediction(i):\n",
        "  image = test_images[i,:,:] # TODO: assign image\n",
        "  gt_label = test_labels[i] # TODO: assign the test label\n",
        "  predicted_label = predicted[i] # TODO: assign the predicted label\n",
        "  plt.imshow(image, cmap=plt.cm.binary)\n",
        "  plt.title(\"image {} : label {} prediction {}\".format(i,gt_label, predicted_label))\n",
        "  plt.show()\n",
        "\n",
        "show_prediction(0)"
      ],
      "metadata": {
        "colab": {
          "base_uri": "https://localhost:8080/",
          "height": 281
        },
        "id": "msu-LxDwS0IB",
        "outputId": "6e819165-cf76-4613-89c5-488e19e9f6fc"
      },
      "execution_count": null,
      "outputs": [
        {
          "output_type": "display_data",
          "data": {
            "image/png": "[encoded data removed]",
            "text/plain": [
              "<Figure size 432x288 with 1 Axes>"
            ]
          },
          "metadata": {
            "needs_background": "light"
          }
        }
      ]
    },
    {
      "cell_type": "markdown",
      "source": [
        "\n",
        "Nun können wir schauen ob wir öfters das richtige Label vorher sagen. Dafür schauen wir uns einmal die ersten 20 Vorhersagen an."
      ],
      "metadata": {
        "id": "ESN7V-Cts7n5"
      }
    },
    {
      "cell_type": "code",
      "source": [
        "# TODO: print the first 20 training labels and predicted labels\n",
        "for i in range(0,20):\n",
        "  print(\"image {} : label {} preduction {}\".format(i,test_labels[i], predicted[i]))"
      ],
      "metadata": {
        "colab": {
          "base_uri": "https://localhost:8080/"
        },
        "id": "7R0iy7d0Sw0j",
        "outputId": "9a7886c2-e652-41ee-d5bf-a5f9307e392d"
      },
      "execution_count": null,
      "outputs": [
        {
          "output_type": "stream",
          "name": "stdout",
          "text": [
            "image 0 : label 7 preduction 7\n",
            "image 1 : label 2 preduction 2\n",
            "image 2 : label 1 preduction 1\n",
            "image 3 : label 0 preduction 0\n",
            "image 4 : label 4 preduction 4\n",
            "image 5 : label 1 preduction 1\n",
            "image 6 : label 4 preduction 4\n",
            "image 7 : label 9 preduction 9\n",
            "image 8 : label 5 preduction 5\n",
            "image 9 : label 9 preduction 9\n",
            "image 10 : label 0 preduction 0\n",
            "image 11 : label 6 preduction 6\n",
            "image 12 : label 9 preduction 9\n",
            "image 13 : label 0 preduction 0\n",
            "image 14 : label 1 preduction 1\n",
            "image 15 : label 5 preduction 5\n",
            "image 16 : label 9 preduction 9\n",
            "image 17 : label 7 preduction 7\n",
            "image 18 : label 3 preduction 3\n",
            "image 19 : label 4 preduction 4\n"
          ]
        }
      ]
    },
    {
      "cell_type": "markdown",
      "source": [
        "Machen wir wirklich keine Fehler?"
      ],
      "metadata": {
        "id": "kWR6H1--sJK7"
      }
    },
    {
      "cell_type": "code",
      "source": [
        "show_prediction(247)"
      ],
      "metadata": {
        "colab": {
          "base_uri": "https://localhost:8080/",
          "height": 281
        },
        "id": "ezbKUPjcLsUb",
        "outputId": "f89a2617-94d4-4537-f017-c14fb34e2bb1"
      },
      "execution_count": null,
      "outputs": [
        {
          "output_type": "display_data",
          "data": {
            "image/png": "[encoded data removed]",
            "text/plain": [
              "<Figure size 432x288 with 1 Axes>"
            ]
          },
          "metadata": {
            "needs_background": "light"
          }
        }
      ]
    },
    {
      "cell_type": "markdown",
      "source": [
        "Um das Netzwerk mit allen Testdaten zu evaluieren, gibt es schon eine Evaluationsmethode."
      ],
      "metadata": {
        "id": "NWdSYYoavi1d"
      }
    },
    {
      "cell_type": "code",
      "source": [
        "test_loss, test_acc = model.evaluate(test_images_input, test_labels)\n",
        "print('test_acc: {}'.format(test_acc))"
      ],
      "metadata": {
        "colab": {
          "base_uri": "https://localhost:8080/"
        },
        "id": "Jh8v7OdQvr2m",
        "outputId": "a3bcc643-2b85-4f52-e921-95e95834fbc0"
      },
      "execution_count": null,
      "outputs": [
        {
          "output_type": "stream",
          "name": "stdout",
          "text": [
            "313/313 [==============================] - 1s 4ms/step - loss: 0.4405 - accuracy: 0.9780\n",
            "test_acc: 0.9779999852180481\n"
          ]
        }
      ]
    },
    {
      "cell_type": "markdown",
      "source": [
        "## Fehlerfälle Visualisieren\n",
        "\n",
        "Wir zeigen nun noch alle Fehlerfälle an. Können Sie die Fehler nachvollziehen?"
      ],
      "metadata": {
        "id": "trcyG5gQrZrq"
      }
    },
    {
      "cell_type": "code",
      "source": [
        "import IPython\n",
        "import time\n",
        "%matplotlib inline\n",
        "\n",
        "# TODO: show prediction for error cases in a loop (add two lines to your loop)\n",
        "for i in range(0,test_labels.size):\n",
        "  if not test_labels[i] == predicted[i]:\n",
        "    show_prediction(i)\n",
        "    IPython.display.clear_output(wait=True) # necessary to update the image\n",
        "    time.sleep(2) # wait for 2 seconds before you continue"
      ],
      "metadata": {
        "colab": {
          "base_uri": "https://localhost:8080/",
          "height": 415
        },
        "id": "zWrm-8HNWtTx",
        "outputId": "2f78944c-f62a-4a3e-906b-d53b080d9dcd"
      },
      "execution_count": null,
      "outputs": [
        {
          "output_type": "error",
          "ename": "KeyboardInterrupt",
          "evalue": "ignored",
          "traceback": [
            "\u001b[0;31m---------------------------------------------------------------------------\u001b[0m",
            "\u001b[0;31mKeyboardInterrupt\u001b[0m                         Traceback (most recent call last)",
            "\u001b[0;32m<ipython-input-26-e1500bc7aea7>\u001b[0m in \u001b[0;36m<module>\u001b[0;34m()\u001b[0m\n\u001b[1;32m      6\u001b[0m \u001b[0;32mfor\u001b[0m \u001b[0mi\u001b[0m \u001b[0;32min\u001b[0m \u001b[0mrange\u001b[0m\u001b[0;34m(\u001b[0m\u001b[0;36m0\u001b[0m\u001b[0;34m,\u001b[0m\u001b[0mtest_labels\u001b[0m\u001b[0;34m.\u001b[0m\u001b[0msize\u001b[0m\u001b[0;34m)\u001b[0m\u001b[0;34m:\u001b[0m\u001b[0;34m\u001b[0m\u001b[0;34m\u001b[0m\u001b[0m\n\u001b[1;32m      7\u001b[0m   \u001b[0;32mif\u001b[0m \u001b[0;32mnot\u001b[0m \u001b[0mtest_labels\u001b[0m\u001b[0;34m[\u001b[0m\u001b[0mi\u001b[0m\u001b[0;34m]\u001b[0m \u001b[0;34m==\u001b[0m \u001b[0mpredicted\u001b[0m\u001b[0;34m[\u001b[0m\u001b[0mi\u001b[0m\u001b[0;34m]\u001b[0m\u001b[0;34m:\u001b[0m\u001b[0;34m\u001b[0m\u001b[0;34m\u001b[0m\u001b[0m\n\u001b[0;32m----> 8\u001b[0;31m     \u001b[0mshow_prediction\u001b[0m\u001b[0;34m(\u001b[0m\u001b[0mi\u001b[0m\u001b[0;34m)\u001b[0m\u001b[0;34m\u001b[0m\u001b[0;34m\u001b[0m\u001b[0m\n\u001b[0m\u001b[1;32m      9\u001b[0m     \u001b[0mIPython\u001b[0m\u001b[0;34m.\u001b[0m\u001b[0mdisplay\u001b[0m\u001b[0;34m.\u001b[0m\u001b[0mclear_output\u001b[0m\u001b[0;34m(\u001b[0m\u001b[0mwait\u001b[0m\u001b[0;34m=\u001b[0m\u001b[0;32mTrue\u001b[0m\u001b[0;34m)\u001b[0m \u001b[0;31m# necessary to update the image\u001b[0m\u001b[0;34m\u001b[0m\u001b[0;34m\u001b[0m\u001b[0m\n\u001b[1;32m     10\u001b[0m     \u001b[0mtime\u001b[0m\u001b[0;34m.\u001b[0m\u001b[0msleep\u001b[0m\u001b[0;34m(\u001b[0m\u001b[0;36m2\u001b[0m\u001b[0;34m)\u001b[0m \u001b[0;31m# wait for 2 seconds before you continue\u001b[0m\u001b[0;34m\u001b[0m\u001b[0;34m\u001b[0m\u001b[0m\n",
            "\u001b[0;32m<ipython-input-19-d95a5132d371>\u001b[0m in \u001b[0;36mshow_prediction\u001b[0;34m(i)\u001b[0m\n\u001b[1;32m      5\u001b[0m   \u001b[0mplt\u001b[0m\u001b[0;34m.\u001b[0m\u001b[0mimshow\u001b[0m\u001b[0;34m(\u001b[0m\u001b[0mimage\u001b[0m\u001b[0;34m,\u001b[0m \u001b[0mcmap\u001b[0m\u001b[0;34m=\u001b[0m\u001b[0mplt\u001b[0m\u001b[0;34m.\u001b[0m\u001b[0mcm\u001b[0m\u001b[0;34m.\u001b[0m\u001b[0mbinary\u001b[0m\u001b[0;34m)\u001b[0m\u001b[0;34m\u001b[0m\u001b[0;34m\u001b[0m\u001b[0m\n\u001b[1;32m      6\u001b[0m   \u001b[0mplt\u001b[0m\u001b[0;34m.\u001b[0m\u001b[0mtitle\u001b[0m\u001b[0;34m(\u001b[0m\u001b[0;34m\"image {} : label {} prediction {}\"\u001b[0m\u001b[0;34m.\u001b[0m\u001b[0mformat\u001b[0m\u001b[0;34m(\u001b[0m\u001b[0mi\u001b[0m\u001b[0;34m,\u001b[0m\u001b[0mgt_label\u001b[0m\u001b[0;34m,\u001b[0m \u001b[0mpredicted_label\u001b[0m\u001b[0;34m)\u001b[0m\u001b[0;34m)\u001b[0m\u001b[0;34m\u001b[0m\u001b[0;34m\u001b[0m\u001b[0m\n\u001b[0;32m----> 7\u001b[0;31m   \u001b[0mplt\u001b[0m\u001b[0;34m.\u001b[0m\u001b[0mshow\u001b[0m\u001b[0;34m(\u001b[0m\u001b[0;34m)\u001b[0m\u001b[0;34m\u001b[0m\u001b[0;34m\u001b[0m\u001b[0m\n\u001b[0m\u001b[1;32m      8\u001b[0m \u001b[0;34m\u001b[0m\u001b[0m\n\u001b[1;32m      9\u001b[0m \u001b[0mshow_prediction\u001b[0m\u001b[0;34m(\u001b[0m\u001b[0;36m0\u001b[0m\u001b[0;34m)\u001b[0m\u001b[0;34m\u001b[0m\u001b[0;34m\u001b[0m\u001b[0m\n",
            "\u001b[0;32m/usr/local/lib/python3.7/dist-packages/matplotlib/pyplot.py\u001b[0m in \u001b[0;36mshow\u001b[0;34m(*args, **kw)\u001b[0m\n\u001b[1;32m    270\u001b[0m     \"\"\"\n\u001b[1;32m    271\u001b[0m     \u001b[0;32mglobal\u001b[0m \u001b[0m_show\u001b[0m\u001b[0;34m\u001b[0m\u001b[0;34m\u001b[0m\u001b[0m\n\u001b[0;32m--> 272\u001b[0;31m     \u001b[0;32mreturn\u001b[0m \u001b[0m_show\u001b[0m\u001b[0;34m(\u001b[0m\u001b[0;34m*\u001b[0m\u001b[0margs\u001b[0m\u001b[0;34m,\u001b[0m \u001b[0;34m**\u001b[0m\u001b[0mkw\u001b[0m\u001b[0;34m)\u001b[0m\u001b[0;34m\u001b[0m\u001b[0;34m\u001b[0m\u001b[0m\n\u001b[0m\u001b[1;32m    273\u001b[0m \u001b[0;34m\u001b[0m\u001b[0m\n\u001b[1;32m    274\u001b[0m \u001b[0;34m\u001b[0m\u001b[0m\n",
            "\u001b[0;32m/usr/local/lib/python3.7/dist-packages/ipykernel/pylab/backend_inline.py\u001b[0m in \u001b[0;36mshow\u001b[0;34m(close, block)\u001b[0m\n\u001b[1;32m     37\u001b[0m             display(\n\u001b[1;32m     38\u001b[0m                 \u001b[0mfigure_manager\u001b[0m\u001b[0;34m.\u001b[0m\u001b[0mcanvas\u001b[0m\u001b[0;34m.\u001b[0m\u001b[0mfigure\u001b[0m\u001b[0;34m,\u001b[0m\u001b[0;34m\u001b[0m\u001b[0;34m\u001b[0m\u001b[0m\n\u001b[0;32m---> 39\u001b[0;31m                 \u001b[0mmetadata\u001b[0m\u001b[0;34m=\u001b[0m\u001b[0m_fetch_figure_metadata\u001b[0m\u001b[0;34m(\u001b[0m\u001b[0mfigure_manager\u001b[0m\u001b[0;34m.\u001b[0m\u001b[0mcanvas\u001b[0m\u001b[0;34m.\u001b[0m\u001b[0mfigure\u001b[0m\u001b[0;34m)\u001b[0m\u001b[0;34m\u001b[0m\u001b[0;34m\u001b[0m\u001b[0m\n\u001b[0m\u001b[1;32m     40\u001b[0m             )\n\u001b[1;32m     41\u001b[0m     \u001b[0;32mfinally\u001b[0m\u001b[0;34m:\u001b[0m\u001b[0;34m\u001b[0m\u001b[0;34m\u001b[0m\u001b[0m\n",
            "\u001b[0;32m/usr/local/lib/python3.7/dist-packages/IPython/core/display.py\u001b[0m in \u001b[0;36mdisplay\u001b[0;34m(*objs, **kwargs)\u001b[0m\n\u001b[1;32m    304\u001b[0m             \u001b[0mpublish_display_data\u001b[0m\u001b[0;34m(\u001b[0m\u001b[0mdata\u001b[0m\u001b[0;34m=\u001b[0m\u001b[0mobj\u001b[0m\u001b[0;34m,\u001b[0m \u001b[0mmetadata\u001b[0m\u001b[0;34m=\u001b[0m\u001b[0mmetadata\u001b[0m\u001b[0;34m,\u001b[0m \u001b[0;34m**\u001b[0m\u001b[0mkwargs\u001b[0m\u001b[0;34m)\u001b[0m\u001b[0;34m\u001b[0m\u001b[0;34m\u001b[0m\u001b[0m\n\u001b[1;32m    305\u001b[0m         \u001b[0;32melse\u001b[0m\u001b[0;34m:\u001b[0m\u001b[0;34m\u001b[0m\u001b[0;34m\u001b[0m\u001b[0m\n\u001b[0;32m--> 306\u001b[0;31m             \u001b[0mformat_dict\u001b[0m\u001b[0;34m,\u001b[0m \u001b[0mmd_dict\u001b[0m \u001b[0;34m=\u001b[0m \u001b[0mformat\u001b[0m\u001b[0;34m(\u001b[0m\u001b[0mobj\u001b[0m\u001b[0;34m,\u001b[0m \u001b[0minclude\u001b[0m\u001b[0;34m=\u001b[0m\u001b[0minclude\u001b[0m\u001b[0;34m,\u001b[0m \u001b[0mexclude\u001b[0m\u001b[0;34m=\u001b[0m\u001b[0mexclude\u001b[0m\u001b[0;34m)\u001b[0m\u001b[0;34m\u001b[0m\u001b[0;34m\u001b[0m\u001b[0m\n\u001b[0m\u001b[1;32m    307\u001b[0m             \u001b[0;32mif\u001b[0m \u001b[0;32mnot\u001b[0m \u001b[0mformat_dict\u001b[0m\u001b[0;34m:\u001b[0m\u001b[0;34m\u001b[0m\u001b[0;34m\u001b[0m\u001b[0m\n\u001b[1;32m    308\u001b[0m                 \u001b[0;31m# nothing to display (e.g. _ipython_display_ took over)\u001b[0m\u001b[0;34m\u001b[0m\u001b[0;34m\u001b[0m\u001b[0;34m\u001b[0m\u001b[0m\n",
            "\u001b[0;32m/usr/local/lib/python3.7/dist-packages/IPython/core/formatters.py\u001b[0m in \u001b[0;36mformat\u001b[0;34m(self, obj, include, exclude)\u001b[0m\n\u001b[1;32m    171\u001b[0m             \u001b[0mmd\u001b[0m \u001b[0;34m=\u001b[0m \u001b[0;32mNone\u001b[0m\u001b[0;34m\u001b[0m\u001b[0;34m\u001b[0m\u001b[0m\n\u001b[1;32m    172\u001b[0m             \u001b[0;32mtry\u001b[0m\u001b[0;34m:\u001b[0m\u001b[0;34m\u001b[0m\u001b[0;34m\u001b[0m\u001b[0m\n\u001b[0;32m--> 173\u001b[0;31m                 \u001b[0mdata\u001b[0m \u001b[0;34m=\u001b[0m \u001b[0mformatter\u001b[0m\u001b[0;34m(\u001b[0m\u001b[0mobj\u001b[0m\u001b[0;34m)\u001b[0m\u001b[0;34m\u001b[0m\u001b[0;34m\u001b[0m\u001b[0m\n\u001b[0m\u001b[1;32m    174\u001b[0m             \u001b[0;32mexcept\u001b[0m\u001b[0;34m:\u001b[0m\u001b[0;34m\u001b[0m\u001b[0;34m\u001b[0m\u001b[0m\n\u001b[1;32m    175\u001b[0m                 \u001b[0;31m# FIXME: log the exception\u001b[0m\u001b[0;34m\u001b[0m\u001b[0;34m\u001b[0m\u001b[0;34m\u001b[0m\u001b[0m\n",
            "\u001b[0;32m<decorator-gen-2>\u001b[0m in \u001b[0;36m__call__\u001b[0;34m(self, obj)\u001b[0m\n",
            "\u001b[0;32m/usr/local/lib/python3.7/dist-packages/IPython/core/formatters.py\u001b[0m in \u001b[0;36mcatch_format_error\u001b[0;34m(method, self, *args, **kwargs)\u001b[0m\n\u001b[1;32m    215\u001b[0m     \u001b[0;34m\"\"\"show traceback on failed format call\"\"\"\u001b[0m\u001b[0;34m\u001b[0m\u001b[0;34m\u001b[0m\u001b[0m\n\u001b[1;32m    216\u001b[0m     \u001b[0;32mtry\u001b[0m\u001b[0;34m:\u001b[0m\u001b[0;34m\u001b[0m\u001b[0;34m\u001b[0m\u001b[0m\n\u001b[0;32m--> 217\u001b[0;31m         \u001b[0mr\u001b[0m \u001b[0;34m=\u001b[0m \u001b[0mmethod\u001b[0m\u001b[0;34m(\u001b[0m\u001b[0mself\u001b[0m\u001b[0;34m,\u001b[0m \u001b[0;34m*\u001b[0m\u001b[0margs\u001b[0m\u001b[0;34m,\u001b[0m \u001b[0;34m**\u001b[0m\u001b[0mkwargs\u001b[0m\u001b[0;34m)\u001b[0m\u001b[0;34m\u001b[0m\u001b[0;34m\u001b[0m\u001b[0m\n\u001b[0m\u001b[1;32m    218\u001b[0m     \u001b[0;32mexcept\u001b[0m \u001b[0mNotImplementedError\u001b[0m\u001b[0;34m:\u001b[0m\u001b[0;34m\u001b[0m\u001b[0;34m\u001b[0m\u001b[0m\n\u001b[1;32m    219\u001b[0m         \u001b[0;31m# don't warn on NotImplementedErrors\u001b[0m\u001b[0;34m\u001b[0m\u001b[0;34m\u001b[0m\u001b[0;34m\u001b[0m\u001b[0m\n",
            "\u001b[0;32m/usr/local/lib/python3.7/dist-packages/IPython/core/formatters.py\u001b[0m in \u001b[0;36m__call__\u001b[0;34m(self, obj)\u001b[0m\n\u001b[1;32m    332\u001b[0m                 \u001b[0;32mpass\u001b[0m\u001b[0;34m\u001b[0m\u001b[0;34m\u001b[0m\u001b[0m\n\u001b[1;32m    333\u001b[0m             \u001b[0;32melse\u001b[0m\u001b[0;34m:\u001b[0m\u001b[0;34m\u001b[0m\u001b[0;34m\u001b[0m\u001b[0m\n\u001b[0;32m--> 334\u001b[0;31m                 \u001b[0;32mreturn\u001b[0m \u001b[0mprinter\u001b[0m\u001b[0;34m(\u001b[0m\u001b[0mobj\u001b[0m\u001b[0;34m)\u001b[0m\u001b[0;34m\u001b[0m\u001b[0;34m\u001b[0m\u001b[0m\n\u001b[0m\u001b[1;32m    335\u001b[0m             \u001b[0;31m# Finally look for special method names\u001b[0m\u001b[0;34m\u001b[0m\u001b[0;34m\u001b[0m\u001b[0;34m\u001b[0m\u001b[0m\n\u001b[1;32m    336\u001b[0m             \u001b[0mmethod\u001b[0m \u001b[0;34m=\u001b[0m \u001b[0mget_real_method\u001b[0m\u001b[0;34m(\u001b[0m\u001b[0mobj\u001b[0m\u001b[0;34m,\u001b[0m \u001b[0mself\u001b[0m\u001b[0;34m.\u001b[0m\u001b[0mprint_method\u001b[0m\u001b[0;34m)\u001b[0m\u001b[0;34m\u001b[0m\u001b[0;34m\u001b[0m\u001b[0m\n",
            "\u001b[0;32m/usr/local/lib/python3.7/dist-packages/IPython/core/pylabtools.py\u001b[0m in \u001b[0;36m<lambda>\u001b[0;34m(fig)\u001b[0m\n\u001b[1;32m    239\u001b[0m \u001b[0;34m\u001b[0m\u001b[0m\n\u001b[1;32m    240\u001b[0m     \u001b[0;32mif\u001b[0m \u001b[0;34m'png'\u001b[0m \u001b[0;32min\u001b[0m \u001b[0mformats\u001b[0m\u001b[0;34m:\u001b[0m\u001b[0;34m\u001b[0m\u001b[0;34m\u001b[0m\u001b[0m\n\u001b[0;32m--> 241\u001b[0;31m         \u001b[0mpng_formatter\u001b[0m\u001b[0;34m.\u001b[0m\u001b[0mfor_type\u001b[0m\u001b[0;34m(\u001b[0m\u001b[0mFigure\u001b[0m\u001b[0;34m,\u001b[0m \u001b[0;32mlambda\u001b[0m \u001b[0mfig\u001b[0m\u001b[0;34m:\u001b[0m \u001b[0mprint_figure\u001b[0m\u001b[0;34m(\u001b[0m\u001b[0mfig\u001b[0m\u001b[0;34m,\u001b[0m \u001b[0;34m'png'\u001b[0m\u001b[0;34m,\u001b[0m \u001b[0;34m**\u001b[0m\u001b[0mkwargs\u001b[0m\u001b[0;34m)\u001b[0m\u001b[0;34m)\u001b[0m\u001b[0;34m\u001b[0m\u001b[0;34m\u001b[0m\u001b[0m\n\u001b[0m\u001b[1;32m    242\u001b[0m     \u001b[0;32mif\u001b[0m \u001b[0;34m'retina'\u001b[0m \u001b[0;32min\u001b[0m \u001b[0mformats\u001b[0m \u001b[0;32mor\u001b[0m \u001b[0;34m'png2x'\u001b[0m \u001b[0;32min\u001b[0m \u001b[0mformats\u001b[0m\u001b[0;34m:\u001b[0m\u001b[0;34m\u001b[0m\u001b[0;34m\u001b[0m\u001b[0m\n\u001b[1;32m    243\u001b[0m         \u001b[0mpng_formatter\u001b[0m\u001b[0;34m.\u001b[0m\u001b[0mfor_type\u001b[0m\u001b[0;34m(\u001b[0m\u001b[0mFigure\u001b[0m\u001b[0;34m,\u001b[0m \u001b[0;32mlambda\u001b[0m \u001b[0mfig\u001b[0m\u001b[0;34m:\u001b[0m \u001b[0mretina_figure\u001b[0m\u001b[0;34m(\u001b[0m\u001b[0mfig\u001b[0m\u001b[0;34m,\u001b[0m \u001b[0;34m**\u001b[0m\u001b[0mkwargs\u001b[0m\u001b[0;34m)\u001b[0m\u001b[0;34m)\u001b[0m\u001b[0;34m\u001b[0m\u001b[0;34m\u001b[0m\u001b[0m\n",
            "\u001b[0;32m/usr/local/lib/python3.7/dist-packages/IPython/core/pylabtools.py\u001b[0m in \u001b[0;36mprint_figure\u001b[0;34m(fig, fmt, bbox_inches, **kwargs)\u001b[0m\n\u001b[1;32m    123\u001b[0m \u001b[0;34m\u001b[0m\u001b[0m\n\u001b[1;32m    124\u001b[0m     \u001b[0mbytes_io\u001b[0m \u001b[0;34m=\u001b[0m \u001b[0mBytesIO\u001b[0m\u001b[0;34m(\u001b[0m\u001b[0;34m)\u001b[0m\u001b[0;34m\u001b[0m\u001b[0;34m\u001b[0m\u001b[0m\n\u001b[0;32m--> 125\u001b[0;31m     \u001b[0mfig\u001b[0m\u001b[0;34m.\u001b[0m\u001b[0mcanvas\u001b[0m\u001b[0;34m.\u001b[0m\u001b[0mprint_figure\u001b[0m\u001b[0;34m(\u001b[0m\u001b[0mbytes_io\u001b[0m\u001b[0;34m,\u001b[0m \u001b[0;34m**\u001b[0m\u001b[0mkw\u001b[0m\u001b[0;34m)\u001b[0m\u001b[0;34m\u001b[0m\u001b[0;34m\u001b[0m\u001b[0m\n\u001b[0m\u001b[1;32m    126\u001b[0m     \u001b[0mdata\u001b[0m \u001b[0;34m=\u001b[0m \u001b[0mbytes_io\u001b[0m\u001b[0;34m.\u001b[0m\u001b[0mgetvalue\u001b[0m\u001b[0;34m(\u001b[0m\u001b[0;34m)\u001b[0m\u001b[0;34m\u001b[0m\u001b[0;34m\u001b[0m\u001b[0m\n\u001b[1;32m    127\u001b[0m     \u001b[0;32mif\u001b[0m \u001b[0mfmt\u001b[0m \u001b[0;34m==\u001b[0m \u001b[0;34m'svg'\u001b[0m\u001b[0;34m:\u001b[0m\u001b[0;34m\u001b[0m\u001b[0;34m\u001b[0m\u001b[0m\n",
            "\u001b[0;32m/usr/local/lib/python3.7/dist-packages/matplotlib/backend_bases.py\u001b[0m in \u001b[0;36mprint_figure\u001b[0;34m(self, filename, dpi, facecolor, edgecolor, orientation, format, bbox_inches, **kwargs)\u001b[0m\n\u001b[1;32m   2098\u001b[0m                            else suppress())\n\u001b[1;32m   2099\u001b[0m                     \u001b[0;32mwith\u001b[0m \u001b[0mctx\u001b[0m\u001b[0;34m:\u001b[0m\u001b[0;34m\u001b[0m\u001b[0;34m\u001b[0m\u001b[0m\n\u001b[0;32m-> 2100\u001b[0;31m                         \u001b[0mself\u001b[0m\u001b[0;34m.\u001b[0m\u001b[0mfigure\u001b[0m\u001b[0;34m.\u001b[0m\u001b[0mdraw\u001b[0m\u001b[0;34m(\u001b[0m\u001b[0mrenderer\u001b[0m\u001b[0;34m)\u001b[0m\u001b[0;34m\u001b[0m\u001b[0;34m\u001b[0m\u001b[0m\n\u001b[0m\u001b[1;32m   2101\u001b[0m                     \u001b[0mbbox_artists\u001b[0m \u001b[0;34m=\u001b[0m \u001b[0mkwargs\u001b[0m\u001b[0;34m.\u001b[0m\u001b[0mpop\u001b[0m\u001b[0;34m(\u001b[0m\u001b[0;34m\"bbox_extra_artists\"\u001b[0m\u001b[0;34m,\u001b[0m \u001b[0;32mNone\u001b[0m\u001b[0;34m)\u001b[0m\u001b[0;34m\u001b[0m\u001b[0;34m\u001b[0m\u001b[0m\n\u001b[1;32m   2102\u001b[0m                     bbox_inches = self.figure.get_tightbbox(renderer,\n",
            "\u001b[0;32m/usr/local/lib/python3.7/dist-packages/matplotlib/artist.py\u001b[0m in \u001b[0;36mdraw_wrapper\u001b[0;34m(artist, renderer, *args, **kwargs)\u001b[0m\n\u001b[1;32m     36\u001b[0m                 \u001b[0mrenderer\u001b[0m\u001b[0;34m.\u001b[0m\u001b[0mstart_filter\u001b[0m\u001b[0;34m(\u001b[0m\u001b[0;34m)\u001b[0m\u001b[0;34m\u001b[0m\u001b[0;34m\u001b[0m\u001b[0m\n\u001b[1;32m     37\u001b[0m \u001b[0;34m\u001b[0m\u001b[0m\n\u001b[0;32m---> 38\u001b[0;31m             \u001b[0;32mreturn\u001b[0m \u001b[0mdraw\u001b[0m\u001b[0;34m(\u001b[0m\u001b[0martist\u001b[0m\u001b[0;34m,\u001b[0m \u001b[0mrenderer\u001b[0m\u001b[0;34m,\u001b[0m \u001b[0;34m*\u001b[0m\u001b[0margs\u001b[0m\u001b[0;34m,\u001b[0m \u001b[0;34m**\u001b[0m\u001b[0mkwargs\u001b[0m\u001b[0;34m)\u001b[0m\u001b[0;34m\u001b[0m\u001b[0;34m\u001b[0m\u001b[0m\n\u001b[0m\u001b[1;32m     39\u001b[0m         \u001b[0;32mfinally\u001b[0m\u001b[0;34m:\u001b[0m\u001b[0;34m\u001b[0m\u001b[0;34m\u001b[0m\u001b[0m\n\u001b[1;32m     40\u001b[0m             \u001b[0;32mif\u001b[0m \u001b[0martist\u001b[0m\u001b[0;34m.\u001b[0m\u001b[0mget_agg_filter\u001b[0m\u001b[0;34m(\u001b[0m\u001b[0;34m)\u001b[0m \u001b[0;32mis\u001b[0m \u001b[0;32mnot\u001b[0m \u001b[0;32mNone\u001b[0m\u001b[0;34m:\u001b[0m\u001b[0;34m\u001b[0m\u001b[0;34m\u001b[0m\u001b[0m\n",
            "\u001b[0;32m/usr/local/lib/python3.7/dist-packages/matplotlib/figure.py\u001b[0m in \u001b[0;36mdraw\u001b[0;34m(self, renderer)\u001b[0m\n\u001b[1;32m   1734\u001b[0m             \u001b[0mself\u001b[0m\u001b[0;34m.\u001b[0m\u001b[0mpatch\u001b[0m\u001b[0;34m.\u001b[0m\u001b[0mdraw\u001b[0m\u001b[0;34m(\u001b[0m\u001b[0mrenderer\u001b[0m\u001b[0;34m)\u001b[0m\u001b[0;34m\u001b[0m\u001b[0;34m\u001b[0m\u001b[0m\n\u001b[1;32m   1735\u001b[0m             mimage._draw_list_compositing_images(\n\u001b[0;32m-> 1736\u001b[0;31m                 renderer, self, artists, self.suppressComposite)\n\u001b[0m\u001b[1;32m   1737\u001b[0m \u001b[0;34m\u001b[0m\u001b[0m\n\u001b[1;32m   1738\u001b[0m             \u001b[0mrenderer\u001b[0m\u001b[0;34m.\u001b[0m\u001b[0mclose_group\u001b[0m\u001b[0;34m(\u001b[0m\u001b[0;34m'figure'\u001b[0m\u001b[0;34m)\u001b[0m\u001b[0;34m\u001b[0m\u001b[0;34m\u001b[0m\u001b[0m\n",
            "\u001b[0;32m/usr/local/lib/python3.7/dist-packages/matplotlib/image.py\u001b[0m in \u001b[0;36m_draw_list_compositing_images\u001b[0;34m(renderer, parent, artists, suppress_composite)\u001b[0m\n\u001b[1;32m    135\u001b[0m     \u001b[0;32mif\u001b[0m \u001b[0mnot_composite\u001b[0m \u001b[0;32mor\u001b[0m \u001b[0;32mnot\u001b[0m \u001b[0mhas_images\u001b[0m\u001b[0;34m:\u001b[0m\u001b[0;34m\u001b[0m\u001b[0;34m\u001b[0m\u001b[0m\n\u001b[1;32m    136\u001b[0m         \u001b[0;32mfor\u001b[0m \u001b[0ma\u001b[0m \u001b[0;32min\u001b[0m \u001b[0martists\u001b[0m\u001b[0;34m:\u001b[0m\u001b[0;34m\u001b[0m\u001b[0;34m\u001b[0m\u001b[0m\n\u001b[0;32m--> 137\u001b[0;31m             \u001b[0ma\u001b[0m\u001b[0;34m.\u001b[0m\u001b[0mdraw\u001b[0m\u001b[0;34m(\u001b[0m\u001b[0mrenderer\u001b[0m\u001b[0;34m)\u001b[0m\u001b[0;34m\u001b[0m\u001b[0;34m\u001b[0m\u001b[0m\n\u001b[0m\u001b[1;32m    138\u001b[0m     \u001b[0;32melse\u001b[0m\u001b[0;34m:\u001b[0m\u001b[0;34m\u001b[0m\u001b[0;34m\u001b[0m\u001b[0m\n\u001b[1;32m    139\u001b[0m         \u001b[0;31m# Composite any adjacent images together\u001b[0m\u001b[0;34m\u001b[0m\u001b[0;34m\u001b[0m\u001b[0;34m\u001b[0m\u001b[0m\n",
            "\u001b[0;32m/usr/local/lib/python3.7/dist-packages/matplotlib/artist.py\u001b[0m in \u001b[0;36mdraw_wrapper\u001b[0;34m(artist, renderer, *args, **kwargs)\u001b[0m\n\u001b[1;32m     36\u001b[0m                 \u001b[0mrenderer\u001b[0m\u001b[0;34m.\u001b[0m\u001b[0mstart_filter\u001b[0m\u001b[0;34m(\u001b[0m\u001b[0;34m)\u001b[0m\u001b[0;34m\u001b[0m\u001b[0;34m\u001b[0m\u001b[0m\n\u001b[1;32m     37\u001b[0m \u001b[0;34m\u001b[0m\u001b[0m\n\u001b[0;32m---> 38\u001b[0;31m             \u001b[0;32mreturn\u001b[0m \u001b[0mdraw\u001b[0m\u001b[0;34m(\u001b[0m\u001b[0martist\u001b[0m\u001b[0;34m,\u001b[0m \u001b[0mrenderer\u001b[0m\u001b[0;34m,\u001b[0m \u001b[0;34m*\u001b[0m\u001b[0margs\u001b[0m\u001b[0;34m,\u001b[0m \u001b[0;34m**\u001b[0m\u001b[0mkwargs\u001b[0m\u001b[0;34m)\u001b[0m\u001b[0;34m\u001b[0m\u001b[0;34m\u001b[0m\u001b[0m\n\u001b[0m\u001b[1;32m     39\u001b[0m         \u001b[0;32mfinally\u001b[0m\u001b[0;34m:\u001b[0m\u001b[0;34m\u001b[0m\u001b[0;34m\u001b[0m\u001b[0m\n\u001b[1;32m     40\u001b[0m             \u001b[0;32mif\u001b[0m \u001b[0martist\u001b[0m\u001b[0;34m.\u001b[0m\u001b[0mget_agg_filter\u001b[0m\u001b[0;34m(\u001b[0m\u001b[0;34m)\u001b[0m \u001b[0;32mis\u001b[0m \u001b[0;32mnot\u001b[0m \u001b[0;32mNone\u001b[0m\u001b[0;34m:\u001b[0m\u001b[0;34m\u001b[0m\u001b[0;34m\u001b[0m\u001b[0m\n",
            "\u001b[0;32m/usr/local/lib/python3.7/dist-packages/matplotlib/axes/_base.py\u001b[0m in \u001b[0;36mdraw\u001b[0;34m(self, renderer, inframe)\u001b[0m\n\u001b[1;32m   2628\u001b[0m             \u001b[0mrenderer\u001b[0m\u001b[0;34m.\u001b[0m\u001b[0mstop_rasterizing\u001b[0m\u001b[0;34m(\u001b[0m\u001b[0;34m)\u001b[0m\u001b[0;34m\u001b[0m\u001b[0;34m\u001b[0m\u001b[0m\n\u001b[1;32m   2629\u001b[0m \u001b[0;34m\u001b[0m\u001b[0m\n\u001b[0;32m-> 2630\u001b[0;31m         \u001b[0mmimage\u001b[0m\u001b[0;34m.\u001b[0m\u001b[0m_draw_list_compositing_images\u001b[0m\u001b[0;34m(\u001b[0m\u001b[0mrenderer\u001b[0m\u001b[0;34m,\u001b[0m \u001b[0mself\u001b[0m\u001b[0;34m,\u001b[0m \u001b[0martists\u001b[0m\u001b[0;34m)\u001b[0m\u001b[0;34m\u001b[0m\u001b[0;34m\u001b[0m\u001b[0m\n\u001b[0m\u001b[1;32m   2631\u001b[0m \u001b[0;34m\u001b[0m\u001b[0m\n\u001b[1;32m   2632\u001b[0m         \u001b[0mrenderer\u001b[0m\u001b[0;34m.\u001b[0m\u001b[0mclose_group\u001b[0m\u001b[0;34m(\u001b[0m\u001b[0;34m'axes'\u001b[0m\u001b[0;34m)\u001b[0m\u001b[0;34m\u001b[0m\u001b[0;34m\u001b[0m\u001b[0m\n",
            "\u001b[0;32m/usr/local/lib/python3.7/dist-packages/matplotlib/image.py\u001b[0m in \u001b[0;36m_draw_list_compositing_images\u001b[0;34m(renderer, parent, artists, suppress_composite)\u001b[0m\n\u001b[1;32m    135\u001b[0m     \u001b[0;32mif\u001b[0m \u001b[0mnot_composite\u001b[0m \u001b[0;32mor\u001b[0m \u001b[0;32mnot\u001b[0m \u001b[0mhas_images\u001b[0m\u001b[0;34m:\u001b[0m\u001b[0;34m\u001b[0m\u001b[0;34m\u001b[0m\u001b[0m\n\u001b[1;32m    136\u001b[0m         \u001b[0;32mfor\u001b[0m \u001b[0ma\u001b[0m \u001b[0;32min\u001b[0m \u001b[0martists\u001b[0m\u001b[0;34m:\u001b[0m\u001b[0;34m\u001b[0m\u001b[0;34m\u001b[0m\u001b[0m\n\u001b[0;32m--> 137\u001b[0;31m             \u001b[0ma\u001b[0m\u001b[0;34m.\u001b[0m\u001b[0mdraw\u001b[0m\u001b[0;34m(\u001b[0m\u001b[0mrenderer\u001b[0m\u001b[0;34m)\u001b[0m\u001b[0;34m\u001b[0m\u001b[0;34m\u001b[0m\u001b[0m\n\u001b[0m\u001b[1;32m    138\u001b[0m     \u001b[0;32melse\u001b[0m\u001b[0;34m:\u001b[0m\u001b[0;34m\u001b[0m\u001b[0;34m\u001b[0m\u001b[0m\n\u001b[1;32m    139\u001b[0m         \u001b[0;31m# Composite any adjacent images together\u001b[0m\u001b[0;34m\u001b[0m\u001b[0;34m\u001b[0m\u001b[0;34m\u001b[0m\u001b[0m\n",
            "\u001b[0;32m/usr/local/lib/python3.7/dist-packages/matplotlib/artist.py\u001b[0m in \u001b[0;36mdraw_wrapper\u001b[0;34m(artist, renderer, *args, **kwargs)\u001b[0m\n\u001b[1;32m     36\u001b[0m                 \u001b[0mrenderer\u001b[0m\u001b[0;34m.\u001b[0m\u001b[0mstart_filter\u001b[0m\u001b[0;34m(\u001b[0m\u001b[0;34m)\u001b[0m\u001b[0;34m\u001b[0m\u001b[0;34m\u001b[0m\u001b[0m\n\u001b[1;32m     37\u001b[0m \u001b[0;34m\u001b[0m\u001b[0m\n\u001b[0;32m---> 38\u001b[0;31m             \u001b[0;32mreturn\u001b[0m \u001b[0mdraw\u001b[0m\u001b[0;34m(\u001b[0m\u001b[0martist\u001b[0m\u001b[0;34m,\u001b[0m \u001b[0mrenderer\u001b[0m\u001b[0;34m,\u001b[0m \u001b[0;34m*\u001b[0m\u001b[0margs\u001b[0m\u001b[0;34m,\u001b[0m \u001b[0;34m**\u001b[0m\u001b[0mkwargs\u001b[0m\u001b[0;34m)\u001b[0m\u001b[0;34m\u001b[0m\u001b[0;34m\u001b[0m\u001b[0m\n\u001b[0m\u001b[1;32m     39\u001b[0m         \u001b[0;32mfinally\u001b[0m\u001b[0;34m:\u001b[0m\u001b[0;34m\u001b[0m\u001b[0;34m\u001b[0m\u001b[0m\n\u001b[1;32m     40\u001b[0m             \u001b[0;32mif\u001b[0m \u001b[0martist\u001b[0m\u001b[0;34m.\u001b[0m\u001b[0mget_agg_filter\u001b[0m\u001b[0;34m(\u001b[0m\u001b[0;34m)\u001b[0m \u001b[0;32mis\u001b[0m \u001b[0;32mnot\u001b[0m \u001b[0;32mNone\u001b[0m\u001b[0;34m:\u001b[0m\u001b[0;34m\u001b[0m\u001b[0;34m\u001b[0m\u001b[0m\n",
            "\u001b[0;32m/usr/local/lib/python3.7/dist-packages/matplotlib/axis.py\u001b[0m in \u001b[0;36mdraw\u001b[0;34m(self, renderer, *args, **kwargs)\u001b[0m\n\u001b[1;32m   1230\u001b[0m \u001b[0;34m\u001b[0m\u001b[0m\n\u001b[1;32m   1231\u001b[0m         \u001b[0;32mfor\u001b[0m \u001b[0mtick\u001b[0m \u001b[0;32min\u001b[0m \u001b[0mticks_to_draw\u001b[0m\u001b[0;34m:\u001b[0m\u001b[0;34m\u001b[0m\u001b[0;34m\u001b[0m\u001b[0m\n\u001b[0;32m-> 1232\u001b[0;31m             \u001b[0mtick\u001b[0m\u001b[0;34m.\u001b[0m\u001b[0mdraw\u001b[0m\u001b[0;34m(\u001b[0m\u001b[0mrenderer\u001b[0m\u001b[0;34m)\u001b[0m\u001b[0;34m\u001b[0m\u001b[0;34m\u001b[0m\u001b[0m\n\u001b[0m\u001b[1;32m   1233\u001b[0m \u001b[0;34m\u001b[0m\u001b[0m\n\u001b[1;32m   1234\u001b[0m         \u001b[0;31m# scale up the axis label box to also find the neighbors, not\u001b[0m\u001b[0;34m\u001b[0m\u001b[0;34m\u001b[0m\u001b[0;34m\u001b[0m\u001b[0m\n",
            "\u001b[0;32m/usr/local/lib/python3.7/dist-packages/matplotlib/artist.py\u001b[0m in \u001b[0;36mdraw_wrapper\u001b[0;34m(artist, renderer, *args, **kwargs)\u001b[0m\n\u001b[1;32m     36\u001b[0m                 \u001b[0mrenderer\u001b[0m\u001b[0;34m.\u001b[0m\u001b[0mstart_filter\u001b[0m\u001b[0;34m(\u001b[0m\u001b[0;34m)\u001b[0m\u001b[0;34m\u001b[0m\u001b[0;34m\u001b[0m\u001b[0m\n\u001b[1;32m     37\u001b[0m \u001b[0;34m\u001b[0m\u001b[0m\n\u001b[0;32m---> 38\u001b[0;31m             \u001b[0;32mreturn\u001b[0m \u001b[0mdraw\u001b[0m\u001b[0;34m(\u001b[0m\u001b[0martist\u001b[0m\u001b[0;34m,\u001b[0m \u001b[0mrenderer\u001b[0m\u001b[0;34m,\u001b[0m \u001b[0;34m*\u001b[0m\u001b[0margs\u001b[0m\u001b[0;34m,\u001b[0m \u001b[0;34m**\u001b[0m\u001b[0mkwargs\u001b[0m\u001b[0;34m)\u001b[0m\u001b[0;34m\u001b[0m\u001b[0;34m\u001b[0m\u001b[0m\n\u001b[0m\u001b[1;32m     39\u001b[0m         \u001b[0;32mfinally\u001b[0m\u001b[0;34m:\u001b[0m\u001b[0;34m\u001b[0m\u001b[0;34m\u001b[0m\u001b[0m\n\u001b[1;32m     40\u001b[0m             \u001b[0;32mif\u001b[0m \u001b[0martist\u001b[0m\u001b[0;34m.\u001b[0m\u001b[0mget_agg_filter\u001b[0m\u001b[0;34m(\u001b[0m\u001b[0;34m)\u001b[0m \u001b[0;32mis\u001b[0m \u001b[0;32mnot\u001b[0m \u001b[0;32mNone\u001b[0m\u001b[0;34m:\u001b[0m\u001b[0;34m\u001b[0m\u001b[0;34m\u001b[0m\u001b[0m\n",
            "\u001b[0;32m/usr/local/lib/python3.7/dist-packages/matplotlib/axis.py\u001b[0m in \u001b[0;36mdraw\u001b[0;34m(self, renderer)\u001b[0m\n\u001b[1;32m    295\u001b[0m         for artist in [self.gridline, self.tick1line, self.tick2line,\n\u001b[1;32m    296\u001b[0m                        self.label1, self.label2]:\n\u001b[0;32m--> 297\u001b[0;31m             \u001b[0martist\u001b[0m\u001b[0;34m.\u001b[0m\u001b[0mdraw\u001b[0m\u001b[0;34m(\u001b[0m\u001b[0mrenderer\u001b[0m\u001b[0;34m)\u001b[0m\u001b[0;34m\u001b[0m\u001b[0;34m\u001b[0m\u001b[0m\n\u001b[0m\u001b[1;32m    298\u001b[0m         \u001b[0mrenderer\u001b[0m\u001b[0;34m.\u001b[0m\u001b[0mclose_group\u001b[0m\u001b[0;34m(\u001b[0m\u001b[0mself\u001b[0m\u001b[0;34m.\u001b[0m\u001b[0m__name__\u001b[0m\u001b[0;34m)\u001b[0m\u001b[0;34m\u001b[0m\u001b[0;34m\u001b[0m\u001b[0m\n\u001b[1;32m    299\u001b[0m         \u001b[0mself\u001b[0m\u001b[0;34m.\u001b[0m\u001b[0mstale\u001b[0m \u001b[0;34m=\u001b[0m \u001b[0;32mFalse\u001b[0m\u001b[0;34m\u001b[0m\u001b[0;34m\u001b[0m\u001b[0m\n",
            "\u001b[0;32m/usr/local/lib/python3.7/dist-packages/matplotlib/artist.py\u001b[0m in \u001b[0;36mdraw_wrapper\u001b[0;34m(artist, renderer, *args, **kwargs)\u001b[0m\n\u001b[1;32m     36\u001b[0m                 \u001b[0mrenderer\u001b[0m\u001b[0;34m.\u001b[0m\u001b[0mstart_filter\u001b[0m\u001b[0;34m(\u001b[0m\u001b[0;34m)\u001b[0m\u001b[0;34m\u001b[0m\u001b[0;34m\u001b[0m\u001b[0m\n\u001b[1;32m     37\u001b[0m \u001b[0;34m\u001b[0m\u001b[0m\n\u001b[0;32m---> 38\u001b[0;31m             \u001b[0;32mreturn\u001b[0m \u001b[0mdraw\u001b[0m\u001b[0;34m(\u001b[0m\u001b[0martist\u001b[0m\u001b[0;34m,\u001b[0m \u001b[0mrenderer\u001b[0m\u001b[0;34m,\u001b[0m \u001b[0;34m*\u001b[0m\u001b[0margs\u001b[0m\u001b[0;34m,\u001b[0m \u001b[0;34m**\u001b[0m\u001b[0mkwargs\u001b[0m\u001b[0;34m)\u001b[0m\u001b[0;34m\u001b[0m\u001b[0;34m\u001b[0m\u001b[0m\n\u001b[0m\u001b[1;32m     39\u001b[0m         \u001b[0;32mfinally\u001b[0m\u001b[0;34m:\u001b[0m\u001b[0;34m\u001b[0m\u001b[0;34m\u001b[0m\u001b[0m\n\u001b[1;32m     40\u001b[0m             \u001b[0;32mif\u001b[0m \u001b[0martist\u001b[0m\u001b[0;34m.\u001b[0m\u001b[0mget_agg_filter\u001b[0m\u001b[0;34m(\u001b[0m\u001b[0;34m)\u001b[0m \u001b[0;32mis\u001b[0m \u001b[0;32mnot\u001b[0m \u001b[0;32mNone\u001b[0m\u001b[0;34m:\u001b[0m\u001b[0;34m\u001b[0m\u001b[0;34m\u001b[0m\u001b[0m\n",
            "\u001b[0;32m/usr/local/lib/python3.7/dist-packages/matplotlib/text.py\u001b[0m in \u001b[0;36mdraw\u001b[0;34m(self, renderer)\u001b[0m\n\u001b[1;32m    691\u001b[0m             \u001b[0mposy\u001b[0m \u001b[0;34m=\u001b[0m \u001b[0mfloat\u001b[0m\u001b[0;34m(\u001b[0m\u001b[0mtextobj\u001b[0m\u001b[0;34m.\u001b[0m\u001b[0mconvert_yunits\u001b[0m\u001b[0;34m(\u001b[0m\u001b[0mtextobj\u001b[0m\u001b[0;34m.\u001b[0m\u001b[0m_y\u001b[0m\u001b[0;34m)\u001b[0m\u001b[0;34m)\u001b[0m\u001b[0;34m\u001b[0m\u001b[0;34m\u001b[0m\u001b[0m\n\u001b[1;32m    692\u001b[0m             \u001b[0mposx\u001b[0m\u001b[0;34m,\u001b[0m \u001b[0mposy\u001b[0m \u001b[0;34m=\u001b[0m \u001b[0mtrans\u001b[0m\u001b[0;34m.\u001b[0m\u001b[0mtransform\u001b[0m\u001b[0;34m(\u001b[0m\u001b[0;34m(\u001b[0m\u001b[0mposx\u001b[0m\u001b[0;34m,\u001b[0m \u001b[0mposy\u001b[0m\u001b[0;34m)\u001b[0m\u001b[0;34m)\u001b[0m\u001b[0;34m\u001b[0m\u001b[0;34m\u001b[0m\u001b[0m\n\u001b[0;32m--> 693\u001b[0;31m             \u001b[0;32mif\u001b[0m \u001b[0;32mnot\u001b[0m \u001b[0mnp\u001b[0m\u001b[0;34m.\u001b[0m\u001b[0misfinite\u001b[0m\u001b[0;34m(\u001b[0m\u001b[0mposx\u001b[0m\u001b[0;34m)\u001b[0m \u001b[0;32mor\u001b[0m \u001b[0;32mnot\u001b[0m \u001b[0mnp\u001b[0m\u001b[0;34m.\u001b[0m\u001b[0misfinite\u001b[0m\u001b[0;34m(\u001b[0m\u001b[0mposy\u001b[0m\u001b[0;34m)\u001b[0m\u001b[0;34m:\u001b[0m\u001b[0;34m\u001b[0m\u001b[0;34m\u001b[0m\u001b[0m\n\u001b[0m\u001b[1;32m    694\u001b[0m                 \u001b[0m_log\u001b[0m\u001b[0;34m.\u001b[0m\u001b[0mwarning\u001b[0m\u001b[0;34m(\u001b[0m\u001b[0;34m\"posx and posy should be finite values\"\u001b[0m\u001b[0;34m)\u001b[0m\u001b[0;34m\u001b[0m\u001b[0;34m\u001b[0m\u001b[0m\n\u001b[1;32m    695\u001b[0m                 \u001b[0;32mreturn\u001b[0m\u001b[0;34m\u001b[0m\u001b[0;34m\u001b[0m\u001b[0m\n",
            "\u001b[0;31mKeyboardInterrupt\u001b[0m: "
          ]
        }
      ]
    },
    {
      "cell_type": "markdown",
      "source": [
        "## Miniübungen\n",
        "- Trainieren Sie das Model für mehr Iterationen.\n",
        "- Erweitern Sie das Model und fügen Sie mehr Layer ein. Reduzieren sich die Fehler im Testset mit mehr Layern?\n",
        "- Fügen Sie nach jedem `Dense`-Layer, ausser dem Output-Layer, einen Layer ein welchen Sie mit `layers.Dropout(0.2)` erstellen.\n",
        "- Wenn Sie wollen können Sie nun noch etwas genauer analysieren ob das Netzwerk gewisse Ziffern öfters verwechselt als andere. Dafür können Sie für jedes Label anschauen wie oft welche andere Ziffer falsch vorhergesagt wird. Wenn Sie dies in eine Numpy Array speichern, können Sie das Ergebnis mit Pyplot plotten. Dafür starten Sie mit einem zweidimensionalen Numpy Array gefüllt mit Nullen. Bei jedem Fehler erhöhen Sie die Zahl im Array an der Stelle (gt_label,prediction)."
      ],
      "metadata": {
        "id": "hX40P2bz7sO1"
      }
    },
    {
      "cell_type": "code",
      "source": [
        "layer1 = layers.Dense(512, activation=\"relu\")\n",
        "layer2 = layers.Dense(512, activation=\"relu\")\n",
        "dropout = layers.Dropout(0.2) # simulates missing/noisy data\n",
        "\n",
        "model2 = keras.Sequential([\n",
        "  layer1,\n",
        "  dropout,\n",
        "  layer2,\n",
        "  dropout,\n",
        "  outputLayer\n",
        "])"
      ],
      "metadata": {
        "id": "777NezKpZ7ED"
      },
      "execution_count": null,
      "outputs": []
    },
    {
      "cell_type": "code",
      "source": [
        "import numpy as np\n",
        "error_counter = 0\n",
        "confusion_errors_matrix = np.zeros(shape = [10,10])\n",
        "\n",
        "for i in range(0,10000):\n",
        "  label = test_labels[i]\n",
        "  prediction = predicted[i]\n",
        "  if not label == prediction:\n",
        "    error_counter += 1\n",
        "    confusion_errors_matrix[label,prediction] += 1\n",
        "    print('\\r','E{} I{} : label {} prediction {}'.format(error_counter, i, label, prediction))\n",
        "  else:\n",
        "    print('\\r','I{} : label {} prediction {}'.format(i, label, prediction), end='')\n",
        "print()\n",
        "print('the network had {} errors out of 10000'.format(error_counter))"
      ],
      "metadata": {
        "colab": {
          "base_uri": "https://localhost:8080/"
        },
        "id": "4KWen0CwWpdh",
        "outputId": "3e8f0fe0-3fea-446d-b129-a661f10bc5e4"
      },
      "execution_count": null,
      "outputs": [
        {
          "output_type": "stream",
          "name": "stdout",
          "text": [
            "\r I0 : label 7 prediction 7\r I1 : label 2 prediction 2\r I2 : label 1 prediction 1\r I3 : label 0 prediction 0\r I4 : label 4 prediction 4\r I5 : label 1 prediction 1\r I6 : label 4 prediction 4\r I7 : label 9 prediction 9\r I8 : label 5 prediction 5\r I9 : label 9 prediction 9\r I10 : label 0 prediction 0\r I11 : label 6 prediction 6\r I12 : label 9 prediction 9\r I13 : label 0 prediction 0\r I14 : label 1 prediction 1\r I15 : label 5 prediction 5\r I16 : label 9 prediction 9\r I17 : label 7 prediction 7\r I18 : label 3 prediction 3\r I19 : label 4 prediction 4\r I20 : label 9 prediction 9\r I21 : label 6 prediction 6\r I22 : label 6 prediction 6\r I23 : label 5 prediction 5\r I24 : label 4 prediction 4\r I25 : label 0 prediction 0\r I26 : label 7 prediction 7\r I27 : label 4 prediction 4\r I28 : label 0 prediction 0\r I29 : label 1 prediction 1\r I30 : label 3 prediction 3\r I31 : label 1 prediction 1\r I32 : label 3 prediction 3\r I33 : label 4 prediction 4\r I34 : label 7 prediction 7\r I35 : label 2 prediction 2\r I36 : label 7 prediction 7\r I37 : label 1 prediction 1\r I38 : label 2 prediction 2\r I39 : label 1 prediction 1\r I40 : label 1 prediction 1\r I41 : label 7 prediction 7\r I42 : label 4 prediction 4\r I43 : label 2 prediction 2\r I44 : label 3 prediction 3\r I45 : label 5 prediction 5\r I46 : label 1 prediction 1\r I47 : label 2 prediction 2\r I48 : label 4 prediction 4\r I49 : label 4 prediction 4\r I50 : label 6 prediction 6\r I51 : label 3 prediction 3\r I52 : label 5 prediction 5\r I53 : label 5 prediction 5\r I54 : label 6 prediction 6\r I55 : label 0 prediction 0\r I56 : label 4 prediction 4\r I57 : label 1 prediction 1\r I58 : label 9 prediction 9\r I59 : label 5 prediction 5\r I60 : label 7 prediction 7\r I61 : label 8 prediction 8\r I62 : label 9 prediction 9\r I63 : label 3 prediction 3\r I64 : label 7 prediction 7\r I65 : label 4 prediction 4\r I66 : label 6 prediction 6\r I67 : label 4 prediction 4\r I68 : label 3 prediction 3\r I69 : label 0 prediction 0\r I70 : label 7 prediction 7\r I71 : label 0 prediction 0\r I72 : label 2 prediction 2\r I73 : label 9 prediction 9\r I74 : label 1 prediction 1\r I75 : label 7 prediction 7\r I76 : label 3 prediction 3\r I77 : label 2 prediction 2\r I78 : label 9 prediction 9\r I79 : label 7 prediction 7\r I80 : label 7 prediction 7\r I81 : label 6 prediction 6\r I82 : label 2 prediction 2\r I83 : label 7 prediction 7\r I84 : label 8 prediction 8\r I85 : label 4 prediction 4\r I86 : label 7 prediction 7\r I87 : label 3 prediction 3\r I88 : label 6 prediction 6\r I89 : label 1 prediction 1\r I90 : label 3 prediction 3\r I91 : label 6 prediction 6\r I92 : label 9 prediction 9\r I93 : label 3 prediction 3\r I94 : label 1 prediction 1\r I95 : label 4 prediction 4\r I96 : label 1 prediction 1\r I97 : label 7 prediction 7\r I98 : label 6 prediction 6\r I99 : label 9 prediction 9\r I100 : label 6 prediction 6\r I101 : label 0 prediction 0\r I102 : label 5 prediction 5\r I103 : label 4 prediction 4\r I104 : label 9 prediction 9\r I105 : label 9 prediction 9\r I106 : label 2 prediction 2\r I107 : label 1 prediction 1\r I108 : label 9 prediction 9\r I109 : label 4 prediction 4\r I110 : label 8 prediction 8\r I111 : label 7 prediction 7\r I112 : label 3 prediction 3\r I113 : label 9 prediction 9\r I114 : label 7 prediction 7\r I115 : label 4 prediction 4\r I116 : label 4 prediction 4\r I117 : label 4 prediction 4\r I118 : label 9 prediction 9\r I119 : label 2 prediction 2\r I120 : label 5 prediction 5\r I121 : label 4 prediction 4\r I122 : label 7 prediction 7\r I123 : label 6 prediction 6\r I124 : label 7 prediction 7\r I125 : label 9 prediction 9\r I126 : label 0 prediction 0\r I127 : label 5 prediction 5\r I128 : label 8 prediction 8\r I129 : label 5 prediction 5\r I130 : label 6 prediction 6\r I131 : label 6 prediction 6\r I132 : label 5 prediction 5\r I133 : label 7 prediction 7\r I134 : label 8 prediction 8\r I135 : label 1 prediction 1\r I136 : label 0 prediction 0\r I137 : label 1 prediction 1\r I138 : label 6 prediction 6\r I139 : label 4 prediction 4\r I140 : label 6 prediction 6\r I141 : label 7 prediction 7\r I142 : label 3 prediction 3\r I143 : label 1 prediction 1\r I144 : label 7 prediction 7\r I145 : label 1 prediction 1\r I146 : label 8 prediction 8\r I147 : label 2 prediction 2\r I148 : label 0 prediction 0\r E1 I149 : label 2 prediction 4\n",
            "\r I150 : label 9 prediction 9\r I151 : label 9 prediction 9\r I152 : label 5 prediction 5\r I153 : label 5 prediction 5\r I154 : label 1 prediction 1\r I155 : label 5 prediction 5\r I156 : label 6 prediction 6\r I157 : label 0 prediction 0\r I158 : label 3 prediction 3\r I159 : label 4 prediction 4\r I160 : label 4 prediction 4\r I161 : label 6 prediction 6\r I162 : label 5 prediction 5\r I163 : label 4 prediction 4\r I164 : label 6 prediction 6\r I165 : label 5 prediction 5\r I166 : label 4 prediction 4\r I167 : label 5 prediction 5\r I168 : label 1 prediction 1\r I169 : label 4 prediction 4\r I170 : label 4 prediction 4\r I171 : label 7 prediction 7\r I172 : label 2 prediction 2\r I173 : label 3 prediction 3\r I174 : label 2 prediction 2\r I175 : label 7 prediction 7\r I176 : label 1 prediction 1\r I177 : label 8 prediction 8\r I178 : label 1 prediction 1\r I179 : label 8 prediction 8\r I180 : label 1 prediction 1\r I181 : label 8 prediction 8\r I182 : label 5 prediction 5\r I183 : label 0 prediction 0\r I184 : label 8 prediction 8\r I185 : label 9 prediction 9\r I186 : label 2 prediction 2\r I187 : label 5 prediction 5\r I188 : label 0 prediction 0\r I189 : label 1 prediction 1\r I190 : label 1 prediction 1\r I191 : label 1 prediction 1\r I192 : label 0 prediction 0\r I193 : label 9 prediction 9\r I194 : label 0 prediction 0\r I195 : label 3 prediction 3\r I196 : label 1 prediction 1\r I197 : label 6 prediction 6\r I198 : label 4 prediction 4\r I199 : label 2 prediction 2\r I200 : label 3 prediction 3\r I201 : label 6 prediction 6\r I202 : label 1 prediction 1\r I203 : label 1 prediction 1\r I204 : label 1 prediction 1\r I205 : label 3 prediction 3\r I206 : label 9 prediction 9\r I207 : label 5 prediction 5\r I208 : label 2 prediction 2\r I209 : label 9 prediction 9\r I210 : label 4 prediction 4\r I211 : label 5 prediction 5\r I212 : label 9 prediction 9\r I213 : label 3 prediction 3\r I214 : label 9 prediction 9\r I215 : label 0 prediction 0\r I216 : label 3 prediction 3\r I217 : label 6 prediction 6\r I218 : label 5 prediction 5\r I219 : label 5 prediction 5\r I220 : label 7 prediction 7\r I221 : label 2 prediction 2\r I222 : label 2 prediction 2\r I223 : label 7 prediction 7\r I224 : label 1 prediction 1\r I225 : label 2 prediction 2\r I226 : label 8 prediction 8\r I227 : label 4 prediction 4\r I228 : label 1 prediction 1\r I229 : label 7 prediction 7\r I230 : label 3 prediction 3\r I231 : label 3 prediction 3\r I232 : label 8 prediction 8\r I233 : label 8 prediction 8\r I234 : label 7 prediction 7\r I235 : label 9 prediction 9\r I236 : label 2 prediction 2\r I237 : label 2 prediction 2\r I238 : label 4 prediction 4\r I239 : label 1 prediction 1\r I240 : label 5 prediction 5\r I241 : label 9 prediction 9\r I242 : label 8 prediction 8\r I243 : label 7 prediction 7\r I244 : label 2 prediction 2\r I245 : label 3 prediction 3\r I246 : label 0 prediction 0\r E2 I247 : label 4 prediction 2\n",
            "\r I248 : label 4 prediction 4\r I249 : label 2 prediction 2\r I250 : label 4 prediction 4\r I251 : label 1 prediction 1\r I252 : label 9 prediction 9\r I253 : label 5 prediction 5\r I254 : label 7 prediction 7\r I255 : label 7 prediction 7\r I256 : label 2 prediction 2\r I257 : label 8 prediction 8\r I258 : label 2 prediction 2\r E3 I259 : label 6 prediction 0\n",
            "\r I260 : label 8 prediction 8\r I261 : label 5 prediction 5\r I262 : label 7 prediction 7\r I263 : label 7 prediction 7\r I264 : label 9 prediction 9\r I265 : label 1 prediction 1\r I266 : label 8 prediction 8\r I267 : label 1 prediction 1\r I268 : label 8 prediction 8\r I269 : label 0 prediction 0\r I270 : label 3 prediction 3\r I271 : label 0 prediction 0\r I272 : label 1 prediction 1\r I273 : label 9 prediction 9\r I274 : label 9 prediction 9\r I275 : label 4 prediction 4\r I276 : label 1 prediction 1\r I277 : label 8 prediction 8\r I278 : label 2 prediction 2\r I279 : label 1 prediction 1\r I280 : label 2 prediction 2\r I281 : label 9 prediction 9\r I282 : label 7 prediction 7\r I283 : label 5 prediction 5\r I284 : label 9 prediction 9\r I285 : label 2 prediction 2\r I286 : label 6 prediction 6\r I287 : label 4 prediction 4\r I288 : label 1 prediction 1\r I289 : label 5 prediction 5\r I290 : label 8 prediction 8\r I291 : label 2 prediction 2\r I292 : label 9 prediction 9\r I293 : label 2 prediction 2\r I294 : label 0 prediction 0\r I295 : label 4 prediction 4\r I296 : label 0 prediction 0\r I297 : label 0 prediction 0\r I298 : label 2 prediction 2\r I299 : label 8 prediction 8\r I300 : label 4 prediction 4\r I301 : label 7 prediction 7\r I302 : label 1 prediction 1\r I303 : label 2 prediction 2\r I304 : label 4 prediction 4\r I305 : label 0 prediction 0\r I306 : label 2 prediction 2\r I307 : label 7 prediction 7\r I308 : label 4 prediction 4\r I309 : label 3 prediction 3\r I310 : label 3 prediction 3\r I311 : label 0 prediction 0\r I312 : label 0 prediction 0\r I313 : label 3 prediction 3\r I314 : label 1 prediction 1\r I315 : label 9 prediction 9\r I316 : label 6 prediction 6\r I317 : label 5 prediction 5\r I318 : label 2 prediction 2\r I319 : label 5 prediction 5\r I320 : label 9 prediction 9\r E4 I321 : label 2 prediction 7\n",
            "\r I322 : label 9 prediction 9\r I323 : label 3 prediction 3\r I324 : label 0 prediction 0\r I325 : label 4 prediction 4\r I326 : label 2 prediction 2\r I327 : label 0 prediction 0\r I328 : label 7 prediction 7\r I329 : label 1 prediction 1\r I330 : label 1 prediction 1\r I331 : label 2 prediction 2\r I332 : label 1 prediction 1\r I333 : label 5 prediction 5\r I334 : label 3 prediction 3\r I335 : label 3 prediction 3\r I336 : label 9 prediction 9\r I337 : label 7 prediction 7\r I338 : label 8 prediction 8\r I339 : label 6 prediction 6\r E5 I340 : label 5 prediction 3\n",
            "\r I341 : label 6 prediction 6\r I342 : label 1 prediction 1\r I343 : label 3 prediction 3\r I344 : label 8 prediction 8\r I345 : label 1 prediction 1\r I346 : label 0 prediction 0\r I347 : label 5 prediction 5\r I348 : label 1 prediction 1\r I349 : label 3 prediction 3\r I350 : label 1 prediction 1\r I351 : label 5 prediction 5\r I352 : label 5 prediction 5\r I353 : label 6 prediction 6\r I354 : label 1 prediction 1\r I355 : label 8 prediction 8\r I356 : label 5 prediction 5\r I357 : label 1 prediction 1\r I358 : label 7 prediction 7\r I359 : label 9 prediction 9\r I360 : label 4 prediction 4\r I361 : label 6 prediction 6\r I362 : label 2 prediction 2\r I363 : label 2 prediction 2\r I364 : label 5 prediction 5\r I365 : label 0 prediction 0\r I366 : label 6 prediction 6\r I367 : label 5 prediction 5\r I368 : label 6 prediction 6\r I369 : label 3 prediction 3\r I370 : label 7 prediction 7\r I371 : label 2 prediction 2\r I372 : label 0 prediction 0\r I373 : label 8 prediction 8\r I374 : label 8 prediction 8\r I375 : label 5 prediction 5\r I376 : label 4 prediction 4\r I377 : label 1 prediction 1\r I378 : label 1 prediction 1\r I379 : label 4 prediction 4\r I380 : label 0 prediction 0\r E6 I381 : label 3 prediction 7\n",
            "\r I382 : label 3 prediction 3\r I383 : label 7 prediction 7\r I384 : label 6 prediction 6\r I385 : label 1 prediction 1\r I386 : label 6 prediction 6\r I387 : label 2 prediction 2\r I388 : label 1 prediction 1\r I389 : label 9 prediction 9\r I390 : label 2 prediction 2\r I391 : label 8 prediction 8\r I392 : label 6 prediction 6\r I393 : label 1 prediction 1\r I394 : label 9 prediction 9\r I395 : label 5 prediction 5\r I396 : label 2 prediction 2\r I397 : label 5 prediction 5\r I398 : label 4 prediction 4\r I399 : label 4 prediction 4\r I400 : label 2 prediction 2\r I401 : label 8 prediction 8\r I402 : label 3 prediction 3\r I403 : label 8 prediction 8\r I404 : label 2 prediction 2\r I405 : label 4 prediction 4\r I406 : label 5 prediction 5\r I407 : label 0 prediction 0\r I408 : label 3 prediction 3\r I409 : label 1 prediction 1\r I410 : label 7 prediction 7\r I411 : label 7 prediction 7\r I412 : label 5 prediction 5\r I413 : label 7 prediction 7\r I414 : label 9 prediction 9\r I415 : label 7 prediction 7\r I416 : label 1 prediction 1\r I417 : label 9 prediction 9\r I418 : label 2 prediction 2\r I419 : label 1 prediction 1\r I420 : label 4 prediction 4\r I421 : label 2 prediction 2\r I422 : label 9 prediction 9\r I423 : label 2 prediction 2\r I424 : label 0 prediction 0\r I425 : label 4 prediction 4\r I426 : label 9 prediction 9\r I427 : label 1 prediction 1\r I428 : label 4 prediction 4\r I429 : label 8 prediction 8\r I430 : label 1 prediction 1\r I431 : label 8 prediction 8\r I432 : label 4 prediction 4\r I433 : label 5 prediction 5\r I434 : label 9 prediction 9\r I435 : label 8 prediction 8\r I436 : label 8 prediction 8\r I437 : label 3 prediction 3\r I438 : label 7 prediction 7\r I439 : label 6 prediction 6\r I440 : label 0 prediction 0\r I441 : label 0 prediction 0\r I442 : label 3 prediction 3\r I443 : label 0 prediction 0\r I444 : label 2 prediction 2\r E7 I445 : label 6 prediction 0\n",
            "\r I446 : label 6 prediction 6\r I447 : label 4 prediction 4\r I448 : label 9 prediction 9\r I449 : label 3 prediction 3\r I450 : label 3 prediction 3\r I451 : label 3 prediction 3\r I452 : label 2 prediction 2\r I453 : label 3 prediction 3\r I454 : label 9 prediction 9\r I455 : label 1 prediction 1\r I456 : label 2 prediction 2\r I457 : label 6 prediction 6\r I458 : label 8 prediction 8\r I459 : label 0 prediction 0\r I460 : label 5 prediction 5\r I461 : label 6 prediction 6\r I462 : label 6 prediction 6\r I463 : label 6 prediction 6\r I464 : label 3 prediction 3\r I465 : label 8 prediction 8\r I466 : label 8 prediction 8\r I467 : label 2 prediction 2\r I468 : label 7 prediction 7\r I469 : label 5 prediction 5\r I470 : label 8 prediction 8\r I471 : label 9 prediction 9\r I472 : label 6 prediction 6\r I473 : label 1 prediction 1\r I474 : label 8 prediction 8\r I475 : label 4 prediction 4\r I476 : label 1 prediction 1\r I477 : label 2 prediction 2\r I478 : label 5 prediction 5\r I479 : label 9 prediction 9\r I480 : label 1 prediction 1\r I481 : label 9 prediction 9\r I482 : label 7 prediction 7\r I483 : label 5 prediction 5\r I484 : label 4 prediction 4\r I485 : label 0 prediction 0\r I486 : label 8 prediction 8\r I487 : label 9 prediction 9\r I488 : label 9 prediction 9\r I489 : label 1 prediction 1\r I490 : label 0 prediction 0\r I491 : label 5 prediction 5\r I492 : label 2 prediction 2\r I493 : label 3 prediction 3\r I494 : label 7 prediction 7\r E8 I495 : label 8 prediction 2\n",
            "\r I496 : label 9 prediction 9\r I497 : label 4 prediction 4\r I498 : label 0 prediction 0\r I499 : label 6 prediction 6\r I500 : label 3 prediction 3\r I501 : label 9 prediction 9\r I502 : label 5 prediction 5\r I503 : label 2 prediction 2\r I504 : label 1 prediction 1\r I505 : label 3 prediction 3\r I506 : label 1 prediction 1\r I507 : label 3 prediction 3\r I508 : label 6 prediction 6\r I509 : label 5 prediction 5\r I510 : label 7 prediction 7\r I511 : label 4 prediction 4\r I512 : label 2 prediction 2\r I513 : label 2 prediction 2\r I514 : label 6 prediction 6\r I515 : label 3 prediction 3\r I516 : label 2 prediction 2\r I517 : label 6 prediction 6\r I518 : label 5 prediction 5\r I519 : label 4 prediction 4\r I520 : label 8 prediction 8\r I521 : label 9 prediction 9\r I522 : label 7 prediction 7\r I523 : label 1 prediction 1\r I524 : label 3 prediction 3\r I525 : label 0 prediction 0\r I526 : label 3 prediction 3\r I527 : label 8 prediction 8\r I528 : label 3 prediction 3\r I529 : label 1 prediction 1\r I530 : label 9 prediction 9\r I531 : label 3 prediction 3\r I532 : label 4 prediction 4\r I533 : label 4 prediction 4\r I534 : label 6 prediction 6\r I535 : label 4 prediction 4\r I536 : label 2 prediction 2\r I537 : label 1 prediction 1\r I538 : label 8 prediction 8\r I539 : label 2 prediction 2\r I540 : label 5 prediction 5\r I541 : label 4 prediction 4\r I542 : label 8 prediction 8\r I543 : label 8 prediction 8\r I544 : label 4 prediction 4\r I545 : label 0 prediction 0\r I546 : label 0 prediction 0\r I547 : label 2 prediction 2\r I548 : label 3 prediction 3\r I549 : label 2 prediction 2\r I550 : label 7 prediction 7\r I551 : label 7 prediction 7\r I552 : label 0 prediction 0\r I553 : label 8 prediction 8\r I554 : label 7 prediction 7\r I555 : label 4 prediction 4\r I556 : label 4 prediction 4\r I557 : label 7 prediction 7\r I558 : label 9 prediction 9\r I559 : label 6 prediction 6\r I560 : label 9 prediction 9\r I561 : label 0 prediction 0\r I562 : label 9 prediction 9\r I563 : label 8 prediction 8\r I564 : label 0 prediction 0\r I565 : label 4 prediction 4\r I566 : label 6 prediction 6\r I567 : label 0 prediction 0\r I568 : label 6 prediction 6\r I569 : label 3 prediction 3\r I570 : label 5 prediction 5\r I571 : label 4 prediction 4\r I572 : label 8 prediction 8\r I573 : label 3 prediction 3\r I574 : label 3 prediction 3\r I575 : label 9 prediction 9\r I576 : label 3 prediction 3\r I577 : label 3 prediction 3\r I578 : label 3 prediction 3\r I579 : label 7 prediction 7\r I580 : label 8 prediction 8\r I581 : label 0 prediction 0\r E9 I582 : label 8 prediction 2\n",
            "\r I583 : label 2 prediction 2\r I584 : label 1 prediction 1\r I585 : label 7 prediction 7\r I586 : label 0 prediction 0\r I587 : label 6 prediction 6\r I588 : label 5 prediction 5\r I589 : label 4 prediction 4\r I590 : label 3 prediction 3\r I591 : label 8 prediction 8\r I592 : label 0 prediction 0\r I593 : label 9 prediction 9\r I594 : label 6 prediction 6\r I595 : label 3 prediction 3\r I596 : label 8 prediction 8\r I597 : label 0 prediction 0\r I598 : label 9 prediction 9\r I599 : label 9 prediction 9\r I600 : label 6 prediction 6\r I601 : label 8 prediction 8\r I602 : label 6 prediction 6\r I603 : label 8 prediction 8\r I604 : label 5 prediction 5\r I605 : label 7 prediction 7\r I606 : label 8 prediction 8\r I607 : label 6 prediction 6\r I608 : label 0 prediction 0\r I609 : label 2 prediction 2\r E10 I610 : label 4 prediction 2\n",
            "\r I611 : label 0 prediction 0\r I612 : label 2 prediction 2\r I613 : label 2 prediction 2\r I614 : label 3 prediction 3\r I615 : label 1 prediction 1\r I616 : label 9 prediction 9\r I617 : label 7 prediction 7\r I618 : label 5 prediction 5\r E11 I619 : label 1 prediction 8\n",
            "\r I620 : label 0 prediction 0\r I621 : label 8 prediction 8\r I622 : label 4 prediction 4\r I623 : label 6 prediction 6\r I624 : label 2 prediction 2\r I625 : label 6 prediction 6\r I626 : label 7 prediction 7\r I627 : label 9 prediction 9\r I628 : label 3 prediction 3\r I629 : label 2 prediction 2\r I630 : label 9 prediction 9\r I631 : label 8 prediction 8\r I632 : label 2 prediction 2\r I633 : label 2 prediction 2\r I634 : label 9 prediction 9\r I635 : label 2 prediction 2\r I636 : label 7 prediction 7\r I637 : label 3 prediction 3\r I638 : label 5 prediction 5\r I639 : label 9 prediction 9\r I640 : label 1 prediction 1\r I641 : label 8 prediction 8\r I642 : label 0 prediction 0\r I643 : label 2 prediction 2\r I644 : label 0 prediction 0\r I645 : label 5 prediction 5\r I646 : label 2 prediction 2\r I647 : label 1 prediction 1\r I648 : label 3 prediction 3\r I649 : label 7 prediction 7\r I650 : label 6 prediction 6\r I651 : label 7 prediction 7\r I652 : label 1 prediction 1\r I653 : label 2 prediction 2\r I654 : label 5 prediction 5\r I655 : label 8 prediction 8\r I656 : label 0 prediction 0\r I657 : label 3 prediction 3\r I658 : label 7 prediction 7\r E12 I659 : label 2 prediction 1\n",
            "\r I660 : label 4 prediction 4\r I661 : label 0 prediction 0\r I662 : label 9 prediction 9\r I663 : label 1 prediction 1\r I664 : label 8 prediction 8\r I665 : label 6 prediction 6\r I666 : label 7 prediction 7\r I667 : label 7 prediction 7\r I668 : label 4 prediction 4\r I669 : label 3 prediction 3\r I670 : label 4 prediction 4\r I671 : label 9 prediction 9\r I672 : label 1 prediction 1\r I673 : label 9 prediction 9\r I674 : label 5 prediction 5\r I675 : label 1 prediction 1\r I676 : label 7 prediction 7\r I677 : label 3 prediction 3\r I678 : label 9 prediction 9\r I679 : label 7 prediction 7\r I680 : label 6 prediction 6\r I681 : label 9 prediction 9\r I682 : label 1 prediction 1\r I683 : label 3 prediction 3\r E13 I684 : label 7 prediction 3\n",
            "\r I685 : label 8 prediction 8\r I686 : label 3 prediction 3\r I687 : label 3 prediction 3\r I688 : label 6 prediction 6\r I689 : label 7 prediction 7\r I690 : label 2 prediction 2\r E14 I691 : label 8 prediction 4\n",
            "\r I692 : label 5 prediction 5\r I693 : label 8 prediction 8\r I694 : label 5 prediction 5\r I695 : label 1 prediction 1\r I696 : label 1 prediction 1\r I697 : label 4 prediction 4\r I698 : label 4 prediction 4\r I699 : label 3 prediction 3\r I700 : label 1 prediction 1\r I701 : label 0 prediction 0\r I702 : label 7 prediction 7\r I703 : label 7 prediction 7\r I704 : label 0 prediction 0\r I705 : label 7 prediction 7\r I706 : label 9 prediction 9\r E15 I707 : label 4 prediction 9\n",
            "\r I708 : label 4 prediction 4\r I709 : label 8 prediction 8\r I710 : label 5 prediction 5\r I711 : label 5 prediction 5\r I712 : label 4 prediction 4\r I713 : label 0 prediction 0\r I714 : label 8 prediction 8\r I715 : label 2 prediction 2\r I716 : label 1 prediction 1\r I717 : label 0 prediction 0\r I718 : label 8 prediction 8\r I719 : label 4 prediction 4\r E16 I720 : label 5 prediction 8\n",
            "\r I721 : label 0 prediction 0\r I722 : label 4 prediction 4\r I723 : label 0 prediction 0\r I724 : label 6 prediction 6\r I725 : label 1 prediction 1\r I726 : label 7 prediction 7\r I727 : label 3 prediction 3\r I728 : label 2 prediction 2\r I729 : label 6 prediction 6\r I730 : label 7 prediction 7\r I731 : label 2 prediction 2\r I732 : label 6 prediction 6\r I733 : label 9 prediction 9\r I734 : label 3 prediction 3\r I735 : label 1 prediction 1\r I736 : label 4 prediction 4\r I737 : label 6 prediction 6\r I738 : label 2 prediction 2\r I739 : label 5 prediction 5\r E17 I740 : label 4 prediction 9\n",
            "\r I741 : label 2 prediction 2\r I742 : label 0 prediction 0\r I743 : label 6 prediction 6\r I744 : label 2 prediction 2\r I745 : label 1 prediction 1\r I746 : label 7 prediction 7\r I747 : label 3 prediction 3\r I748 : label 4 prediction 4\r I749 : label 1 prediction 1\r I750 : label 0 prediction 0\r I751 : label 5 prediction 5\r I752 : label 4 prediction 4\r I753 : label 3 prediction 3\r I754 : label 1 prediction 1\r I755 : label 1 prediction 1\r I756 : label 7 prediction 7\r I757 : label 4 prediction 4\r I758 : label 9 prediction 9\r I759 : label 9 prediction 9\r E18 I760 : label 4 prediction 9\n",
            "\r I761 : label 8 prediction 8\r I762 : label 4 prediction 4\r I763 : label 0 prediction 0\r I764 : label 2 prediction 2\r I765 : label 4 prediction 4\r I766 : label 5 prediction 5\r I767 : label 1 prediction 1\r I768 : label 1 prediction 1\r I769 : label 6 prediction 6\r I770 : label 4 prediction 4\r I771 : label 7 prediction 7\r I772 : label 1 prediction 1\r I773 : label 9 prediction 9\r I774 : label 4 prediction 4\r I775 : label 2 prediction 2\r I776 : label 4 prediction 4\r I777 : label 1 prediction 1\r I778 : label 5 prediction 5\r I779 : label 5 prediction 5\r I780 : label 3 prediction 3\r I781 : label 8 prediction 8\r I782 : label 3 prediction 3\r I783 : label 1 prediction 1\r I784 : label 4 prediction 4\r I785 : label 5 prediction 5\r I786 : label 6 prediction 6\r I787 : label 8 prediction 8\r I788 : label 9 prediction 9\r I789 : label 4 prediction 4\r I790 : label 1 prediction 1\r I791 : label 5 prediction 5\r I792 : label 3 prediction 3\r I793 : label 8 prediction 8\r I794 : label 0 prediction 0\r I795 : label 3 prediction 3\r I796 : label 2 prediction 2\r I797 : label 5 prediction 5\r I798 : label 1 prediction 1\r I799 : label 2 prediction 2\r I800 : label 8 prediction 8\r I801 : label 3 prediction 3\r I802 : label 4 prediction 4\r I803 : label 4 prediction 4\r I804 : label 0 prediction 0\r I805 : label 8 prediction 8\r I806 : label 8 prediction 8\r I807 : label 3 prediction 3\r I808 : label 3 prediction 3\r I809 : label 1 prediction 1\r E19 I810 : label 7 prediction 2\n",
            "\r I811 : label 3 prediction 3\r I812 : label 5 prediction 5\r I813 : label 9 prediction 9\r I814 : label 6 prediction 6\r I815 : label 3 prediction 3\r I816 : label 2 prediction 2\r I817 : label 6 prediction 6\r I818 : label 1 prediction 1\r I819 : label 3 prediction 3\r I820 : label 6 prediction 6\r I821 : label 0 prediction 0\r I822 : label 7 prediction 7\r I823 : label 2 prediction 2\r I824 : label 1 prediction 1\r I825 : label 7 prediction 7\r I826 : label 1 prediction 1\r I827 : label 4 prediction 4\r I828 : label 2 prediction 2\r I829 : label 4 prediction 4\r I830 : label 2 prediction 2\r I831 : label 1 prediction 1\r I832 : label 7 prediction 7\r I833 : label 9 prediction 9\r I834 : label 6 prediction 6\r I835 : label 1 prediction 1\r I836 : label 1 prediction 1\r I837 : label 2 prediction 2\r I838 : label 4 prediction 4\r I839 : label 8 prediction 8\r I840 : label 1 prediction 1\r I841 : label 7 prediction 7\r I842 : label 7 prediction 7\r I843 : label 4 prediction 4\r I844 : label 8 prediction 8\r I845 : label 0 prediction 0\r E20 I846 : label 7 prediction 9\n",
            "\r I847 : label 3 prediction 3\r I848 : label 1 prediction 1\r I849 : label 3 prediction 3\r I850 : label 1 prediction 1\r I851 : label 0 prediction 0\r I852 : label 7 prediction 7\r I853 : label 7 prediction 7\r I854 : label 0 prediction 0\r I855 : label 3 prediction 3\r I856 : label 5 prediction 5\r I857 : label 5 prediction 5\r I858 : label 2 prediction 2\r I859 : label 7 prediction 7\r I860 : label 6 prediction 6\r I861 : label 6 prediction 6\r I862 : label 9 prediction 9\r I863 : label 2 prediction 2\r I864 : label 8 prediction 8\r I865 : label 3 prediction 3\r I866 : label 5 prediction 5\r I867 : label 2 prediction 2\r I868 : label 2 prediction 2\r I869 : label 5 prediction 5\r I870 : label 6 prediction 6\r I871 : label 0 prediction 0\r I872 : label 8 prediction 8\r I873 : label 2 prediction 2\r I874 : label 9 prediction 9\r I875 : label 2 prediction 2\r I876 : label 8 prediction 8\r I877 : label 8 prediction 8\r I878 : label 8 prediction 8\r I879 : label 8 prediction 8\r I880 : label 7 prediction 7\r I881 : label 4 prediction 4\r I882 : label 9 prediction 9\r I883 : label 3 prediction 3\r I884 : label 0 prediction 0\r I885 : label 6 prediction 6\r I886 : label 6 prediction 6\r I887 : label 3 prediction 3\r I888 : label 2 prediction 2\r I889 : label 1 prediction 1\r I890 : label 3 prediction 3\r I891 : label 2 prediction 2\r I892 : label 2 prediction 2\r I893 : label 9 prediction 9\r I894 : label 3 prediction 3\r I895 : label 0 prediction 0\r I896 : label 0 prediction 0\r I897 : label 5 prediction 5\r I898 : label 7 prediction 7\r I899 : label 8 prediction 8\r I900 : label 1 prediction 1\r I901 : label 4 prediction 4\r I902 : label 4 prediction 4\r I903 : label 6 prediction 6\r I904 : label 0 prediction 0\r I905 : label 2 prediction 2\r I906 : label 9 prediction 9\r I907 : label 1 prediction 1\r I908 : label 4 prediction 4\r I909 : label 7 prediction 7\r I910 : label 4 prediction 4\r I911 : label 7 prediction 7\r I912 : label 3 prediction 3\r I913 : label 9 prediction 9\r I914 : label 8 prediction 8\r I915 : label 8 prediction 8\r I916 : label 4 prediction 4\r I917 : label 7 prediction 7\r I918 : label 1 prediction 1\r I919 : label 2 prediction 2\r I920 : label 1 prediction 1\r I921 : label 2 prediction 2\r I922 : label 2 prediction 2\r I923 : label 3 prediction 3\r I924 : label 2 prediction 2\r I925 : label 3 prediction 3\r I926 : label 2 prediction 2\r I927 : label 3 prediction 3\r I928 : label 9 prediction 9\r I929 : label 1 prediction 1\r I930 : label 7 prediction 7\r I931 : label 4 prediction 4\r I932 : label 0 prediction 0\r I933 : label 3 prediction 3\r I934 : label 5 prediction 5\r I935 : label 5 prediction 5\r I936 : label 8 prediction 8\r I937 : label 6 prediction 6\r I938 : label 3 prediction 3\r I939 : label 2 prediction 2\r I940 : label 6 prediction 6\r I941 : label 7 prediction 7\r I942 : label 6 prediction 6\r I943 : label 6 prediction 6\r I944 : label 3 prediction 3\r I945 : label 2 prediction 2\r I946 : label 7 prediction 7\r E21 I947 : label 8 prediction 9\n",
            "\r I948 : label 1 prediction 1\r I949 : label 1 prediction 1\r I950 : label 7 prediction 7\r E22 I951 : label 5 prediction 4\n",
            "\r I952 : label 6 prediction 6\r I953 : label 4 prediction 4\r I954 : label 9 prediction 9\r I955 : label 5 prediction 5\r E23 I956 : label 1 prediction 2\n",
            " E24 I965 : label 6 prediction 0\n",
            " E25 I1003 : label 5 prediction 3\n",
            " E26 I1014 : label 6 prediction 5\n",
            " E27 I1039 : label 7 prediction 2\n",
            " E28 I1112 : label 4 prediction 6\n",
            " E29 I1156 : label 7 prediction 8\n",
            " E30 I1182 : label 6 prediction 8\n",
            " E31 I1194 : label 7 prediction 9\n",
            " E32 I1226 : label 7 prediction 2\n",
            " E33 I1232 : label 9 prediction 4\n",
            " E34 I1242 : label 4 prediction 9\n",
            " E35 I1247 : label 9 prediction 5\n",
            " E36 I1260 : label 7 prediction 1\n",
            " E37 I1299 : label 5 prediction 7\n",
            " E38 I1319 : label 8 prediction 3\n",
            " E39 I1326 : label 7 prediction 2\n",
            " E40 I1337 : label 2 prediction 6\n",
            " E41 I1364 : label 8 prediction 2\n",
            " E42 I1393 : label 5 prediction 3\n",
            " E43 I1496 : label 7 prediction 9\n",
            " E44 I1500 : label 7 prediction 1\n",
            " E45 I1522 : label 7 prediction 9\n",
            " E46 I1530 : label 8 prediction 7\n",
            " E47 I1549 : label 4 prediction 6\n",
            " E48 I1609 : label 2 prediction 6\n",
            " E49 I1681 : label 3 prediction 7\n",
            " E50 I1709 : label 9 prediction 3\n",
            " E51 I1717 : label 8 prediction 0\n",
            " E52 I1751 : label 4 prediction 2\n",
            " E53 I1754 : label 7 prediction 2\n",
            " E54 I1790 : label 2 prediction 8\n",
            " E55 I1800 : label 6 prediction 4\n",
            " E56 I1878 : label 8 prediction 3\n",
            " E57 I1901 : label 9 prediction 4\n",
            " E58 I1941 : label 7 prediction 2\n",
            " E59 I1970 : label 5 prediction 3\n",
            " E60 I1984 : label 2 prediction 0\n",
            " E61 I2004 : label 8 prediction 9\n",
            " E62 I2016 : label 7 prediction 2\n",
            " E63 I2024 : label 7 prediction 9\n",
            " E64 I2043 : label 4 prediction 8\n",
            " E65 I2053 : label 4 prediction 9\n",
            " E66 I2070 : label 7 prediction 9\n",
            " E67 I2098 : label 2 prediction 0\n",
            " E68 I2109 : label 3 prediction 7\n",
            " E69 I2118 : label 6 prediction 0\n",
            " E70 I2130 : label 4 prediction 9\n",
            " E71 I2135 : label 6 prediction 1\n",
            " E72 I2162 : label 5 prediction 8\n",
            " E73 I2182 : label 1 prediction 2\n",
            " E74 I2224 : label 5 prediction 8\n",
            " E75 I2272 : label 8 prediction 0\n",
            " E76 I2293 : label 9 prediction 0\n",
            " E77 I2369 : label 5 prediction 9\n",
            " E78 I2387 : label 9 prediction 1\n",
            " E79 I2414 : label 9 prediction 4\n",
            " E80 I2422 : label 6 prediction 4\n",
            " E81 I2433 : label 2 prediction 1\n",
            " E82 I2454 : label 6 prediction 8\n",
            " E83 I2488 : label 2 prediction 4\n",
            " E84 I2597 : label 5 prediction 3\n",
            " E85 I2607 : label 7 prediction 1\n",
            " E86 I2635 : label 2 prediction 7\n",
            " E87 I2648 : label 9 prediction 0\n",
            " E88 I2654 : label 6 prediction 1\n",
            " E89 I2877 : label 4 prediction 7\n",
            " E90 I2907 : label 4 prediction 9\n",
            " E91 I2915 : label 7 prediction 3\n",
            " E92 I2921 : label 3 prediction 2\n",
            " E93 I2930 : label 5 prediction 7\n",
            " E94 I2939 : label 9 prediction 7\n",
            " E95 I2995 : label 6 prediction 8\n",
            " E96 I3005 : label 9 prediction 1\n",
            " E97 I3073 : label 1 prediction 2\n",
            " E98 I3117 : label 5 prediction 9\n",
            " E99 I3172 : label 4 prediction 9\n",
            " E100 I3376 : label 7 prediction 9\n",
            " E101 I3405 : label 4 prediction 9\n",
            " E102 I3422 : label 6 prediction 0\n",
            " E103 I3503 : label 9 prediction 1\n",
            " E104 I3520 : label 6 prediction 4\n",
            " E105 I3549 : label 3 prediction 2\n",
            " E106 I3558 : label 5 prediction 0\n",
            " E107 I3567 : label 8 prediction 5\n",
            " E108 I3597 : label 9 prediction 3\n",
            " E109 I3702 : label 5 prediction 3\n",
            " E110 I3718 : label 4 prediction 9\n",
            " E111 I3751 : label 7 prediction 2\n",
            " E112 I3757 : label 8 prediction 3\n",
            " E113 I3776 : label 5 prediction 8\n",
            " E114 I3780 : label 4 prediction 6\n",
            " E115 I3796 : label 2 prediction 8\n",
            " E116 I3808 : label 7 prediction 8\n",
            " E117 I3811 : label 2 prediction 3\n",
            " E118 I3818 : label 0 prediction 6\n",
            " E119 I3838 : label 7 prediction 1\n",
            " E120 I3853 : label 6 prediction 5\n",
            " E121 I3893 : label 5 prediction 6\n",
            " E122 I3906 : label 1 prediction 3\n",
            " E123 I3941 : label 4 prediction 2\n",
            " E124 I3943 : label 3 prediction 5\n",
            " E125 I3951 : label 8 prediction 2\n",
            " E126 I3976 : label 7 prediction 1\n",
            " E127 I4065 : label 0 prediction 9\n",
            " E128 I4078 : label 9 prediction 3\n",
            " E129 I4102 : label 7 prediction 9\n",
            " E130 I4163 : label 9 prediction 0\n",
            " E131 I4176 : label 2 prediction 7\n",
            " E132 I4199 : label 7 prediction 9\n",
            " E133 I4224 : label 9 prediction 7\n",
            " E134 I4248 : label 2 prediction 8\n",
            " E135 I4289 : label 2 prediction 7\n",
            " E136 I4355 : label 5 prediction 3\n",
            " E137 I4360 : label 5 prediction 3\n",
            " E138 I4369 : label 9 prediction 4\n",
            " E139 I4437 : label 3 prediction 2\n",
            " E140 I4497 : label 8 prediction 7\n",
            " E141 I4500 : label 9 prediction 1\n",
            " E142 I4504 : label 2 prediction 7\n",
            " E143 I4536 : label 6 prediction 5\n",
            " E144 I4571 : label 6 prediction 8\n",
            " E145 I4578 : label 7 prediction 9\n",
            " E146 I4601 : label 8 prediction 4\n",
            " E147 I4761 : label 9 prediction 8\n",
            " E148 I4807 : label 8 prediction 3\n",
            " E149 I4814 : label 6 prediction 0\n",
            " E150 I4823 : label 9 prediction 4\n",
            " E151 I4880 : label 0 prediction 8\n",
            " E152 I4943 : label 2 prediction 8\n",
            " E153 I4956 : label 8 prediction 4\n",
            " E154 I4966 : label 7 prediction 9\n",
            " E155 I5331 : label 1 prediction 6\n",
            " E156 I5457 : label 1 prediction 8\n",
            " E157 I5600 : label 7 prediction 9\n",
            " E158 I5634 : label 2 prediction 3\n",
            " E159 I5642 : label 1 prediction 5\n",
            " E160 I5676 : label 4 prediction 3\n",
            " E161 I5734 : label 3 prediction 7\n",
            " E162 I5749 : label 8 prediction 2\n",
            " E163 I5887 : label 7 prediction 0\n",
            " E164 I5888 : label 4 prediction 0\n",
            " E165 I5926 : label 4 prediction 9\n",
            " E166 I5936 : label 4 prediction 9\n",
            " E167 I5937 : label 5 prediction 3\n",
            " E168 I5955 : label 3 prediction 8\n",
            " E169 I5972 : label 5 prediction 3\n",
            " E170 I5973 : label 3 prediction 8\n",
            " E171 I5981 : label 5 prediction 9\n",
            " E172 I5982 : label 5 prediction 3\n",
            " E173 I6024 : label 8 prediction 3\n",
            " E174 I6042 : label 5 prediction 3\n",
            " E175 I6045 : label 3 prediction 9\n",
            " E176 I6059 : label 3 prediction 9\n",
            " E177 I6071 : label 9 prediction 3\n",
            " E178 I6166 : label 9 prediction 3\n",
            " E179 I6168 : label 9 prediction 3\n",
            " E180 I6505 : label 9 prediction 0\n",
            " E181 I6555 : label 8 prediction 9\n",
            " E182 I6560 : label 9 prediction 3\n",
            " E183 I6571 : label 9 prediction 7\n",
            " E184 I6574 : label 2 prediction 6\n",
            " E185 I6576 : label 7 prediction 1\n",
            " E186 I6597 : label 0 prediction 7\n",
            " E187 I6651 : label 0 prediction 8\n",
            " E188 I6755 : label 8 prediction 9\n",
            " E189 I6783 : label 1 prediction 6\n",
            " E190 I6847 : label 6 prediction 4\n",
            " E191 I7216 : label 0 prediction 3\n",
            " E192 I7434 : label 4 prediction 8\n",
            " E193 I7886 : label 2 prediction 4\n",
            " E194 I7928 : label 1 prediction 8\n",
            " E195 I8020 : label 1 prediction 8\n",
            " E196 I8062 : label 5 prediction 8\n",
            " E197 I8094 : label 2 prediction 8\n",
            " E198 I8311 : label 6 prediction 4\n",
            " E199 I8325 : label 0 prediction 6\n",
            " E200 I8502 : label 5 prediction 3\n",
            " E201 I8519 : label 7 prediction 3\n",
            " E202 I8520 : label 4 prediction 9\n",
            " E203 I8522 : label 8 prediction 6\n",
            " E204 I9009 : label 7 prediction 2\n",
            " E205 I9015 : label 7 prediction 2\n",
            " E206 I9019 : label 7 prediction 2\n",
            " E207 I9024 : label 7 prediction 2\n",
            " E208 I9587 : label 9 prediction 4\n",
            " E209 I9634 : label 0 prediction 8\n",
            " E210 I9664 : label 2 prediction 7\n",
            " E211 I9669 : label 4 prediction 7\n",
            " E212 I9679 : label 6 prediction 3\n",
            " E213 I9698 : label 6 prediction 5\n",
            " E214 I9700 : label 2 prediction 8\n",
            " E215 I9729 : label 5 prediction 6\n",
            " E216 I9745 : label 4 prediction 2\n",
            " E217 I9749 : label 5 prediction 6\n",
            " E218 I9768 : label 2 prediction 0\n",
            " E219 I9770 : label 5 prediction 0\n",
            " E220 I9779 : label 2 prediction 0\n",
            " E221 I9792 : label 4 prediction 7\n",
            " E222 I9808 : label 9 prediction 4\n",
            " E223 I9811 : label 2 prediction 8\n",
            " E224 I9839 : label 2 prediction 7\n",
            " E225 I9944 : label 3 prediction 8\n",
            " E226 I9982 : label 5 prediction 6\n",
            " I9999 : label 6 prediction 6\n",
            "the network had 226 errors out of 10000\n"
          ]
        }
      ]
    },
    {
      "cell_type": "markdown",
      "source": [
        "Wir schauen an welche Kombinationen von Label-Prediction die meisten Fehler erzeugt. Dies gibt ein Hinweis, was für das Netzwerk schwer zu lernen ist."
      ],
      "metadata": {
        "id": "pNnfXReTrxII"
      }
    },
    {
      "cell_type": "code",
      "source": [
        "plt.imshow(confusion_errors_matrix)\n",
        "plt.ylabel('label')\n",
        "plt.xlabel('prediction')"
      ],
      "metadata": {
        "colab": {
          "base_uri": "https://localhost:8080/",
          "height": 297
        },
        "id": "_Q36F1atlJ8t",
        "outputId": "4b3aa4ab-9dc1-45a9-a512-5a02de835263"
      },
      "execution_count": null,
      "outputs": [
        {
          "output_type": "execute_result",
          "data": {
            "text/plain": [
              "Text(0.5, 0, 'prediction')"
            ]
          },
          "metadata": {},
          "execution_count": 26
        },
        {
          "output_type": "display_data",
          "data": {
            "image/png": "[encoded data removed]",
            "text/plain": [
              "<Figure size 432x288 with 1 Axes>"
            ]
          },
          "metadata": {
            "needs_background": "light"
          }
        }
      ]
    },
    {
      "cell_type": "code",
      "source": [
        ""
      ],
      "metadata": {
        "id": "2TMk29FNV21E"
      },
      "execution_count": null,
      "outputs": []
    }
  ]
}