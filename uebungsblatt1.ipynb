{
 "cells": [
  {
   "cell_type": "markdown",
   "metadata": {},
   "source": [
    "# Übungsblatt 1: Erste Programme "
   ]
  },
  {
   "cell_type": "markdown",
   "metadata": {
    "deletable": false
   },
   "source": [
    "*Schreiben Sie in dieses Feld Ihren Vornamen, Namen und Matrikelnummer.*"
   ]
  },
  {
   "cell_type": "markdown",
   "metadata": {
    "deletable": false
   },
   "source": [
    "#### Variablendeklaration (1 Punkt)\n",
    "\n",
    "Weisen Sie den Wert ```42``` einer Variable mit dem Namen ```ultimate_answer``` zu."
   ]
  },
  {
   "cell_type": "code",
   "execution_count": 4,
   "metadata": {
    "deletable": false,
    "exercise_id": 1
   },
   "outputs": [],
   "source": [
    "# Ihre Lösung"
   ]
  },
  {
   "cell_type": "markdown",
   "metadata": {
    "deletable": false
   },
   "source": [
    "#### Peptalk (2 Punkte)\n",
    "\n",
    "\n",
    "Schreiben Sie ein Programm, welches Ihren Vornamen in einer Variable ```firstname``` speichert und dann folgenden Text ausgibt:\n",
    "> Hallo VORNAME - Es freut mich, dass du programmieren lernst. \n",
    "\n",
    "Der Text muss dabei auf einer Zeile ausgegeben werden. \n"
   ]
  },
  {
   "cell_type": "code",
   "execution_count": 1,
   "metadata": {
    "deletable": false,
    "exercise_id": 2
   },
   "outputs": [],
   "source": [
    "# Ihre Lösung"
   ]
  },
  {
   "cell_type": "markdown",
   "metadata": {},
   "source": [
    "#### Zinseszinsen (2 Punkte)\n",
    "\n",
    "Schreiben Sie ein Programm, welches für ein gegebenes Startkapital und einen festen Zinssatz die am Endes des ersten und zweiten Jahres erhaltenen Zinsen, berechnet. Ihr Programm soll dabei folgende Anforderungen erfüllen:\n",
    "\n",
    "* Das Kapital nach dem ersten Jahr muss in einer Variablen mit dem Namen ```kapital_jahr_1``` und das Kapital mit dem zweiten Jahr (inklusive Zinsen) muss in einer Variable mit dem Namen ```kapital_jahr_2``` gespeichert werden.\n",
    "* Es soll eine Meldung mit dem Text ```Kapital nach Jahr 2: Fr. XXX``` ausgegeben werden, wobei XXX für den erwirtschafteten Zins steht\n"
   ]
  },
  {
   "cell_type": "code",
   "execution_count": 2,
   "metadata": {
    "deletable": false,
    "exercise_id": 3
   },
   "outputs": [],
   "source": [
    "startkapital = 100 \n",
    "zinssatz = 0.01\n",
    "\n",
    "# Ihre Lösung"
   ]
  },
  {
   "cell_type": "markdown",
   "metadata": {
    "deletable": false
   },
   "source": [
    "#### Windchill  (2 Punkte)\n",
    "\n",
    "Schreiben Sie ein Programm, dass den Windchill-Faktor berechnet. Der Windchill-Faktor ist definiert als \n",
    "$13.12 + 0.0615 t - 11.37 v^{0.16} + 0.3965 t v^{0.16}$\n",
    "wobei $t$ und $v$ die aktuelle Temperatur (in Grad Celsius) und v der Windgeschwindigkeit (in m/s) entspricht. \n",
    "\n",
    "* Nutzen Sie dazu zwei Variablen ```v``` und ```t``` und speichern Sie das Ergebnis in einer Variablen mit dem Namen ```wc```. \n",
    "* Geben Sie die Meldung ```Windchill-Faktor: wc``` aus, wobei ```wc``` mit dem berechneten Wert ersetzt werden soll. \n",
    "\n",
    "Tip: Der Ausdruck ```a ** b``` berechnet $a^b$. "
   ]
  },
  {
   "cell_type": "code",
   "execution_count": 3,
   "metadata": {
    "deletable": false,
    "exercise_id": 4
   },
   "outputs": [],
   "source": [
    "# Ihre Lösung"
   ]
  },
  {
   "cell_type": "markdown",
   "metadata": {},
   "source": [
    "#### Typen (1 Punkt)\n",
    "\n",
    "Schreiben Sie ein Programm, welches den Typ des Werts der aus den Berechnungen ```5 % 3``` und ```5 / 3``` ausgibt. Dabei soll jeder auf eine eigene Zeile geschrieben werden. \n",
    "\n"
   ]
  },
  {
   "cell_type": "code",
   "execution_count": 5,
   "metadata": {
    "deletable": false,
    "exercise_id": 5
   },
   "outputs": [],
   "source": [
    "# Ihre Lösung"
   ]
  },
  {
   "cell_type": "markdown",
   "metadata": {
    "deletable": false
   },
   "source": [
    "#### Swap (2 Punkte)\n",
    "\n",
    "Schreiben Sie ein Programm, welches den Wert der Variablen ```a``` und ```b``` vertauscht, d.h. ```a``` soll am Ende den Wert von ```b``` haben und ```b``` den Wert der Variablen ```a```. Dabei dürfen Sie die Werte ```0``` und ```1``` nicht direkt zuweisen, sondern müssen die Variablen (und allenfalls Hilfsvariablen) nutzen.  "
   ]
  },
  {
   "cell_type": "code",
   "execution_count": 3,
   "metadata": {
    "deletable": false,
    "exercise_id": 6
   },
   "outputs": [],
   "source": [
    "a = 0 # Diese Zeile darf nicht verändert werden\n",
    "b = 1 # Diese Zeile darf nicht verändert werden\n",
    "\n",
    "# Ihre Lösung"
   ]
  }
 ],
 "metadata": {
  "celltoolbar": "Edit Metadata",
  "kernelspec": {
   "display_name": "Python 3 (ipykernel)",
   "language": "python",
   "name": "python3"
  },
  "language_info": {
   "codemirror_mode": {
    "name": "ipython",
    "version": 3
   },
   "file_extension": ".py",
   "mimetype": "text/x-python",
   "name": "python",
   "nbconvert_exporter": "python",
   "pygments_lexer": "ipython3",
   "version": "3.7.4"
  },
  "notebook_id": 1,
  "toc": {
   "base_numbering": 1,
   "nav_menu": {},
   "number_sections": false,
   "sideBar": false,
   "skip_h1_title": false,
   "title_cell": "Table of Contents",
   "title_sidebar": "Contents",
   "toc_cell": false,
   "toc_position": {},
   "toc_section_display": false,
   "toc_window_display": false
  }
 },
 "nbformat": 4,
 "nbformat_minor": 2
}
