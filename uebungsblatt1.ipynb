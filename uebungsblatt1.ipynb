{
 "cells": [
  {
   "cell_type": "markdown",
   "source": [
    "# Übungsblatt 1: Erste Programme "
   ],
   "metadata": {}
  },
  {
   "cell_type": "markdown",
   "source": [
    "*Schreiben Sie in dieses Feld Ihren Vornamen, Namen und Matrikelnummer.*"
   ],
   "metadata": {
    "deletable": false
   }
  },
  {
   "cell_type": "markdown",
   "source": [
    "#### Variablendeklaration (1 Punkt)\n",
    "\n",
    "Weisen Sie den Wert ```42``` einer Variable mit dem Namen ```ultimate_answer``` zu."
   ],
   "metadata": {
    "deletable": false
   }
  },
  {
   "cell_type": "code",
   "execution_count": 1,
   "source": [
    " # Ihre Lösung"
   ],
   "outputs": [],
   "metadata": {
    "deletable": false,
    "exercise_id": 1
   }
  },
  {
   "cell_type": "markdown",
   "source": [
    "#### Peptalk (2 Punkte)\n",
    "\n",
    "\n",
    "Schreiben Sie ein Programm, welches Ihren Vornamen in einer Variable ```firstname``` speichert und dann folgenden Text ausgibt:\n",
    "> Hallo VORNAME - Es freut mich, dass du programmieren lernst. \n",
    "\n",
    "Der Text muss dabei auf einer Zeile ausgegeben werden. \n"
   ],
   "metadata": {
    "deletable": false
   }
  },
  {
   "cell_type": "code",
   "execution_count": null,
   "source": [
    "# Ihre Lösung\r\n"
   ],
   "outputs": [],
   "metadata": {
    "deletable": false,
    "exercise_id": 2
   }
  },
  {
   "cell_type": "markdown",
   "source": [
    "#### Zinseszinsen (2 Punkte)\r\n",
    "\r\n",
    "Schreiben Sie ein Programm, welches für ein gegebenes Startkapital und einen festen Zinssatz das am Endes des ersten und zweiten Jahres enstehende gesamt Kapital mit den erhaltenen Zinsen, berechnet. Ihr Programm soll dabei folgende Anforderungen erfüllen:\r\n",
    "\r\n",
    "* Das Kapital inklusive der Zinsen nach dem ersten Jahr muss in einer Variablen mit dem Namen ```kapital_jahr_1``` und das Kapital inklusive Zinsen nach dem zweiten Jahr muss in einer Variable mit dem Namen ```kapital_jahr_2``` gespeichert werden.\r\n",
    "* Es soll eine Meldung mit dem Text ```Kapital nach Jahr 2: Fr. XXX``` ausgegeben werden, wobei XXX für das Gesamtkapital steht.\r\n"
   ],
   "metadata": {}
  },
  {
   "cell_type": "code",
   "execution_count": 2,
   "source": [
    "startkapital = 100 \r\n",
    "zinssatz = 0.01\r\n",
    "\r\n",
    "# Ihre Lösung\r\n"
   ],
   "outputs": [],
   "metadata": {
    "deletable": false,
    "exercise_id": 3
   }
  },
  {
   "cell_type": "markdown",
   "source": [
    "#### Windchill  (2 Punkte)\r\n",
    "\r\n",
    "Sie möchten zum Skifahren. Der Wetterbericht meldet -5 C bei leichtem Wind von 25 km/h. Wie fühlt sich dies wohl an? Mit dem Windchill-Faktor können sie die gefühlte Temperatur abschätzen. Der Windchill-Faktor ist definiert als \r\n",
    "$13.12 + 0.615 t - 11.37 v^{0.16} + 0.3965 t v^{0.16}$\r\n",
    "wobei $t$ und $v$ die aktuelle Temperatur (in Grad Celsius) und v der Windgeschwindigkeit (in km/h) entspricht. Schreiben Sie ein Programm, das den Windchill-Faktor zu den oben genannten Bedingungen berechnet.\r\n",
    "\r\n",
    "* Nutzen Sie dazu zwei Variablen ```v``` und ```t``` und speichern Sie das Ergebnis in einer Variablen mit dem Namen ```wc```. \r\n",
    "* Initialisieren Sie die Variable ```v``` mit dem Wert 25 und ```t``` mit ```-5```.\r\n",
    "* Geben Sie die Meldung ```Windchill-Faktor: wc``` aus, wobei ```wc``` mit dem berechneten Wert ersetzt werden soll. \r\n",
    "\r\n",
    "Tip: Der Ausdruck ```a ** b``` berechnet $a^b$. "
   ],
   "metadata": {
    "deletable": false
   }
  },
  {
   "cell_type": "code",
   "execution_count": 1,
   "source": [
    "# Ihre Lösung"
   ],
   "outputs": [
    {
     "output_type": "stream",
     "name": "stdout",
     "text": [
      "printWindchill-Faktor: wc -12.302707994308893\n"
     ]
    }
   ],
   "metadata": {
    "deletable": false,
    "exercise_id": 4
   }
  },
  {
   "cell_type": "markdown",
   "source": [
    "#### Typen (1 Punkt)\r\n",
    "\r\n",
    "Schreiben Sie ein Programm, welches den Typ des Werts der aus den Berechnungen ```5 % 3``` und ```5 / 1``` mittels ```print``` ausgibt. Dabei soll jeweils eine eigene Zeile verwendet werden. \r\n",
    "\r\n"
   ],
   "metadata": {}
  },
  {
   "cell_type": "code",
   "execution_count": 3,
   "source": [
    "# Ihre Lösung"
   ],
   "outputs": [
    {
     "output_type": "stream",
     "name": "stdout",
     "text": [
      "<class 'float'>\n"
     ]
    }
   ],
   "metadata": {
    "deletable": false,
    "exercise_id": 5
   }
  },
  {
   "cell_type": "markdown",
   "source": [
    "#### Swap (2 Punkte)\n",
    "\n",
    "Schreiben Sie ein Programm, welches den Wert der Variablen ```a``` und ```b``` vertauscht, d.h. ```a``` soll am Ende den Wert von ```b``` haben und ```b``` den Wert der Variablen ```a```. Dabei dürfen Sie die Werte ```0``` und ```1``` nicht direkt zuweisen, sondern müssen die Variablen (und allenfalls Hilfsvariablen) nutzen.  "
   ],
   "metadata": {
    "deletable": false
   }
  },
  {
   "cell_type": "code",
   "execution_count": 3,
   "source": [
    "a = 0 # Diese Zeile darf nicht verändert werden\r\n",
    "b = 1 # Diese Zeile darf nicht verändert werden\r\n",
    "\r\n",
    "# Ihre Lösung\r\n"
   ],
   "outputs": [
    {
     "output_type": "stream",
     "name": "stdout",
     "text": [
      "Wert von a: 0   Wert von b: 1\n"
     ]
    }
   ],
   "metadata": {
    "deletable": false,
    "exercise_id": 6
   }
  },
  {
   "cell_type": "code",
   "execution_count": null,
   "source": [],
   "outputs": [],
   "metadata": {}
  }
 ],
 "metadata": {
  "celltoolbar": "Edit Metadata",
  "kernelspec": {
   "display_name": "Python 3.8 (standard)",
   "language": "python",
   "name": "python3.8"
  },
  "language_info": {
   "codemirror_mode": {
    "name": "ipython",
    "version": 3
   },
   "file_extension": ".py",
   "mimetype": "text/x-python",
   "name": "python",
   "nbconvert_exporter": "python",
   "pygments_lexer": "ipython3",
   "version": "3.8.11"
  },
  "notebook_id": 1,
  "toc": {
   "base_numbering": 1,
   "nav_menu": {},
   "number_sections": false,
   "sideBar": false,
   "skip_h1_title": false,
   "title_cell": "Table of Contents",
   "title_sidebar": "Contents",
   "toc_cell": false,
   "toc_position": {},
   "toc_section_display": false,
   "toc_window_display": false
  }
 },
 "nbformat": 4,
 "nbformat_minor": 2
}