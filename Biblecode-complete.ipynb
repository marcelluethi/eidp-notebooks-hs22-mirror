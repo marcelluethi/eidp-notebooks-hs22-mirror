{
 "cells": [
  {
   "cell_type": "markdown",
   "id": "8538e0ae",
   "metadata": {},
   "source": [
    "# Der Bibelcode"
   ]
  },
  {
   "cell_type": "markdown",
   "id": "46f1bc0b",
   "metadata": {},
   "source": [
    "### Einführung\n",
    "\n",
    "\n",
    "1997 hat ein Buch des Journalisten Michael Drosnin grosse Aufmerksamkeit erregt. Das Buch mit dem Namen *Bible code* postuliert, dass in der Bibel (genauer gesagt in der Tora) versteckte Botschaften codiert sind. Diese Botschaften sind durch equidistante Folgen von Zeichen codiert, wie im folgenden Bild gezeigt ist (Quelle: Wikipedia)\n",
    "<figure style=\"align:center\">\n",
    "    <img src=\"images/bible-code.png\" width=200px/>\n",
    "</figure>\n",
    "\n",
    "In dieser Fallstudie werden wir überprüfen, ob wir auch in anderen Werken solche Botschaften finden. Wir nutzen dazu das Buch Krieg und Frieden von Leo Tolstoy, welches frei auf [Projekt Gutenberg](https://www.gutenberg.org) verfügbar ist. "
   ]
  },
  {
   "cell_type": "markdown",
   "id": "8e78ea27",
   "metadata": {},
   "source": [
    "### Aufgabe\n",
    "\n",
    "Unser Ziel ist es in einem Text alle als *Bible code* versteckten Wörter zu finden welche in einem Wörterbuch vorkommen. Dabei ist der Text in einer einfachen `.txt`-Datei gegeben und das Wörterbuch als eine `.json`-Datei."
   ]
  },
  {
   "cell_type": "markdown",
   "id": "13f7e56e",
   "metadata": {},
   "source": [
    "### Problem Analyse und Zerlegung\n",
    "\n",
    "Wir wollen als erstes das ganze Problem in Teilprobleme zerlegen. Dabei sollen die Teilprobleme einfach zu implementieren sein und sich auch gut zur gesamten Lösung zusammensetzten lassen.\n",
    "\n",
    "Überlegen Sie sich Teilprobleme und ergänzen Sie die Liste damit. Überlegen Sie sich auch, welche Teilprobleme Sie einfach als Funktion implementieren können:\n",
    "\n",
    "- Einlesen des Textes aus einer .txt-Datei.\n",
    "- Einlesen eines Wörterbuches aus einer .json-Datei.\n",
    "- ...\n",
    "- *Entfernen von Sondernzeichen aus einem Text (und umwandeln in Kleinbuchstaben).*\n",
    "- *Extrahieren eines Wortes aus einem Text an einer Stelle mit gegebener Distanz zwischen den Buchstaben.*\n",
    "- *Stellen finden wo der Anfangsbuchstabe des Wortes vorkommt.*\n",
    "- *Testen von allen Worten im Dictionary.*\n",
    "- *Speichern einer Stelle wo ein Wort gefunden wurde.*\n",
    "- *Ausgabe aller Stellen wo ein Wort gefunden wurde.*\n",
    "- *Ausgabe wie oft ein Wort gefunden wurde.*"
   ]
  },
  {
   "cell_type": "markdown",
   "id": "1162f942",
   "metadata": {},
   "source": [
    "### Vorbereiten der Daten\n",
    "\n",
    "Als Erstes wollen wir die Vorverarbeitung der Daten erstellen. Wir wollen unsere Chancen auf einen Treffer erhöhen indem wir von einem Text möglichst nur die Buchstaben behalten. Dazu schreiben wir uns eine erste Hilfsfunktion. Diese soll: \n",
    "- auf Basis eines übergebenen Textes einen neuen Text erstellen.\n",
    "- möglichst nur Buchstaben behalten.\n",
    "- die Buchstaben in Kleinbuchstaben umwandeln."
   ]
  },
  {
   "cell_type": "code",
   "execution_count": 1,
   "id": "867a37c3",
   "metadata": {},
   "outputs": [],
   "source": [
    "#lower_case_letters = [chr(ord('a')+x) for x in range(0,26)]\n",
    "#lower_case_letters = ['a', 'b', 'c', 'd', 'e', 'f', 'g', 'h', 'i', 'j', 'k', 'l', 'm', 'n', 'o', 'p', 'q', 'r', 's', 't', 'u', 'v', 'w', 'x', 'y', 'z']\n",
    "#c.isalpha()\n",
    "\n",
    "def clean_text(text): # clean_text as new name? (it is anyway not an appropriate name)\n",
    "    s = \"\" \n",
    "    for c in text:\n",
    "        # lower_case = c.lower()\n",
    "        # if c.lower() in lower_case_letters:\n",
    "        # if c.isalpha():\n",
    "        if not c in ['.', ',', '?', '!', ' ']: # ,'\\n', '\\r', '\\t', '-', ':', ';', '*',\n",
    "            s += c.lower()\n",
    "    return s"
   ]
  },
  {
   "cell_type": "markdown",
   "id": "4e90c403",
   "metadata": {},
   "source": [
    "Da wir all unseren Code den wir schreiben immer auch testen sollen, rufen wir die Funktion mit einem einfachen Text auf. Wir schauen dann ob die Funktion das tut was wir erwarten."
   ]
  },
  {
   "cell_type": "code",
   "execution_count": 2,
   "id": "54ba7749",
   "metadata": {},
   "outputs": [
    {
     "data": {
      "text/plain": [
       "'einefrageeinausrufezeichenundeinpunkt'"
      ]
     },
     "execution_count": 2,
     "metadata": {},
     "output_type": "execute_result"
    }
   ],
   "source": [
    "clean_text(\"Eine Frage? ein Ausrufezeichen! und ein Punkt.\")"
   ]
  },
  {
   "cell_type": "markdown",
   "id": "100aa6a2",
   "metadata": {},
   "source": [
    "### Text laden\n",
    "Als nächstes wollen wir das laden des Textes aus einem File implementieren. Auch dazu schreiben wir uns eine Funktion welche den Inhalt des Files `war-and-peace.txt` laden soll. Der Text soll dann gleich noch von Sonderzeichen befreit werden."
   ]
  },
  {
   "cell_type": "code",
   "execution_count": 3,
   "id": "994a06d2",
   "metadata": {},
   "outputs": [],
   "source": [
    "def load_preprocessed_text():\n",
    "    f = open(\"war-and-peace.txt\", 'r')\n",
    "    text = f.read()\n",
    "    f.close()\n",
    "    return clean_text(text)"
   ]
  },
  {
   "cell_type": "markdown",
   "id": "787fbafa",
   "metadata": {},
   "source": [
    "Test wir doch auch diese Funktion gleich indem wir die ersten 100 Zeichen ausgeben."
   ]
  },
  {
   "cell_type": "code",
   "execution_count": 4,
   "id": "7a037451",
   "metadata": {},
   "outputs": [
    {
     "data": {
      "text/plain": [
       "'ï»¿theprojectgutenbergebookofwarandpeacebyleotolstoy\\n\\nthisebookisfortheuseofanyoneanywhereatnocostan'"
      ]
     },
     "execution_count": 4,
     "metadata": {},
     "output_type": "execute_result"
    }
   ],
   "source": [
    "load_preprocessed_text()[0:100] # Wir geben nur die ersten 100 Zeichen aus. "
   ]
  },
  {
   "cell_type": "markdown",
   "id": "541d2d9f",
   "metadata": {},
   "source": [
    "### Äquidistante Buchstaben\n",
    "Ein weiteres Teilproblem ist, dass wir an einer Stelle eines Textes ein Wort extrahieren können mit einer gegebener Distanz der Buchstaben. Dafür schreiben wir uns eine Funktion, welche:\n",
    "- ab einer gegebenen Position `start_position` Buchstaben aus dem Text `text` extrahiert.\n",
    "- wenn möglich `number_of_letters` Buchstaben mit Distanz `distance` extrahiert.\n",
    "- die extrahierten Buchstaben als neues Wort zurückgibt."
   ]
  },
  {
   "cell_type": "code",
   "execution_count": 5,
   "id": "fb1703a2",
   "metadata": {},
   "outputs": [],
   "source": [
    "def equidistant_letter_seq(text, start_position, number_of_letters, distance):\n",
    "    s = \"\" \n",
    "    end_position = start_position+number_of_letters*distance\n",
    "    end_position = min(end_position,len(text))\n",
    "    for i in range(start_position,end_position,distance):\n",
    "        s += text[i]\n",
    "    return s\n",
    "\n",
    "    #i = 0\n",
    "    #while start_position + i * distance < len(text) and i < number_of_letters:\n",
    "    #    s += text[start_position + i * distance]\n",
    "    #    i += 1\n",
    "    #return s"
   ]
  },
  {
   "cell_type": "markdown",
   "id": "a260eaae",
   "metadata": {},
   "source": [
    "Testen! Ja, auch diese Funktion testen wir."
   ]
  },
  {
   "cell_type": "code",
   "execution_count": 6,
   "id": "1f18aafe",
   "metadata": {},
   "outputs": [
    {
     "data": {
      "text/plain": [
       "'ro tu'"
      ]
     },
     "execution_count": 6,
     "metadata": {},
     "output_type": "execute_result"
    }
   ],
   "source": [
    "equidistant_letter_seq(\"Der Mond ist aufgegangen\", 2, 5, 3)"
   ]
  },
  {
   "cell_type": "markdown",
   "id": "4f13f883",
   "metadata": {},
   "source": [
    "### Mögliche Startpositionen\n",
    "\n",
    "Nun können wir durch einen Text gehen, und schauen wo der Anfangsbuchstaben eines zu suchenden Wortes vorkommt. So wissen wir wo im Text wir überhaupt suchen müssen."
   ]
  },
  {
   "cell_type": "code",
   "execution_count": 7,
   "id": "9619d677",
   "metadata": {},
   "outputs": [],
   "source": [
    "def locate_char_in_text(text, character):\n",
    "    possible_start_locations = []\n",
    "    for i in range(0,len(text)):\n",
    "        if text[i] == character:\n",
    "            possible_start_locations.append(i)\n",
    "    return possible_start_locations"
   ]
  },
  {
   "cell_type": "markdown",
   "id": "e0ec1d73",
   "metadata": {},
   "source": [
    "Auch diese Funktion können wir ganz einfach kurz testen."
   ]
  },
  {
   "cell_type": "code",
   "execution_count": 8,
   "id": "2a3e0e9b",
   "metadata": {},
   "outputs": [
    {
     "data": {
      "text/plain": [
       "[1, 2, 5, 12, 25]"
      ]
     },
     "execution_count": 8,
     "metadata": {},
     "output_type": "execute_result"
    }
   ],
   "source": [
    "locate_char_in_text(\"Abba bringt brandneue Tonbändchen auf den Markt.\", 'b')"
   ]
  },
  {
   "cell_type": "markdown",
   "id": "edf07ad1",
   "metadata": {},
   "source": [
    "### Ist das Wort gefunden?\n",
    "\n",
    "Als nächstes wollen wir in einem Text nachschauen ob an einer bestimmten Position mit einer bestimmten Distanz zwischen den Buchstaben ein Wort vorkommt."
   ]
  },
  {
   "cell_type": "code",
   "execution_count": 9,
   "id": "ccf8e5a0",
   "metadata": {},
   "outputs": [],
   "source": [
    "def word_is_found(text, word_to_search, start_pos, distance):\n",
    "    word_length = len(word_to_search)\n",
    "    word_in_text = equidistant_letter_seq(text, start_pos, word_length, distance)\n",
    "    return word_in_text == word_to_search"
   ]
  },
  {
   "cell_type": "markdown",
   "id": "d496a8bd",
   "metadata": {},
   "source": [
    "Genau - wir wollen die Funktion testen."
   ]
  },
  {
   "cell_type": "code",
   "execution_count": 10,
   "id": "7487d8c3",
   "metadata": {},
   "outputs": [
    {
     "data": {
      "text/plain": [
       "True"
      ]
     },
     "execution_count": 10,
     "metadata": {},
     "output_type": "execute_result"
    }
   ],
   "source": [
    "word_is_found(\"foo p y t h o n bar\", \"python\", 4, 2)"
   ]
  },
  {
   "cell_type": "markdown",
   "id": "98c59b96",
   "metadata": {},
   "source": [
    "### Der Fundort\n",
    "Wenn wir ein Wort gefunden haben, dann wollen wir uns dafür ein paar Dinge merken. Dafür verwenden wir eine ganz simple Klasse. Die Klasse soll das gefundene Wort, die Anfangsposition sowie die Distanz zwischen den Buchstaben speichern. Zudem soll die Klasse sich noch einfach über eine `print` Methode auf die Konsole ausgeben lassen."
   ]
  },
  {
   "cell_type": "code",
   "execution_count": 11,
   "id": "8b8ff7b8",
   "metadata": {},
   "outputs": [],
   "source": [
    "class WordOccurrence:\n",
    "    def __init__(self, word, pos, distance):\n",
    "        self.word = word\n",
    "        self.pos = pos\n",
    "        self.distance = distance\n",
    "        \n",
    "    def print(self):\n",
    "        print(\"found word \\\"{}\\\" at position {} with distance {}\".format(self.word, self.pos, self.distance))"
   ]
  },
  {
   "cell_type": "markdown",
   "id": "82d13160",
   "metadata": {},
   "source": [
    "Testen? - Na gut ...."
   ]
  },
  {
   "cell_type": "code",
   "execution_count": 12,
   "id": "0bbfde89",
   "metadata": {},
   "outputs": [
    {
     "name": "stdout",
     "output_type": "stream",
     "text": [
      "found word \"love\" at position 7 with distance 42\n"
     ]
    }
   ],
   "source": [
    "match = WordOccurrence(\"love\",7,42)\n",
    "match.print()"
   ]
  },
  {
   "cell_type": "markdown",
   "id": "fc3f69b1",
   "metadata": {},
   "source": [
    "### Suchen\n",
    "Jetzt können wir viele unserer Teile zusammenfügen und in einem Text alle vorkommen eines Wortes mit einer bestimmten Distanz zwischen den Buchstaben suchen."
   ]
  },
  {
   "cell_type": "code",
   "execution_count": 13,
   "id": "ef92d105",
   "metadata": {},
   "outputs": [],
   "source": [
    "def find_word_with_distance(text, word_to_search, distance):\n",
    "    occurences = []\n",
    "    possible_starting_locations = locate_char_in_text(text, word_to_search[0])\n",
    "    for start_position in possible_starting_locations:\n",
    "        if word_is_found(text, word_to_search, start_position, distance):\n",
    "            occurences.append(WordOccurrence(word_to_search, start_position, distance))\n",
    "    return occurences"
   ]
  },
  {
   "cell_type": "markdown",
   "id": "9cfdbeb4",
   "metadata": {},
   "source": [
    "Ok - sag nichts! Ich teste ja schon..."
   ]
  },
  {
   "cell_type": "code",
   "execution_count": 14,
   "id": "90a620cd",
   "metadata": {},
   "outputs": [
    {
     "name": "stdout",
     "output_type": "stream",
     "text": [
      "found word \"emknG\" at position 5 with distance 4\n"
     ]
    }
   ],
   "source": [
    "matches = find_word_with_distance(\"ein Text mit kleinen Geheimnissen\", \"emknG\", 4)\n",
    "matches[0].print()"
   ]
  },
  {
   "cell_type": "markdown",
   "id": "0b20a9a9",
   "metadata": {},
   "source": [
    "### Ausgabe"
   ]
  },
  {
   "cell_type": "markdown",
   "id": "f12e2942",
   "metadata": {},
   "source": [
    "Wir wollen noch die Ausgabe von einer Liste von gefundenen Wörtern vereinfachen. Dazu schreiben wir, genau, auch wider eine Funktion."
   ]
  },
  {
   "cell_type": "code",
   "execution_count": 15,
   "id": "07d8c883",
   "metadata": {},
   "outputs": [],
   "source": [
    "def print_occurences(found_occurences):\n",
    "    print(\"{} occurences found\".format(len(found_occurences)))\n",
    "    for word_info in found_occurences:\n",
    "        word_info.print()\n"
   ]
  },
  {
   "cell_type": "markdown",
   "id": "49299e7c",
   "metadata": {},
   "source": [
    "Testen obligatorisch!"
   ]
  },
  {
   "cell_type": "code",
   "execution_count": 16,
   "id": "00339cea",
   "metadata": {},
   "outputs": [
    {
     "name": "stdout",
     "output_type": "stream",
     "text": [
      "1 occurences found\n",
      "found word \"emknG\" at position 5 with distance 4\n"
     ]
    }
   ],
   "source": [
    "print_occurences(matches)"
   ]
  },
  {
   "cell_type": "markdown",
   "id": "a891c43d",
   "metadata": {},
   "source": [
    "### Die erste Anwendung\n",
    "Endlich können wir nun auch die Anwendung schreiben und nachschauen ob `corona` im text vorkommt."
   ]
  },
  {
   "cell_type": "code",
   "execution_count": 17,
   "id": "5df43f95",
   "metadata": {},
   "outputs": [
    {
     "name": "stdout",
     "output_type": "stream",
     "text": [
      "0 occurences found\n"
     ]
    }
   ],
   "source": [
    "text = load_preprocessed_text()\n",
    "word_to_find = \"corona\"\n",
    "distance = 2\n",
    "found_words = find_word_with_distance(text, word_to_find, distance)\n",
    "print_occurences(found_words)\n"
   ]
  },
  {
   "cell_type": "markdown",
   "id": "a1d1b98c",
   "metadata": {},
   "source": [
    "Wir können natürlich nicht nur nach Distanz 2, sondern nach beliebigen Distanzen suchen."
   ]
  },
  {
   "cell_type": "code",
   "execution_count": 18,
   "id": "4e721891",
   "metadata": {},
   "outputs": [
    {
     "name": "stdout",
     "output_type": "stream",
     "text": [
      "0 occurences found\n",
      "0 occurences found\n",
      "0 occurences found\n",
      "0 occurences found\n",
      "0 occurences found\n",
      "0 occurences found\n",
      "0 occurences found\n",
      "0 occurences found\n",
      "0 occurences found\n",
      "0 occurences found\n",
      "0 occurences found\n",
      "0 occurences found\n",
      "0 occurences found\n",
      "0 occurences found\n",
      "0 occurences found\n",
      "0 occurences found\n",
      "0 occurences found\n",
      "1 occurences found\n",
      "found word \"corona\" at position 2493083 with distance 19\n",
      "0 occurences found\n",
      "0 occurences found\n",
      "1 occurences found\n",
      "found word \"corona\" at position 1207766 with distance 22\n",
      "0 occurences found\n",
      "0 occurences found\n",
      "0 occurences found\n",
      "0 occurences found\n",
      "0 occurences found\n",
      "0 occurences found\n",
      "0 occurences found\n"
     ]
    }
   ],
   "source": [
    "text = load_preprocessed_text()\n",
    "word_to_find = \"corona\"\n",
    "#word_to_find = \"vetter\"\n",
    "#word_to_find = \"luethi\"\n",
    "#word_to_find = \"morel\"\n",
    "for dist in range(2,30):\n",
    "    found_words = find_word_with_distance(text, word_to_find, dist)\n",
    "    print_occurences(found_words)\n"
   ]
  },
  {
   "cell_type": "markdown",
   "id": "2953dd8e",
   "metadata": {},
   "source": [
    "## Die letzten Schritte\n",
    "\n",
    "Zuletzt interessiert es uns noch, was es denn überhaupt alles für Wörter gibt die als solche Equidistant Letter Sequences vorkommen. Dazu müssen wir ein Dictionary laden können. "
   ]
  },
  {
   "cell_type": "code",
   "execution_count": 19,
   "id": "a43a3f88",
   "metadata": {},
   "outputs": [],
   "source": [
    "def load_dictionary():\n",
    "    import json\n",
    "    f = open(\"dictionary.json\", \"r\")\n",
    "    dictionary = json.load(f)\n",
    "    f.close()\n",
    "    return dictionary"
   ]
  },
  {
   "cell_type": "markdown",
   "id": "5e3258d3",
   "metadata": {},
   "source": [
    "Wir schreiben uns nun noch eine etwas andere Suchfunktion um diese Aufgabe effizienter zu lösen."
   ]
  },
  {
   "cell_type": "code",
   "execution_count": 20,
   "id": "b1158768",
   "metadata": {},
   "outputs": [],
   "source": [
    "def find_all_words(text, dictionary, word_length, distance):\n",
    "    occurrences = []\n",
    "    for start_position in range(0,len(text)):\n",
    "        word = equidistant_letter_seq(text, start_position, word_length, distance)\n",
    "        if len(word) == word_length and word in dictionary:\n",
    "            occurrences.append(WordOccurrence(word, start_position, distance))\n",
    "    return occurrences"
   ]
  },
  {
   "cell_type": "markdown",
   "id": "256f74ed",
   "metadata": {},
   "source": [
    "Und die Finale Anwendung die uns alle gefundenen Wörter welche in einem Dictionary stehen rausschreibt."
   ]
  },
  {
   "cell_type": "code",
   "execution_count": 21,
   "id": "7aedaf5b",
   "metadata": {},
   "outputs": [
    {
     "name": "stdout",
     "output_type": "stream",
     "text": [
      "checking words of length 7 with distance 3 ...\n",
      "47 occurences found\n",
      "found word \"altaian\" at position 100008 with distance 3\n",
      "found word \"trenail\" at position 195355 with distance 3\n",
      "found word \"heronry\" at position 208074 with distance 3\n",
      "found word \"operant\" at position 246708 with distance 3\n",
      "found word \"amenage\" at position 364278 with distance 3\n",
      "found word \"sunniah\" at position 398706 with distance 3\n",
      "found word \"shatter\" at position 399362 with distance 3\n",
      "found word \"nowhere\" at position 406180 with distance 3\n",
      "found word \"rosette\" at position 406449 with distance 3\n",
      "found word \"lernean\" at position 455934 with distance 3\n",
      "found word \"seedman\" at position 476492 with distance 3\n",
      "found word \"roedeer\" at position 562206 with distance 3\n",
      "found word \"sanicle\" at position 607244 with distance 3\n",
      "found word \"spitted\" at position 694525 with distance 3\n",
      "found word \"reorder\" at position 788536 with distance 3\n",
      "found word \"fluegel\" at position 830085 with distance 3\n",
      "found word \"sistine\" at position 927796 with distance 3\n",
      "found word \"entitle\" at position 937278 with distance 3\n",
      "found word \"petunse\" at position 992391 with distance 3\n",
      "found word \"cnemial\" at position 1007238 with distance 3\n",
      "found word \"atrenne\" at position 1145457 with distance 3\n",
      "found word \"wheaten\" at position 1210138 with distance 3\n",
      "found word \"leisure\" at position 1274893 with distance 3\n",
      "found word \"decreer\" at position 1383360 with distance 3\n",
      "found word \"aeonian\" at position 1441844 with distance 3\n",
      "found word \"mistral\" at position 1465408 with distance 3\n",
      "found word \"lactone\" at position 1606141 with distance 3\n",
      "found word \"odorant\" at position 1638576 with distance 3\n",
      "found word \"sunbeam\" at position 1651760 with distance 3\n",
      "found word \"deitate\" at position 1661968 with distance 3\n",
      "found word \"spitter\" at position 1667853 with distance 3\n",
      "found word \"pianino\" at position 1718636 with distance 3\n",
      "found word \"testate\" at position 1731031 with distance 3\n",
      "found word \"danaite\" at position 1745207 with distance 3\n",
      "found word \"carotin\" at position 1747047 with distance 3\n",
      "found word \"duality\" at position 1800191 with distance 3\n",
      "found word \"mersion\" at position 1851130 with distance 3\n",
      "found word \"inherse\" at position 2037357 with distance 3\n",
      "found word \"annotto\" at position 2046820 with distance 3\n",
      "found word \"realist\" at position 2214040 with distance 3\n",
      "found word \"stutter\" at position 2271653 with distance 3\n",
      "found word \"alatern\" at position 2297909 with distance 3\n",
      "found word \"ensurer\" at position 2447751 with distance 3\n",
      "found word \"tangelo\" at position 2549048 with distance 3\n",
      "found word \"tangelo\" at position 2549174 with distance 3\n",
      "found word \"misterm\" at position 2604309 with distance 3\n",
      "found word \"candite\" at position 2621552 with distance 3\n",
      "checking words of length 7 with distance 4 ...\n",
      "70 occurences found\n",
      "found word \"bandlet\" at position 83894 with distance 4\n",
      "found word \"tachina\" at position 94570 with distance 4\n",
      "found word \"roseine\" at position 102177 with distance 4\n",
      "found word \"literal\" at position 106490 with distance 4\n",
      "found word \"enseint\" at position 134240 with distance 4\n",
      "found word \"protest\" at position 161530 with distance 4\n",
      "found word \"therein\" at position 172591 with distance 4\n",
      "found word \"orthite\" at position 178749 with distance 4\n",
      "found word \"etamine\" at position 355868 with distance 4\n",
      "found word \"rhodian\" at position 394555 with distance 4\n",
      "found word \"beltein\" at position 442897 with distance 4\n",
      "found word \"chooser\" at position 490971 with distance 4\n",
      "found word \"starchy\" at position 559319 with distance 4\n",
      "found word \"tosspot\" at position 596784 with distance 4\n",
      "found word \"deserve\" at position 596921 with distance 4\n",
      "found word \"cottise\" at position 610031 with distance 4\n",
      "found word \"thetine\" at position 661371 with distance 4\n",
      "found word \"leonese\" at position 670127 with distance 4\n",
      "found word \"uncharm\" at position 715650 with distance 4\n",
      "found word \"ensnare\" at position 718183 with distance 4\n",
      "found word \"earshot\" at position 732885 with distance 4\n",
      "found word \"essayer\" at position 738492 with distance 4\n",
      "found word \"atrenne\" at position 779852 with distance 4\n",
      "found word \"tetanin\" at position 792189 with distance 4\n",
      "found word \"thorite\" at position 815820 with distance 4\n",
      "found word \"finance\" at position 874635 with distance 4\n",
      "found word \"torcher\" at position 931944 with distance 4\n",
      "found word \"lademan\" at position 943211 with distance 4\n",
      "found word \"desport\" at position 974340 with distance 4\n",
      "found word \"vireton\" at position 984808 with distance 4\n",
      "found word \"latitat\" at position 1049054 with distance 4\n",
      "found word \"attrite\" at position 1063727 with distance 4\n",
      "found word \"remanet\" at position 1097402 with distance 4\n",
      "found word \"caution\" at position 1137636 with distance 4\n",
      "found word \"hattree\" at position 1138834 with distance 4\n",
      "found word \"abettor\" at position 1171070 with distance 4\n",
      "found word \"orderer\" at position 1279614 with distance 4\n",
      "found word \"staddle\" at position 1327579 with distance 4\n",
      "found word \"intense\" at position 1342122 with distance 4\n",
      "found word \"infarct\" at position 1392330 with distance 4\n",
      "found word \"delator\" at position 1402958 with distance 4\n",
      "found word \"linseed\" at position 1405655 with distance 4\n",
      "found word \"mantrap\" at position 1468062 with distance 4\n",
      "found word \"persant\" at position 1534338 with distance 4\n",
      "found word \"argolic\" at position 1615263 with distance 4\n",
      "found word \"minette\" at position 1651905 with distance 4\n",
      "found word \"dilator\" at position 1658233 with distance 4\n",
      "found word \"areolet\" at position 1739554 with distance 4\n",
      "found word \"inserve\" at position 1767475 with distance 4\n",
      "found word \"nonaged\" at position 1805805 with distance 4\n",
      "found word \"patcher\" at position 1855194 with distance 4\n",
      "found word \"eminent\" at position 1993055 with distance 4\n",
      "found word \"aigulet\" at position 2135429 with distance 4\n",
      "found word \"cephalo\" at position 2152169 with distance 4\n",
      "found word \"stunner\" at position 2187280 with distance 4\n",
      "found word \"fronton\" at position 2210532 with distance 4\n",
      "found word \"sneerer\" at position 2220946 with distance 4\n",
      "found word \"trustee\" at position 2223270 with distance 4\n",
      "found word \"baggily\" at position 2248219 with distance 4\n",
      "found word \"dottrel\" at position 2284714 with distance 4\n",
      "found word \"ciliate\" at position 2293914 with distance 4\n",
      "found word \"eastern\" at position 2315875 with distance 4\n",
      "found word \"starred\" at position 2402697 with distance 4\n",
      "found word \"tweedle\" at position 2515629 with distance 4\n",
      "found word \"paritor\" at position 2518563 with distance 4\n",
      "found word \"entrant\" at position 2538021 with distance 4\n",
      "found word \"honorer\" at position 2548100 with distance 4\n",
      "found word \"conusor\" at position 2579129 with distance 4\n",
      "found word \"reargue\" at position 2601954 with distance 4\n",
      "found word \"corneal\" at position 2606282 with distance 4\n",
      "checking words of length 7 with distance 5 ...\n",
      "64 occurences found\n",
      "found word \"osselet\" at position 20666 with distance 5\n",
      "found word \"sheenly\" at position 105728 with distance 5\n",
      "found word \"imagine\" at position 129448 with distance 5\n",
      "found word \"sweeten\" at position 155195 with distance 5\n",
      "found word \"ascians\" at position 162695 with distance 5\n",
      "found word \"methide\" at position 215472 with distance 5\n",
      "found word \"disrate\" at position 269572 with distance 5\n",
      "found word \"enarmed\" at position 388566 with distance 5\n",
      "found word \"starost\" at position 499420 with distance 5\n",
      "found word \"refiner\" at position 511789 with distance 5\n",
      "found word \"ethical\" at position 554049 with distance 5\n",
      "found word \"helenin\" at position 712216 with distance 5\n",
      "found word \"stooper\" at position 727540 with distance 5\n",
      "found word \"atrocha\" at position 780677 with distance 5\n",
      "found word \"dasheen\" at position 786743 with distance 5\n",
      "found word \"satiate\" at position 787194 with distance 5\n",
      "found word \"treater\" at position 802096 with distance 5\n",
      "found word \"dealing\" at position 814725 with distance 5\n",
      "found word \"tarrace\" at position 908460 with distance 5\n",
      "found word \"dreamer\" at position 911573 with distance 5\n",
      "found word \"eremite\" at position 919087 with distance 5\n",
      "found word \"hopeite\" at position 932522 with distance 5\n",
      "found word \"crowtoe\" at position 1001339 with distance 5\n",
      "found word \"pertuse\" at position 1014060 with distance 5\n",
      "found word \"chierte\" at position 1058705 with distance 5\n",
      "found word \"oddness\" at position 1088065 with distance 5\n",
      "found word \"regrede\" at position 1089852 with distance 5\n",
      "found word \"mastoid\" at position 1163395 with distance 5\n",
      "found word \"tontine\" at position 1168179 with distance 5\n",
      "found word \"friesic\" at position 1183217 with distance 5\n",
      "found word \"corvine\" at position 1185942 with distance 5\n",
      "found word \"wantage\" at position 1202221 with distance 5\n",
      "found word \"sainted\" at position 1224995 with distance 5\n",
      "found word \"ossicle\" at position 1241882 with distance 5\n",
      "found word \"senator\" at position 1297935 with distance 5\n",
      "found word \"lateran\" at position 1310742 with distance 5\n",
      "found word \"estrade\" at position 1319445 with distance 5\n",
      "found word \"storage\" at position 1335796 with distance 5\n",
      "found word \"dessert\" at position 1373272 with distance 5\n",
      "found word \"henfish\" at position 1433053 with distance 5\n",
      "found word \"cranial\" at position 1439327 with distance 5\n",
      "found word \"orsedue\" at position 1447922 with distance 5\n",
      "found word \"perrier\" at position 1477329 with distance 5\n",
      "found word \"histoid\" at position 1577872 with distance 5\n",
      "found word \"kalends\" at position 1607054 with distance 5\n",
      "found word \"meander\" at position 1717900 with distance 5\n",
      "found word \"grainer\" at position 1729089 with distance 5\n",
      "found word \"herblet\" at position 1730392 with distance 5\n",
      "found word \"thereof\" at position 1744228 with distance 5\n",
      "found word \"witness\" at position 1874895 with distance 5\n",
      "found word \"ansated\" at position 1875398 with distance 5\n",
      "found word \"angelic\" at position 1887310 with distance 5\n",
      "found word \"erasure\" at position 2007934 with distance 5\n",
      "found word \"oersted\" at position 2041179 with distance 5\n",
      "found word \"attaint\" at position 2088696 with distance 5\n",
      "found word \"scapula\" at position 2100784 with distance 5\n",
      "found word \"yokeage\" at position 2192314 with distance 5\n",
      "found word \"devoter\" at position 2223351 with distance 5\n",
      "found word \"spotted\" at position 2259813 with distance 5\n",
      "found word \"entheal\" at position 2270410 with distance 5\n",
      "found word \"iterate\" at position 2384344 with distance 5\n",
      "found word \"reinter\" at position 2402187 with distance 5\n",
      "found word \"cowfish\" at position 2554495 with distance 5\n",
      "found word \"figment\" at position 2604188 with distance 5\n",
      "checking words of length 7 with distance 6 ...\n"
     ]
    },
    {
     "name": "stdout",
     "output_type": "stream",
     "text": [
      "67 occurences found\n",
      "found word \"shittle\" at position 25381 with distance 6\n",
      "found word \"puttier\" at position 62020 with distance 6\n",
      "found word \"thistle\" at position 84105 with distance 6\n",
      "found word \"deflate\" at position 112170 with distance 6\n",
      "found word \"dottard\" at position 128236 with distance 6\n",
      "found word \"terreen\" at position 178021 with distance 6\n",
      "found word \"bounder\" at position 440023 with distance 6\n",
      "found word \"triolet\" at position 485882 with distance 6\n",
      "found word \"ichnite\" at position 490143 with distance 6\n",
      "found word \"witness\" at position 508107 with distance 6\n",
      "found word \"ternion\" at position 532744 with distance 6\n",
      "found word \"unclose\" at position 582270 with distance 6\n",
      "found word \"trehala\" at position 585629 with distance 6\n",
      "found word \"sarcous\" at position 638686 with distance 6\n",
      "found word \"dissect\" at position 769915 with distance 6\n",
      "found word \"niggler\" at position 772675 with distance 6\n",
      "found word \"heather\" at position 789757 with distance 6\n",
      "found word \"entheat\" at position 805362 with distance 6\n",
      "found word \"stoical\" at position 905004 with distance 6\n",
      "found word \"inosite\" at position 921125 with distance 6\n",
      "found word \"dantean\" at position 953392 with distance 6\n",
      "found word \"faceted\" at position 1003905 with distance 6\n",
      "found word \"belabor\" at position 1035788 with distance 6\n",
      "found word \"ottawas\" at position 1137536 with distance 6\n",
      "found word \"righter\" at position 1200306 with distance 6\n",
      "found word \"worsted\" at position 1218890 with distance 6\n",
      "found word \"seeress\" at position 1292331 with distance 6\n",
      "found word \"enteron\" at position 1324891 with distance 6\n",
      "found word \"eugenic\" at position 1331631 with distance 6\n",
      "found word \"inition\" at position 1334103 with distance 6\n",
      "found word \"vibrate\" at position 1370664 with distance 6\n",
      "found word \"tarweed\" at position 1416240 with distance 6\n",
      "found word \"attaste\" at position 1419395 with distance 6\n",
      "found word \"stroker\" at position 1462333 with distance 6\n",
      "found word \"retrude\" at position 1469116 with distance 6\n",
      "found word \"esparto\" at position 1506704 with distance 6\n",
      "found word \"annular\" at position 1659925 with distance 6\n",
      "found word \"trennel\" at position 1664678 with distance 6\n",
      "found word \"carotte\" at position 1686889 with distance 6\n",
      "found word \"depthen\" at position 1694971 with distance 6\n",
      "found word \"tessera\" at position 1726091 with distance 6\n",
      "found word \"adonean\" at position 1728686 with distance 6\n",
      "found word \"oeiliad\" at position 1828735 with distance 6\n",
      "found word \"delator\" at position 1944914 with distance 6\n",
      "found word \"thalian\" at position 1970220 with distance 6\n",
      "found word \"methane\" at position 1970480 with distance 6\n",
      "found word \"caseose\" at position 1998441 with distance 6\n",
      "found word \"lethean\" at position 2045853 with distance 6\n",
      "found word \"roulade\" at position 2063298 with distance 6\n",
      "found word \"handsel\" at position 2130527 with distance 6\n",
      "found word \"shooter\" at position 2178636 with distance 6\n",
      "found word \"terrier\" at position 2185523 with distance 6\n",
      "found word \"distent\" at position 2189420 with distance 6\n",
      "found word \"chessel\" at position 2302426 with distance 6\n",
      "found word \"tomtate\" at position 2312291 with distance 6\n",
      "found word \"present\" at position 2336145 with distance 6\n",
      "found word \"disband\" at position 2372056 with distance 6\n",
      "found word \"roedeer\" at position 2390497 with distance 6\n",
      "found word \"anywise\" at position 2394263 with distance 6\n",
      "found word \"trender\" at position 2422634 with distance 6\n",
      "found word \"saracen\" at position 2460584 with distance 6\n",
      "found word \"outhess\" at position 2494280 with distance 6\n",
      "found word \"attaste\" at position 2495546 with distance 6\n",
      "found word \"tannier\" at position 2501529 with distance 6\n",
      "found word \"inherit\" at position 2508655 with distance 6\n",
      "found word \"vestige\" at position 2586477 with distance 6\n",
      "found word \"latrant\" at position 2627141 with distance 6\n",
      "checking words of length 7 with distance 7 ...\n",
      "82 occurences found\n",
      "found word \"learned\" at position 49497 with distance 7\n",
      "found word \"mitosis\" at position 60663 with distance 7\n",
      "found word \"aetites\" at position 73176 with distance 7\n",
      "found word \"interne\" at position 154273 with distance 7\n",
      "found word \"shadily\" at position 180629 with distance 7\n",
      "found word \"sirenia\" at position 221841 with distance 7\n",
      "found word \"tontine\" at position 224462 with distance 7\n",
      "found word \"setness\" at position 244161 with distance 7\n",
      "found word \"estreat\" at position 282829 with distance 7\n",
      "found word \"turacou\" at position 318259 with distance 7\n",
      "found word \"eugenin\" at position 331097 with distance 7\n",
      "found word \"ragtime\" at position 351521 with distance 7\n",
      "found word \"hearted\" at position 358091 with distance 7\n",
      "found word \"detrect\" at position 358725 with distance 7\n",
      "found word \"herling\" at position 406590 with distance 7\n",
      "found word \"assegai\" at position 447799 with distance 7\n",
      "found word \"ramenta\" at position 480501 with distance 7\n",
      "found word \"nitrite\" at position 523591 with distance 7\n",
      "found word \"saltate\" at position 569645 with distance 7\n",
      "found word \"legator\" at position 597276 with distance 7\n",
      "found word \"certain\" at position 612580 with distance 7\n",
      "found word \"aileron\" at position 700008 with distance 7\n",
      "found word \"resiant\" at position 711496 with distance 7\n",
      "found word \"reenact\" at position 758198 with distance 7\n",
      "found word \"aporose\" at position 779206 with distance 7\n",
      "found word \"insight\" at position 783954 with distance 7\n",
      "found word \"oophore\" at position 866138 with distance 7\n",
      "found word \"tritone\" at position 909544 with distance 7\n",
      "found word \"elamite\" at position 919223 with distance 7\n",
      "found word \"wattled\" at position 950757 with distance 7\n",
      "found word \"dreader\" at position 1025089 with distance 7\n",
      "found word \"harrage\" at position 1032393 with distance 7\n",
      "found word \"tarweed\" at position 1045469 with distance 7\n",
      "found word \"storial\" at position 1066003 with distance 7\n",
      "found word \"scarlet\" at position 1070655 with distance 7\n",
      "found word \"paladin\" at position 1086836 with distance 7\n",
      "found word \"seorita\" at position 1092113 with distance 7\n",
      "found word \"shorage\" at position 1122351 with distance 7\n",
      "found word \"insense\" at position 1138212 with distance 7\n",
      "found word \"attrite\" at position 1167185 with distance 7\n",
      "found word \"oneness\" at position 1187748 with distance 7\n",
      "found word \"osteoid\" at position 1238923 with distance 7\n",
      "found word \"basenet\" at position 1250340 with distance 7\n",
      "found word \"sonance\" at position 1290841 with distance 7\n",
      "found word \"amnesia\" at position 1313707 with distance 7\n",
      "found word \"iterate\" at position 1389434 with distance 7\n",
      "found word \"felsite\" at position 1435429 with distance 7\n",
      "found word \"dentate\" at position 1454580 with distance 7\n",
      "found word \"hearten\" at position 1506015 with distance 7\n",
      "found word \"boorish\" at position 1524652 with distance 7\n",
      "found word \"ectasis\" at position 1549338 with distance 7\n",
      "found word \"amasser\" at position 1584345 with distance 7\n",
      "found word \"charras\" at position 1584425 with distance 7\n",
      "found word \"ootooid\" at position 1622309 with distance 7\n",
      "found word \"hodiern\" at position 1628163 with distance 7\n",
      "found word \"esthete\" at position 1634486 with distance 7\n",
      "found word \"theatre\" at position 1655373 with distance 7\n",
      "found word \"depress\" at position 1698685 with distance 7\n",
      "found word \"roseine\" at position 1745540 with distance 7\n",
      "found word \"leaflet\" at position 1756356 with distance 7\n",
      "found word \"heroine\" at position 1809539 with distance 7\n",
      "found word \"sainted\" at position 2022660 with distance 7\n",
      "found word \"patrist\" at position 2045585 with distance 7\n",
      "found word \"taunter\" at position 2058563 with distance 7\n",
      "found word \"modesty\" at position 2058994 with distance 7\n",
      "found word \"odorate\" at position 2075985 with distance 7\n",
      "found word \"maranta\" at position 2120879 with distance 7\n",
      "found word \"togated\" at position 2135258 with distance 7\n",
      "found word \"pentone\" at position 2160406 with distance 7\n",
      "found word \"instate\" at position 2161158 with distance 7\n",
      "found word \"harslet\" at position 2205775 with distance 7\n",
      "found word \"eastern\" at position 2369475 with distance 7\n",
      "found word \"aeronat\" at position 2390092 with distance 7\n",
      "found word \"relight\" at position 2492864 with distance 7\n",
      "found word \"mouther\" at position 2496576 with distance 7\n",
      "found word \"letheon\" at position 2498811 with distance 7\n",
      "found word \"opetide\" at position 2508806 with distance 7\n",
      "found word \"orphean\" at position 2538807 with distance 7\n",
      "found word \"ailment\" at position 2545579 with distance 7\n",
      "found word \"treadle\" at position 2551821 with distance 7\n",
      "found word \"snuggle\" at position 2618941 with distance 7\n",
      "found word \"testoon\" at position 2622194 with distance 7\n",
      "checking words of length 7 with distance 8 ...\n"
     ]
    },
    {
     "name": "stdout",
     "output_type": "stream",
     "text": [
      "58 occurences found\n",
      "found word \"readmit\" at position 40641 with distance 8\n",
      "found word \"shearer\" at position 72300 with distance 8\n",
      "found word \"trendle\" at position 270096 with distance 8\n",
      "found word \"attempt\" at position 300711 with distance 8\n",
      "found word \"reenact\" at position 337484 with distance 8\n",
      "found word \"whereso\" at position 360450 with distance 8\n",
      "found word \"lactate\" at position 367848 with distance 8\n",
      "found word \"stalder\" at position 378843 with distance 8\n",
      "found word \"seriate\" at position 402163 with distance 8\n",
      "found word \"melting\" at position 438434 with distance 8\n",
      "found word \"chogset\" at position 448835 with distance 8\n",
      "found word \"etesian\" at position 459073 with distance 8\n",
      "found word \"savanna\" at position 507835 with distance 8\n",
      "found word \"iterate\" at position 515779 with distance 8\n",
      "found word \"resinic\" at position 650279 with distance 8\n",
      "found word \"idioted\" at position 692385 with distance 8\n",
      "found word \"dissite\" at position 705034 with distance 8\n",
      "found word \"sharded\" at position 712551 with distance 8\n",
      "found word \"sienite\" at position 738307 with distance 8\n",
      "found word \"areolar\" at position 800432 with distance 8\n",
      "found word \"omicron\" at position 856905 with distance 8\n",
      "found word \"desirer\" at position 880304 with distance 8\n",
      "found word \"nitrose\" at position 923931 with distance 8\n",
      "found word \"scopate\" at position 928521 with distance 8\n",
      "found word \"instant\" at position 979007 with distance 8\n",
      "found word \"acclaim\" at position 995598 with distance 8\n",
      "found word \"ramline\" at position 1033659 with distance 8\n",
      "found word \"untooth\" at position 1104235 with distance 8\n",
      "found word \"moulten\" at position 1168169 with distance 8\n",
      "found word \"tuneful\" at position 1168506 with distance 8\n",
      "found word \"endorse\" at position 1174806 with distance 8\n",
      "found word \"dreinte\" at position 1185388 with distance 8\n",
      "found word \"dohtren\" at position 1260357 with distance 8\n",
      "found word \"cheapen\" at position 1272418 with distance 8\n",
      "found word \"saltern\" at position 1288219 with distance 8\n",
      "found word \"deplete\" at position 1303280 with distance 8\n",
      "found word \"fairish\" at position 1326620 with distance 8\n",
      "found word \"amniota\" at position 1506226 with distance 8\n",
      "found word \"desuete\" at position 1512058 with distance 8\n",
      "found word \"redhorn\" at position 1521083 with distance 8\n",
      "found word \"dowress\" at position 1561956 with distance 8\n",
      "found word \"farther\" at position 1643794 with distance 8\n",
      "found word \"insense\" at position 1663683 with distance 8\n",
      "found word \"booetes\" at position 1697428 with distance 8\n",
      "found word \"seether\" at position 1824778 with distance 8\n",
      "found word \"thermal\" at position 1878896 with distance 8\n",
      "found word \"shotten\" at position 2057342 with distance 8\n",
      "found word \"echelon\" at position 2146040 with distance 8\n",
      "found word \"reactor\" at position 2214138 with distance 8\n",
      "found word \"fretted\" at position 2375898 with distance 8\n",
      "found word \"thionol\" at position 2389962 with distance 8\n",
      "found word \"carnary\" at position 2390628 with distance 8\n",
      "found word \"retired\" at position 2397244 with distance 8\n",
      "found word \"sanhita\" at position 2423633 with distance 8\n",
      "found word \"oraison\" at position 2496488 with distance 8\n",
      "found word \"statute\" at position 2542335 with distance 8\n",
      "found word \"miniate\" at position 2549339 with distance 8\n",
      "found word \"asarone\" at position 2561678 with distance 8\n",
      "checking words of length 7 with distance 9 ...\n",
      "70 occurences found\n",
      "found word \"eristic\" at position 92010 with distance 9\n",
      "found word \"sticked\" at position 92037 with distance 9\n",
      "found word \"noetian\" at position 111778 with distance 9\n",
      "found word \"earnest\" at position 113539 with distance 9\n",
      "found word \"lernean\" at position 218314 with distance 9\n",
      "found word \"charter\" at position 234144 with distance 9\n",
      "found word \"stannum\" at position 262531 with distance 9\n",
      "found word \"stinger\" at position 278714 with distance 9\n",
      "found word \"vettura\" at position 308286 with distance 9\n",
      "found word \"terpene\" at position 312111 with distance 9\n",
      "found word \"rentage\" at position 358317 with distance 9\n",
      "found word \"indulto\" at position 367908 with distance 9\n",
      "found word \"relieve\" at position 427209 with distance 9\n",
      "found word \"arenose\" at position 435869 with distance 9\n",
      "found word \"carrier\" at position 455311 with distance 9\n",
      "found word \"scolder\" at position 535848 with distance 9\n",
      "found word \"ovarial\" at position 540579 with distance 9\n",
      "found word \"keratin\" at position 551454 with distance 9\n",
      "found word \"edenite\" at position 600085 with distance 9\n",
      "found word \"tarente\" at position 600737 with distance 9\n",
      "found word \"resiant\" at position 727165 with distance 9\n",
      "found word \"erinite\" at position 729458 with distance 9\n",
      "found word \"hestern\" at position 757728 with distance 9\n",
      "found word \"scalder\" at position 775458 with distance 9\n",
      "found word \"wreaken\" at position 805301 with distance 9\n",
      "found word \"elevate\" at position 843324 with distance 9\n",
      "found word \"sausage\" at position 854108 with distance 9\n",
      "found word \"brittle\" at position 867973 with distance 9\n",
      "found word \"rasante\" at position 927049 with distance 9\n",
      "found word \"pentose\" at position 957316 with distance 9\n",
      "found word \"acholia\" at position 957555 with distance 9\n",
      "found word \"ailette\" at position 1008122 with distance 9\n",
      "found word \"slatter\" at position 1065626 with distance 9\n",
      "found word \"diluted\" at position 1105007 with distance 9\n",
      "found word \"suasory\" at position 1129346 with distance 9\n",
      "found word \"setness\" at position 1146810 with distance 9\n",
      "found word \"ferrest\" at position 1230843 with distance 9\n",
      "found word \"noetian\" at position 1266537 with distance 9\n",
      "found word \"redwood\" at position 1269566 with distance 9\n",
      "found word \"mineral\" at position 1283995 with distance 9\n",
      "found word \"bernese\" at position 1315563 with distance 9\n",
      "found word \"inclave\" at position 1327244 with distance 9\n",
      "found word \"version\" at position 1346140 with distance 9\n",
      "found word \"advowee\" at position 1415508 with distance 9\n",
      "found word \"latchet\" at position 1432554 with distance 9\n",
      "found word \"asarone\" at position 1470800 with distance 9\n",
      "found word \"fleerer\" at position 1510089 with distance 9\n",
      "found word \"uralite\" at position 1514057 with distance 9\n",
      "found word \"paletot\" at position 1518944 with distance 9\n",
      "found word \"tentory\" at position 1603061 with distance 9\n",
      "found word \"latence\" at position 1654777 with distance 9\n",
      "found word \"righten\" at position 1727772 with distance 9\n",
      "found word \"rechase\" at position 1771117 with distance 9\n",
      "found word \"alunite\" at position 1828718 with distance 9\n",
      "found word \"plaided\" at position 1911662 with distance 9\n",
      "found word \"docetae\" at position 1914958 with distance 9\n",
      "found word \"tortile\" at position 1964989 with distance 9\n",
      "found word \"hessian\" at position 1968499 with distance 9\n",
      "found word \"enripen\" at position 2037818 with distance 9\n",
      "found word \"fiancee\" at position 2050757 with distance 9\n",
      "found word \"waltron\" at position 2087709 with distance 9\n",
      "found word \"repiner\" at position 2103034 with distance 9\n",
      "found word \"terrine\" at position 2160288 with distance 9\n",
      "found word \"emanant\" at position 2265937 with distance 9\n",
      "found word \"latrine\" at position 2427425 with distance 9\n",
      "found word \"sheriat\" at position 2431934 with distance 9\n",
      "found word \"codical\" at position 2488569 with distance 9\n",
      "found word \"beltane\" at position 2534457 with distance 9\n",
      "found word \"picrate\" at position 2541722 with distance 9\n",
      "found word \"sheitan\" at position 2612921 with distance 9\n",
      "checking words of length 8 with distance 3 ...\n",
      "3 occurences found\n",
      "found word \"hematoma\" at position 224367 with distance 3\n",
      "found word \"tethydan\" at position 824229 with distance 3\n",
      "found word \"oscinine\" at position 920755 with distance 3\n",
      "checking words of length 8 with distance 4 ...\n",
      "4 occurences found\n",
      "found word \"oratorio\" at position 423407 with distance 4\n",
      "found word \"aerolite\" at position 866327 with distance 4\n",
      "found word \"crannied\" at position 1737674 with distance 4\n",
      "found word \"hesitate\" at position 2061381 with distance 4\n",
      "checking words of length 8 with distance 5 ...\n",
      "5 occurences found\n",
      "found word \"entender\" at position 174061 with distance 5\n",
      "found word \"biometry\" at position 181727 with distance 5\n",
      "found word \"direness\" at position 1204932 with distance 5\n",
      "found word \"sepiment\" at position 1219818 with distance 5\n",
      "found word \"intonate\" at position 1271553 with distance 5\n",
      "checking words of length 8 with distance 6 ...\n"
     ]
    },
    {
     "name": "stdout",
     "output_type": "stream",
     "text": [
      "3 occurences found\n",
      "found word \"terzetto\" at position 1651408 with distance 6\n",
      "found word \"shekinah\" at position 1974959 with distance 6\n",
      "found word \"traiteur\" at position 2599228 with distance 6\n",
      "checking words of length 8 with distance 7 ...\n",
      "0 occurences found\n",
      "checking words of length 8 with distance 8 ...\n",
      "4 occurences found\n",
      "found word \"mootable\" at position 197271 with distance 8\n",
      "found word \"geminate\" at position 204999 with distance 8\n",
      "found word \"smelting\" at position 438426 with distance 8\n",
      "found word \"aposteme\" at position 1782739 with distance 8\n",
      "checking words of length 8 with distance 9 ...\n",
      "4 occurences found\n",
      "found word \"vegetate\" at position 581087 with distance 9\n",
      "found word \"utterest\" at position 1073577 with distance 9\n",
      "found word \"eversion\" at position 1346131 with distance 9\n",
      "found word \"eerisome\" at position 1564702 with distance 9\n",
      "checking words of length 9 with distance 3 ...\n",
      "0 occurences found\n",
      "checking words of length 9 with distance 4 ...\n",
      "1 occurences found\n",
      "found word \"editorial\" at position 2102863 with distance 4\n",
      "checking words of length 9 with distance 5 ...\n",
      "0 occurences found\n",
      "checking words of length 9 with distance 6 ...\n",
      "0 occurences found\n",
      "checking words of length 9 with distance 7 ...\n",
      "0 occurences found\n",
      "checking words of length 9 with distance 8 ...\n",
      "0 occurences found\n",
      "checking words of length 9 with distance 9 ...\n",
      "1 occurences found\n",
      "found word \"reversion\" at position 1346122 with distance 9\n",
      "checking words of length 10 with distance 3 ...\n",
      "0 occurences found\n",
      "checking words of length 10 with distance 4 ...\n",
      "0 occurences found\n",
      "checking words of length 10 with distance 5 ...\n",
      "0 occurences found\n",
      "checking words of length 10 with distance 6 ...\n",
      "0 occurences found\n",
      "checking words of length 10 with distance 7 ...\n",
      "0 occurences found\n",
      "checking words of length 10 with distance 8 ...\n",
      "0 occurences found\n",
      "checking words of length 10 with distance 9 ...\n",
      "0 occurences found\n",
      "checking words of length 11 with distance 3 ...\n",
      "0 occurences found\n",
      "checking words of length 11 with distance 4 ...\n",
      "0 occurences found\n",
      "checking words of length 11 with distance 5 ...\n",
      "0 occurences found\n",
      "checking words of length 11 with distance 6 ...\n",
      "0 occurences found\n",
      "checking words of length 11 with distance 7 ...\n",
      "0 occurences found\n",
      "checking words of length 11 with distance 8 ...\n",
      "0 occurences found\n",
      "checking words of length 11 with distance 9 ...\n",
      "0 occurences found\n"
     ]
    }
   ],
   "source": [
    "text = load_preprocessed_text()\n",
    "dictionary = load_dictionary()\n",
    "for l in range(7, 12):\n",
    "    for d in range(3, 10):\n",
    "        print(\"checking words of length {} with distance {} ...\".format(l,d))\n",
    "        found_words = find_all_words(text, dictionary, l, d)\n",
    "        print_occurences(found_words)\n"
   ]
  },
  {
   "cell_type": "code",
   "execution_count": null,
   "id": "22854a7b",
   "metadata": {},
   "outputs": [],
   "source": []
  },
  {
   "cell_type": "code",
   "execution_count": null,
   "id": "bdf358bf",
   "metadata": {},
   "outputs": [],
   "source": []
  }
 ],
 "metadata": {
  "kernelspec": {
   "display_name": "Python 3 (ipykernel)",
   "language": "python",
   "name": "python3"
  },
  "language_info": {
   "codemirror_mode": {
    "name": "ipython",
    "version": 3
   },
   "file_extension": ".py",
   "mimetype": "text/x-python",
   "name": "python",
   "nbconvert_exporter": "python",
   "pygments_lexer": "ipython3",
   "version": "3.7.4"
  },
  "toc": {
   "base_numbering": 1,
   "nav_menu": {},
   "number_sections": false,
   "sideBar": false,
   "skip_h1_title": false,
   "title_cell": "Table of Contents",
   "title_sidebar": "Contents",
   "toc_cell": false,
   "toc_position": {},
   "toc_section_display": false,
   "toc_window_display": false
  }
 },
 "nbformat": 4,
 "nbformat_minor": 5
}
