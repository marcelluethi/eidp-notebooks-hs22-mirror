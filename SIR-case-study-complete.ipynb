{
 "cells": [
  {
   "cell_type": "markdown",
   "id": "ba5b1899",
   "metadata": {},
   "source": [
    "# S.I.R. Modell\n",
    "\n",
    "Diese Case-Study ist eine vom Blog-post von Bhaskar Krishnamachari [1] sowie der Fallstudie aus dem Buch \"Learning Scientific Python\" von Christian Hill [2] inspiriert. \n",
    "\n"
   ]
  },
  {
   "cell_type": "markdown",
   "id": "109bb164",
   "metadata": {},
   "source": [
    "Das S.I.R Model ist ein klassischer Ansatz in der Epidemiologie zur Modellierung der Ausbreitung von Krankheiten mit Immunität. Jede Person wird dabei in eine von drei Gruppen eingeteilt:\n",
    "* Gruppe S (Susceptible): Nicht immune, gesunde Personen\n",
    "* Gruppe I (Infected): Infizierte Personen\n",
    "* Gruppe R (Recovered): Genesene (immunisierte) Personen\n",
    "\n",
    "Es werden folgende Annahmen gemacht:\n",
    "* Jede Person wird nur einmal infiziert und wird danach gesund oder stirbt\n",
    "* Infizierte sind sofort ansteckend\n",
    "* Die Infektionsrate ist konstant.\n",
    "* Die verstorbenen Personen werden wie die Immunisierten zu R gezählt. \n",
    "\n",
    "In der Simulation ist die Zeit in Tage diskretisiert und wir berechnen für aufeinander folgende Tage wie viele Menschen jeweils in der Gruppe S, I und R sind. Dies geschieht mit Differenzialgleichungen (einfache und vorgegebene Formeln) welche die Änderung der Anzahl Personen in den einzelnen Gruppen beschreiben. Wenn wir die Zahlen an einem Tag kennen, dann können wir die Änderungen welche zu erwarten sind mit den vorgegebenen Gleichungen berechnen. Dabei bezeichnet die berechnete Zahl $\\frac{dX}{dt}$ jeweils die Änderung der Grösse $X$ in einem Zeitschritt, also in unserer Simulation die Änderung in einem Tag. Der Wert am Folgetag ist dann einfach die Summe $X+\\frac{dX}{dt}$.\n",
    "\n",
    "Es gelten folgende Gleichungen\n",
    "$$\n",
    "\\begin{align}\n",
    "\\frac{dS}{dt} &= -\\beta \\frac{SI}{N}  \\\\\n",
    "\\frac{dI}{dt} &= \\beta \\frac{SI}{N} - \\gamma I  \\\\\n",
    "\\frac{dR}{dt} &= \\gamma I\n",
    "\\end{align}\n",
    "$$\n",
    "\n",
    "Dabei bezeichnet die Zahl $\\beta$ die Ansteckungsrate (wieviele Ansteckungen ein Fall pro Zeiteinheit verursacht) und die Zahl $\\gamma$ die Rate mit der sich infizierte erholen. Die Zahl $N = S + I + R$ bezeichnet die totale Anzahl Personen in der Simulation. Sie sehen, alle Gleichungen bestehen aus einfachen Produkten, Brüchen, Additionen, Subtraktionen bzw. dem Umkehren des Vorzeichens.\n"
   ]
  },
  {
   "cell_type": "markdown",
   "id": "f5f7cad4",
   "metadata": {},
   "source": [
    "Wir werden dieses Modell nun in Python simulieren, also die Berechnungen implementieren und dann wiederholt in einer Schleife anwenden um die Werte für eine bestimmte Anzahl Tage zu erhalten."
   ]
  },
  {
   "cell_type": "markdown",
   "id": "9ecbe1dd",
   "metadata": {},
   "source": [
    "#### Bibliotheken\n",
    "\n",
    "Um die Verläufe zu plotten nutzen wir wieder pyplot, welches wir mit der nächsten Zeile importieren. "
   ]
  },
  {
   "cell_type": "code",
   "execution_count": 1,
   "id": "db75f7fd",
   "metadata": {},
   "outputs": [],
   "source": [
    "from matplotlib.pyplot import *"
   ]
  },
  {
   "cell_type": "markdown",
   "id": "921ba614",
   "metadata": {},
   "source": [
    "#### Ein Schritt der Simulation"
   ]
  },
  {
   "cell_type": "markdown",
   "id": "91228f13",
   "metadata": {},
   "source": [
    "Wir schreiben uns als erstes eine Funktion, welche den aktuellen Zustand der Bevölkerung (beschrieben durch $S, I, R$) sowie die parameter $\\beta$ und $\\gamma$ entgegennimmt und uns eine Zeiteinheit simuliert. \n",
    "Als Zeiteinheit nehmen wir nun einen Tag. Der Rückgabewert ist der neue Zustand der Bevölkerung am nächsten Tag. "
   ]
  },
  {
   "cell_type": "code",
   "execution_count": 2,
   "id": "0731b64c",
   "metadata": {},
   "outputs": [],
   "source": [
    "# The SIR model differential equations.\n",
    "def nextDay(S, I, R, beta, gamma):\n",
    "    N = S + I + R\n",
    "    nextS = S - beta * S * I / N \n",
    "    nextI = I + beta * S * I / N - gamma * I\n",
    "    nextR = R + gamma * I\n",
    "    return (nextS, nextI, nextR)\n"
   ]
  },
  {
   "cell_type": "markdown",
   "id": "d54f4f3f",
   "metadata": {},
   "source": [
    "Nun können wir den Verlauf simulieren. Wir initialisieren die Parameter und rufen dann die Funktion ```nextDay``` innerhalb einer Schleife auf. In jedem Schleifendurchlauf wird ein Tag simuliert. \n",
    "Dabei speichern wir den jeweiligen Zustand in einer Liste, damit wir diesen am Ende visualisieren können. "
   ]
  },
  {
   "cell_type": "code",
   "execution_count": 3,
   "id": "89eab3f6",
   "metadata": {},
   "outputs": [
    {
     "data": {
      "image/png": "[encoded data removed]",
      "text/plain": [
       "<Figure size 432x288 with 1 Axes>"
      ]
     },
     "metadata": {
      "needs_background": "light"
     },
     "output_type": "display_data"
    }
   ],
   "source": [
    "N = 1000\n",
    "I = 1\n",
    "R = 0\n",
    "S = N - I - R\n",
    "beta = 0.2\n",
    "gamma = 1.0 / 12\n",
    "\n",
    "Ss = []\n",
    "Is = []\n",
    "Rs = []\n",
    "\n",
    "\n",
    "for i in range(1, 100):\n",
    "    (S, I, R) = nextDay(S, I, R, beta, gamma)\n",
    "    Ss.append(S)\n",
    "    Is.append(I)\n",
    "    Rs.append(R)\n",
    "\n",
    "plot(Ss, label= \"Susceptible\")\n",
    "plot(Is, label= \"Infected\")\n",
    "plot(Rs, label = \"Recovered\")\n",
    "legend()\n",
    "show()"
   ]
  },
  {
   "cell_type": "markdown",
   "id": "7c2bd0dd",
   "metadata": {},
   "source": [
    "### Referenzen\n",
    "1. [Bhaskar Krishnamachari - Simulating Covid-19 with 6 lines of code — the SIR epidemic model](https://medium.com/@bhaskark2/simulating-covid-19-in-6-lines-of-code-the-sir-epidemic-model-89aab118cb7b)\n",
    "2. [Christian Hill - Learning Scientific Programming with Python](https://scipython.com/book/chapter-8-scipy/additional-examples/the-sir-epidemic-model/)\n"
   ]
  },
  {
   "cell_type": "code",
   "execution_count": null,
   "id": "43ba7ba3",
   "metadata": {},
   "outputs": [],
   "source": []
  }
 ],
 "metadata": {
  "kernelspec": {
   "display_name": "Python 3 (ipykernel)",
   "language": "python",
   "name": "python3"
  },
  "language_info": {
   "codemirror_mode": {
    "name": "ipython",
    "version": 3
   },
   "file_extension": ".py",
   "mimetype": "text/x-python",
   "name": "python",
   "nbconvert_exporter": "python",
   "pygments_lexer": "ipython3",
   "version": "3.7.4"
  },
  "toc": {
   "base_numbering": 1,
   "nav_menu": {},
   "number_sections": false,
   "sideBar": false,
   "skip_h1_title": false,
   "title_cell": "Table of Contents",
   "title_sidebar": "Contents",
   "toc_cell": false,
   "toc_position": {},
   "toc_section_display": false,
   "toc_window_display": false
  }
 },
 "nbformat": 4,
 "nbformat_minor": 5
}
